{
 "cells": [
  {
   "cell_type": "code",
   "execution_count": null,
   "id": "03dd6fb7-a93b-437a-9957-ad2cd1be3cc8",
   "metadata": {},
   "outputs": [],
   "source": [
    "from fenics import *\n",
    "%matplotlib inline\n",
    "from mshr import *\n",
    "import matplotlib.pyplot as plt"
   ]
  },
  {
   "cell_type": "code",
   "execution_count": null,
   "id": "b0b81128-7c56-477b-9620-3112caff4d89",
   "metadata": {},
   "outputs": [],
   "source": [
    "C = Circle(Point(0,0), 1)\n",
    "mesh = generate_mesh(C,16)\n",
    "#mesh = UnitSquareMesh(16, 16)\n",
    "plot(mesh)"
   ]
  },
  {
   "cell_type": "code",
   "execution_count": null,
   "id": "346c23cc-7ec0-4c63-b7b1-8453998a7692",
   "metadata": {},
   "outputs": [],
   "source": [
    "# using mesh, function type, degree, how many component\n",
    "V = VectorFunctionSpace(mesh, \"P\", 1, 2)"
   ]
  },
  {
   "cell_type": "code",
   "execution_count": null,
   "id": "0a562537-981c-4f28-820a-dcd48994bd0b",
   "metadata": {},
   "outputs": [],
   "source": [
    "u = Function(V)\n",
    "un = Function(V)\n",
    "v = TestFunction(V)\n",
    "\n",
    "u1, u2 = split(u)\n",
    "u1n, u2n = split(un)\n",
    "v1, v2 = split(v)"
   ]
  },
  {
   "cell_type": "code",
   "execution_count": null,
   "id": "6c0c1d4b-0730-47c7-a7ce-bb7c7ded290a",
   "metadata": {},
   "outputs": [],
   "source": [
    "eps = Constant(0.1)\n",
    "dt = 0.01\n",
    "k = Constant(dt)\n",
    "K = Constant(10)\n",
    "\n",
    "x = SpatialCoordinate(mesh)\n",
    "beta = as_vector((-2.0*x[1], 2.0*x[0])) # Or you can use expression\n",
    "\n",
    "f1 = Expression('exp(-50.0*(pow(x[0]+0.75, 2)+ pow(x[1], 2)))', degree=2)\n",
    "f2 = Expression('exp(-50.0*(pow(x[0]-0.75, 2)+ pow(x[1], 2)))', degree=2)\n",
    "\n",
    "F = (((u1- u1n)/k)*v1 + dot(beta, grad(u1))*v1 + \\\n",
    "    eps*dot(grad(u1), grad(v1)))*dx +\\\n",
    "    (((u2- u2n)/k)*v2 + dot(beta, grad(u2))*v2 + \\\n",
    "    eps*dot(grad(u2), grad(v2)))*dx +\\\n",
    "    - (f1*v1 +f2*v2 - K*u1*u2**2*v1 - 2*K*u1*u2**2*v2)*dx"
   ]
  },
  {
   "cell_type": "code",
   "execution_count": null,
   "id": "226144d0-30f2-4824-a524-117e73616360",
   "metadata": {},
   "outputs": [],
   "source": [
    "num_steps = 100\n",
    "t = 0.0\n",
    "for n in range(num_steps):\n",
    "    # Update current time\n",
    "    t += dt\n",
    "    print(\"t = \", t)\n",
    "    \n",
    "    # Solve variational problem\n",
    "    solve(F == 0, u)\n",
    "    \n",
    "    # Save solution to file\n",
    "    _u1, _u2 = u.split()\n",
    "\n",
    "    p_1 = plot(_u1)\n",
    "    p_1.set_cmap(\"seismic\")\n",
    "    plt.title(\"U_1\")\n",
    "    plt.colorbar(p_1)   \n",
    "    plt.show()     \n",
    "    \n",
    "    \n",
    "    p_2 = plot(_u2)\n",
    "    p_2.set_cmap(\"seismic\")\n",
    "    plt.title(\"U_2\")\n",
    "    plt.colorbar(p_2)   \n",
    "    plt.show() \n",
    "#    file_u1 << _u1\n",
    "#    file_u2 << _u2\n",
    "    \n",
    "    # Update previous solution\n",
    "    un.assign(u)"
   ]
  },
  {
   "cell_type": "code",
   "execution_count": null,
   "id": "4674ae37-27b5-430f-a6ba-ea764f55805c",
   "metadata": {},
   "outputs": [],
   "source": []
  }
 ],
 "metadata": {
  "kernelspec": {
   "display_name": "Python 3 (ipykernel)",
   "language": "python",
   "name": "python3"
  },
  "language_info": {
   "codemirror_mode": {
    "name": "ipython",
    "version": 3
   },
   "file_extension": ".py",
   "mimetype": "text/x-python",
   "name": "python",
   "nbconvert_exporter": "python",
   "pygments_lexer": "ipython3",
   "version": "3.9.7"
  }
 },
 "nbformat": 4,
 "nbformat_minor": 5
}
