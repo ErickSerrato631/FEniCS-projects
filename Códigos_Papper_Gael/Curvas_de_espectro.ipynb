{
 "cells": [
  {
   "cell_type": "code",
   "execution_count": null,
   "metadata": {},
   "outputs": [],
   "source": [
    "import numpy as np\n",
    "import matplotlib.pyplot as plt\n",
    "import time\n",
    "from numba import njit, prange\n",
    "%matplotlib inline"
   ]
  },
  {
   "cell_type": "code",
   "execution_count": null,
   "metadata": {},
   "outputs": [],
   "source": [
    "def power(field, step, nb):\n",
    "    file_name = \"power\" + field + str(step) + \"_nb_\" + str(nb) + \".txt\"\n",
    "    file = np.loadtxt(file_name, float)\n",
    "    plt.plot(file, \"k-.\")\n",
    "    plt.xlabel(\"$k$\")\n",
    "    plt.ylabel(\"$P(k)$\")\n",
    "#    plt.show()"
   ]
  },
  {
   "cell_type": "code",
   "execution_count": null,
   "metadata": {},
   "outputs": [],
   "source": [
    "def max_power(field, step, nb):\n",
    "    file_name = \"power\" + field + str(step) + \"_nb_\" + str(nb) + \".txt\"\n",
    "    file = np.loadtxt(file_name, float)\n",
    "    kmax.append(np.max(file))\n",
    "#    print(np.max(file))"
   ]
  },
  {
   "cell_type": "markdown",
   "metadata": {},
   "source": [
    "$C({\\bf r},t)$"
   ]
  },
  {
   "cell_type": "code",
   "execution_count": null,
   "metadata": {},
   "outputs": [],
   "source": [
    "%cd ../..\n",
    "%cd Ro100_10000/blocks"
   ]
  },
  {
   "cell_type": "code",
   "execution_count": null,
   "metadata": {},
   "outputs": [],
   "source": [
    "end_step = 51\n",
    "end_blocks = 21\n",
    "field = \"_c_\"\n",
    "\n",
    "kmax=[]\n",
    "for step in range(0, end_step):\n",
    "    for nb in range(1,end_blocks):\n",
    "        max_power(field, step, nb)"
   ]
  },
  {
   "cell_type": "code",
   "execution_count": null,
   "metadata": {},
   "outputs": [],
   "source": [
    "end_step = 51\n",
    "field = \"_c_\"\n",
    "\n",
    "for step in range(0, end_step):\n",
    "    power(field, step, 7)\n",
    "plt.show()"
   ]
  },
  {
   "cell_type": "code",
   "execution_count": null,
   "metadata": {},
   "outputs": [],
   "source": [
    "end_step = 51\n",
    "end_blocks = 21\n",
    "kmax_time = np.reshape(kmaxc,(end_step, end_blocks-1))\n",
    "#print(kmax_time)"
   ]
  },
  {
   "cell_type": "code",
   "execution_count": null,
   "metadata": {},
   "outputs": [],
   "source": [
    "end_step = 51\n",
    "end_blocks = 21\n",
    "nlen = float(end_blocks)-1.0\n",
    "meanc10 = []\n",
    "stdvc10 = []\n",
    "for renglon in range(end_step):\n",
    "    #print(kmax_time[renglon])\n",
    "    prom = np.mean(kmax_time[renglon])\n",
    "    std  = np.std(kmax_time[renglon])\n",
    "    std  = std/(np.sqrt(nlen))\n",
    "    meanc10.append(prom)\n",
    "    stdvc10.append(std)\n",
    "#    print(\"promedio=\", prom)\n",
    "#    print(\"+/-\", std/(np.sqrt(nlen)) )"
   ]
  },
  {
   "cell_type": "code",
   "execution_count": null,
   "metadata": {},
   "outputs": [],
   "source": [
    "end_step = 51\n",
    "x = np.linspace(0,10000,end_step)\n",
    "plt.errorbar(x, meanc, yerr=stdvc, fmt=\".-\")\n",
    "#plt.errorbar(x, meanc, yerr=stdv, fmt=\".-\")\n",
    "plt.xlabel(\"$t$\")\n",
    "plt.ylabel(\"$P_{{max}}$\")\n",
    "plt.title(\"NPs, R=0.1\")\n",
    "plt.savefig(\"Pmax_vs_t_c_xy_R01.png\")\n",
    "plt.show()"
   ]
  },
  {
   "cell_type": "code",
   "execution_count": null,
   "metadata": {},
   "outputs": [],
   "source": [
    "end_step = 51\n",
    "#x = np.arange(end_step)\n",
    "x = np.linspace(0,10000,end_step)\n",
    "plt.errorbar(x, mean, yerr=stdv, fmt=\".-\")\n",
    "plt.xlabel(\"$t$\")\n",
    "plt.ylabel(\"$P_{{max}}$\")\n",
    "plt.title(\"NPs, R=0.1\")\n",
    "plt.yscale(\"log\")\n",
    "plt.savefig(\"Pmax_vs_t_c_xylog_R01.png\")\n",
    "plt.show()"
   ]
  },
  {
   "cell_type": "code",
   "execution_count": null,
   "metadata": {},
   "outputs": [],
   "source": [
    "end_step = 51\n",
    "#x = np.arange(end_step)\n",
    "x = np.linspace(0,10000,end_step)\n",
    "plt.errorbar(x, mean, yerr=stdv, fmt=\".-\")\n",
    "plt.xlabel(\"$t$\")\n",
    "plt.ylabel(\"$P_{{max}}$\")\n",
    "plt.title(\"NPs,R=0.1\")\n",
    "plt.yscale(\"log\")\n",
    "plt.xscale(\"log\")\n",
    "plt.savefig(\"Pmax_vs_t_c_xlogylog_R01.png\")\n",
    "plt.show()"
   ]
  },
  {
   "cell_type": "markdown",
   "metadata": {},
   "source": [
    "$S({\\bf r},t)$"
   ]
  },
  {
   "cell_type": "code",
   "execution_count": null,
   "metadata": {},
   "outputs": [],
   "source": [
    "end_step = 51\n",
    "end_blocks = 21\n",
    "field = \"_s_\"\n",
    "\n",
    "kmax=[]\n",
    "for step in range(0, end_step):\n",
    "    for nb in range(1,end_blocks):\n",
    "        max_power(field, step, nb)"
   ]
  },
  {
   "cell_type": "code",
   "execution_count": null,
   "metadata": {},
   "outputs": [],
   "source": [
    "end_step = 51\n",
    "field = \"_s_\"\n",
    "\n",
    "for step in range(0, end_step):\n",
    "    power(field, step, 20)\n",
    "plt.show()"
   ]
  },
  {
   "cell_type": "code",
   "execution_count": null,
   "metadata": {},
   "outputs": [],
   "source": [
    "end_step = 51\n",
    "end_blocks = 21\n",
    "kmax_time = np.reshape(kmax,(end_step, end_blocks-1))\n",
    "#print(kmax_time)"
   ]
  },
  {
   "cell_type": "code",
   "execution_count": null,
   "metadata": {},
   "outputs": [],
   "source": [
    "end_step = 51\n",
    "end_blocks = 21\n",
    "nlen = float(end_blocks)-1.0\n",
    "mean10 = []\n",
    "stdv10 = []\n",
    "for renglon in range(end_step):\n",
    "    #print(kmax_time[renglon])\n",
    "    prom = np.mean(kmax_time[renglon])\n",
    "    std  = np.std(kmax_time[renglon])\n",
    "    std  = std/(np.sqrt(nlen))\n",
    "    mean10.append(prom)\n",
    "    stdv10.append(std)\n",
    "    #print(\"promedio=\", prom)\n",
    "    #print(\"+/-\", std/(np.sqrt(nlen)) )"
   ]
  },
  {
   "cell_type": "code",
   "execution_count": null,
   "metadata": {},
   "outputs": [],
   "source": [
    "end_step = 51\n",
    "x = np.linspace(0,10000,end_step)\n",
    "plt.errorbar(x, meanc, yerr=stdvc, fmt=\"r--o\")\n",
    "plt.errorbar(x, mean, yerr=stdv, fmt=\"r-o\")\n",
    "plt.xlabel(\"$t$\")\n",
    "plt.ylabel(\"$P_{{max}}$\")\n",
    "#plt.title(\"S, R=0.1\")\n",
    "#plt.savefig(\"Pmax_vs_t_S_xy_R01.png\")\n",
    "plt.yscale(\"log\")\n",
    "plt.show()"
   ]
  },
  {
   "cell_type": "code",
   "execution_count": null,
   "metadata": {},
   "outputs": [],
   "source": [
    "end_step = 51\n",
    "x = np.linspace(0,10000,end_step)\n",
    "plt.errorbar(x, mean, yerr=stdv, fmt=\".-\")\n",
    "plt.xlabel(\"$t$\")\n",
    "plt.ylabel(\"$P_{{max}}$\")\n",
    "plt.title(\"S, R=0.1\")\n",
    "plt.yscale(\"log\")\n",
    "plt.savefig(\"Pmax_vs_t_S_xylog_R01.png\")\n",
    "plt.show()"
   ]
  },
  {
   "cell_type": "code",
   "execution_count": null,
   "metadata": {},
   "outputs": [],
   "source": [
    "end_step = 51\n",
    "x = np.linspace(0,10000,end_step)\n",
    "plt.errorbar(x, mean, yerr=stdv, fmt=\".-\")\n",
    "plt.xlabel(\"$t$\")\n",
    "plt.ylabel(\"$P_{{max}}$\")\n",
    "plt.title(\"S, R=0.1\")\n",
    "plt.yscale(\"log\")\n",
    "plt.xscale(\"log\")\n",
    "plt.savefig(\"Pmax_vs_t_S_xlogylog_R01.png\")\n",
    "plt.show()"
   ]
  },
  {
   "cell_type": "markdown",
   "metadata": {},
   "source": [
    "# Espectro de potencias"
   ]
  },
  {
   "cell_type": "markdown",
   "metadata": {},
   "source": [
    "## $R = 0.1$"
   ]
  },
  {
   "cell_type": "code",
   "execution_count": null,
   "metadata": {},
   "outputs": [],
   "source": []
  },
  {
   "cell_type": "code",
   "execution_count": null,
   "metadata": {},
   "outputs": [],
   "source": [
    "!ls -v Ro01_10000/blocks/power_*"
   ]
  },
  {
   "cell_type": "code",
   "execution_count": null,
   "metadata": {},
   "outputs": [],
   "source": [
    "def power_field(field, step, nb):\n",
    "    file_name = \"power_\" + field + \"_\" + str(step) + \"_nb_\" + str(nb) + \".txt\" \n",
    "    file_load = np.loadtxt(file_name, float)\n",
    "    plt.plot(file_load)\n",
    "    plt.xlabel(\"$k$\")\n",
    "    plt.ylabel(\"$P_\"+ field +\"(k)$\")\n",
    "#plt.show()"
   ]
  },
  {
   "cell_type": "code",
   "execution_count": null,
   "metadata": {},
   "outputs": [],
   "source": [
    "%cd Ro01_10000/blocks/\n",
    "!ls -v power*"
   ]
  },
  {
   "cell_type": "markdown",
   "metadata": {},
   "source": [
    "# $C({\\bf r}, t)$"
   ]
  },
  {
   "cell_type": "code",
   "execution_count": null,
   "metadata": {},
   "outputs": [],
   "source": [
    "for i in range(0,51):\n",
    "    power_field(\"c\", i, 7)\n",
    "plt.show()"
   ]
  },
  {
   "cell_type": "markdown",
   "metadata": {},
   "source": [
    "# $S({\\bf r}, t)$"
   ]
  },
  {
   "cell_type": "code",
   "execution_count": null,
   "metadata": {},
   "outputs": [],
   "source": [
    "for i in range(0,51):\n",
    "    power_field(\"s\", i, 7)\n",
    "plt.show()"
   ]
  },
  {
   "cell_type": "code",
   "execution_count": null,
   "metadata": {},
   "outputs": [],
   "source": [
    "def power_field_xlogy(field, step, nb):\n",
    "    file_name = \"power_\" + field + \"_\" + str(step) + \"_nb_\" + str(nb) + \".txt\" \n",
    "    file_load = np.loadtxt(file_name, float)\n",
    "    plt.semilogy(file_load)\n",
    "    plt.xlabel(\"$k$\")\n",
    "    plt.ylabel(\"$P_\"+ field +\"(k)$\")"
   ]
  },
  {
   "cell_type": "code",
   "execution_count": null,
   "metadata": {},
   "outputs": [],
   "source": [
    "for i in range(0,51):\n",
    "    power_field_xlogy(\"c\", i, 7)\n",
    "plt.show()"
   ]
  },
  {
   "cell_type": "code",
   "execution_count": null,
   "metadata": {},
   "outputs": [],
   "source": [
    "for i in range(0,51):\n",
    "    power_field_xlogy(\"s\", i, 7)\n",
    "plt.show()"
   ]
  },
  {
   "cell_type": "markdown",
   "metadata": {},
   "source": [
    "# $R = 1.0$"
   ]
  },
  {
   "cell_type": "code",
   "execution_count": null,
   "metadata": {},
   "outputs": [],
   "source": [
    "%cd Ro10_10000/blocks"
   ]
  },
  {
   "cell_type": "code",
   "execution_count": null,
   "metadata": {},
   "outputs": [],
   "source": [
    "!ls -v "
   ]
  },
  {
   "cell_type": "code",
   "execution_count": null,
   "metadata": {},
   "outputs": [],
   "source": [
    "for i in range(0,51):\n",
    "    power_field_xlogy(\"c\", i, 7)\n",
    "plt.show()"
   ]
  },
  {
   "cell_type": "code",
   "execution_count": null,
   "metadata": {},
   "outputs": [],
   "source": [
    "for i in range(0,51):\n",
    "    power_field_xlogy(\"s\", i, 7)\n",
    "plt.show()"
   ]
  },
  {
   "cell_type": "code",
   "execution_count": null,
   "metadata": {},
   "outputs": [],
   "source": [
    "%cd ../../Ro100_10000/blocks"
   ]
  },
  {
   "cell_type": "code",
   "execution_count": null,
   "metadata": {},
   "outputs": [],
   "source": [
    "for i in range(0,51):\n",
    "    power_field_xlogy(\"c\", i, 7)\n",
    "plt.show()"
   ]
  },
  {
   "cell_type": "code",
   "execution_count": null,
   "metadata": {},
   "outputs": [],
   "source": [
    "for i in range(0,51):\n",
    "    power_field_xlogy(\"s\", i, 7)\n",
    "plt.show()"
   ]
  },
  {
   "cell_type": "code",
   "execution_count": null,
   "metadata": {},
   "outputs": [],
   "source": [
    "end_step = 51\n",
    "x = np.linspace(0,10000,end_step)\n",
    "plt.errorbar(x, meanc, yerr=stdvc, fmt=\"r--o\")\n",
    "plt.errorbar(x, mean, yerr=stdv, fmt=\"r-o\")\n",
    "plt.errorbar(x, meanc10, yerr=stdvc10, fmt=\"b--o\")\n",
    "plt.errorbar(x, mean10, yerr=stdv10, fmt=\"b-o\")\n",
    "plt.xlabel(\"$t$\")\n",
    "plt.ylabel(\"$P_{{max}}$\")\n",
    "#plt.title(\"S, R=0.1\")\n",
    "#plt.savefig(\"Pmax_vs_t_S_xy_R01.png\")\n",
    "#plt.yscale(\"log\")\n",
    "plt.show()"
   ]
  },
  {
   "cell_type": "code",
   "execution_count": null,
   "metadata": {},
   "outputs": [],
   "source": []
  }
 ],
 "metadata": {
  "kernelspec": {
   "display_name": "Python 3 (ipykernel)",
   "language": "python",
   "name": "python3"
  },
  "language_info": {
   "codemirror_mode": {
    "name": "ipython",
    "version": 3
   },
   "file_extension": ".py",
   "mimetype": "text/x-python",
   "name": "python",
   "nbconvert_exporter": "python",
   "pygments_lexer": "ipython3",
   "version": "3.9.7"
  }
 },
 "nbformat": 4,
 "nbformat_minor": 4
}
