{
 "cells": [
  {
   "cell_type": "code",
   "execution_count": null,
   "metadata": {},
   "outputs": [],
   "source": [
    "import numpy as np\n",
    "import matplotlib.pyplot as plt\n",
    "import time\n",
    "%matplotlib inline"
   ]
  },
  {
   "cell_type": "code",
   "execution_count": null,
   "metadata": {},
   "outputs": [],
   "source": [
    "%cd scalar/R_01/blocks\n",
    "!ls -v matrix_*"
   ]
  },
  {
   "cell_type": "code",
   "execution_count": null,
   "metadata": {},
   "outputs": [],
   "source": [
    "def power_field(field, step):\n",
    "    file_name = \"power_\" + field + \"_\" + str(step) + \"_mean.txt\" \n",
    "    file_load = np.loadtxt(file_name, float)\n",
    "    plt.semilogy(file_load, \"--\")\n",
    "    plt.xlabel(\"$k$\")\n",
    "    plt.ylabel(\"$P_\"+ field +\"(k)$\")\n",
    "    #plt.legend([\"0\",\"200\",\"400\",\"600\",\"800\",\"1000\",\"4000\",\"10000\"])\n",
    "#    file_save = \"P_vs_k_\" + field + \".pdf\" \n",
    "#    plt.savefig(file_save, bbox_inches='tight')"
   ]
  },
  {
   "cell_type": "code",
   "execution_count": null,
   "metadata": {},
   "outputs": [],
   "source": [
    "end_step = 100\n",
    "# C\n",
    "for step in range(end_step):\n",
    "    power_field(\"s\", step)\n",
    "plt.show()"
   ]
  },
  {
   "cell_type": "code",
   "execution_count": null,
   "metadata": {},
   "outputs": [],
   "source": [
    "def power_field_inv(field, step):\n",
    "    file_name = \"power_\" + field + \"_\" + str(step) + \"_mean.txt\" \n",
    "    file_load = np.loadtxt(file_name, float)\n",
    "    file_inverse = np.fft.ifft(file_load)\n",
    "    #print(file_inverse)\n",
    "#    plt.semilogy(np.abs(file_inverse)-1e-4, \"--\")\n",
    "    plt.plot(np.abs(file_inverse), \"--\")\n",
    "    plt.xlabel(\"$r$\")\n",
    "    plt.xlim(0,30)\n",
    "    plt.ylabel(\"$P_\"+ field +\"(r)$\")"
   ]
  },
  {
   "cell_type": "code",
   "execution_count": null,
   "metadata": {},
   "outputs": [],
   "source": [
    "end_step = 100\n",
    "# C\n",
    "for step in range(end_step):\n",
    "    power_field_inv(\"c\", step)\n",
    "plt.show()\n",
    "\n",
    "for step in range(end_step):\n",
    "    power_field_inv(\"s\", step)\n",
    "plt.show()"
   ]
  },
  {
   "cell_type": "code",
   "execution_count": null,
   "metadata": {},
   "outputs": [],
   "source": [
    "ls -v matrix_c_100_nb_20.txt"
   ]
  },
  {
   "cell_type": "code",
   "execution_count": null,
   "metadata": {},
   "outputs": [],
   "source": [
    "c_time = np.loadtxt(\"matrix_c_100_nb_20.txt\", float)\n",
    "c_dft = np.fft.fft2(c_time)\n",
    "c_dft[0, 0] = 0.0      # Remove the first peak of Fourier coefficients\n",
    "c_dft = np.fft.fftshift(c_dft) # Shift to center of the spectrum\n",
    "Ac_dft = np.abs(c_dft) # Absolut value of Fou\n",
    "\n",
    "print(np.fft.ifftn(Ac_dft))"
   ]
  },
  {
   "cell_type": "code",
   "execution_count": null,
   "metadata": {},
   "outputs": [],
   "source": [
    "#plt.imshow(file**2-np.full((128, 128), 1e-4), cmap=plt.cm.gray)\n",
    "#plt.show()\n",
    "plt.imshow(c_time, cmap=plt.cm.gray)\n",
    "plt.show()\n",
    "#\n",
    "plt.imshow(Ac_dft**2-np.full((128, 128), 1e-4), cmap=plt.cm.seismic)\n",
    "plt.show()"
   ]
  },
  {
   "cell_type": "code",
   "execution_count": null,
   "metadata": {},
   "outputs": [],
   "source": [
    "file_fourier = np.fft.fft2(file)\n",
    "print(np.abs(file_fourier))"
   ]
  },
  {
   "cell_type": "code",
   "execution_count": null,
   "metadata": {},
   "outputs": [],
   "source": [
    "plt.imshow(np.abs(file_fourier), cmap=plt.cm.gray)\n",
    "plt.show()"
   ]
  },
  {
   "cell_type": "code",
   "execution_count": null,
   "metadata": {},
   "outputs": [],
   "source": [
    "c_time = np.loadtxt(\"matrix_c_100_nb_20.txt\", float)\n",
    "plt.imshow(np.corrcoef(c_time),cmap=plt.cm.gray)\n",
    "plt.show()"
   ]
  },
  {
   "cell_type": "code",
   "execution_count": null,
   "metadata": {},
   "outputs": [],
   "source": [
    "s_time = np.loadtxt(\"matrix_s_100_nb_20.txt\", float)\n",
    "plt.imshow(np.corrcoef(s_time),cmap=plt.cm.seismic)\n",
    "plt.show()"
   ]
  },
  {
   "cell_type": "code",
   "execution_count": null,
   "metadata": {},
   "outputs": [],
   "source": [
    "plt.imshow(np.corrcoef(c_time, s_time),cmap=plt.cm.seismic)\n",
    "plt.show()"
   ]
  },
  {
   "cell_type": "code",
   "execution_count": null,
   "metadata": {},
   "outputs": [],
   "source": [
    "archivo = np.loadtxt()"
   ]
  },
  {
   "cell_type": "code",
   "execution_count": null,
   "metadata": {},
   "outputs": [],
   "source": [
    "def field_mean_load(field, end_step, end_blocks):\n",
    "    for step in range(end_step+1):\n",
    "        final_file = 0.0\n",
    "        for nb in range(1, end_blocks+1):\n",
    "            file_name = \"matrix_\" + field +  \"_dft_\" + str(step) + \"_nb_\" + str(nb) + \".txt\"\n",
    "            file_load = np.loadtxt(file_name, float)\n",
    "            final_file += file_load\n",
    "        final_file = final_file/float(end_blocks)\n",
    "        print(\"step=\",step)\n",
    "        file_save = \"Fourier_space_mean_\" + field + \"_\" + str(step) + \".txt\" \n",
    "        np.savetxt(file_save, final_file, delimiter=\"\\t\")"
   ]
  },
  {
   "cell_type": "code",
   "execution_count": null,
   "metadata": {},
   "outputs": [],
   "source": [
    "field = \"s\"\n",
    "end_step = 100\n",
    "end_blocks = 20\n",
    "field_mean_load(field, end_step, end_blocks)"
   ]
  },
  {
   "cell_type": "code",
   "execution_count": null,
   "metadata": {},
   "outputs": [],
   "source": [
    "!ls -v Fourier_space_mean*"
   ]
  },
  {
   "cell_type": "code",
   "execution_count": null,
   "metadata": {},
   "outputs": [],
   "source": [
    "archivo = np.loadtxt(\"Fourier_space_mean_c_30.txt\", float)\n",
    "print(np.fft.irfft2(archivo))"
   ]
  },
  {
   "cell_type": "code",
   "execution_count": null,
   "metadata": {},
   "outputs": [],
   "source": [
    "plt.imshow(archivo**2)"
   ]
  },
  {
   "cell_type": "code",
   "execution_count": null,
   "metadata": {},
   "outputs": [],
   "source": []
  }
 ],
 "metadata": {
  "kernelspec": {
   "display_name": "Python 3 (ipykernel)",
   "language": "python",
   "name": "python3"
  },
  "language_info": {
   "codemirror_mode": {
    "name": "ipython",
    "version": 3
   },
   "file_extension": ".py",
   "mimetype": "text/x-python",
   "name": "python",
   "nbconvert_exporter": "python",
   "pygments_lexer": "ipython3",
   "version": "3.9.7"
  }
 },
 "nbformat": 4,
 "nbformat_minor": 4
}
