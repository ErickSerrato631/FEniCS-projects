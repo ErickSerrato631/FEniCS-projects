{
 "cells": [
  {
   "cell_type": "code",
   "execution_count": null,
   "metadata": {},
   "outputs": [],
   "source": [
    "import numpy as np\n",
    "import matplotlib.pyplot as plt\n",
    "import time\n",
    "from numba import njit, prange\n",
    "%matplotlib inline"
   ]
  },
  {
   "cell_type": "code",
   "execution_count": null,
   "metadata": {},
   "outputs": [],
   "source": [
    "def power_spectrum(x, step, dx, field, nblock):\n",
    "    \n",
    "    n = len(x)    \n",
    "    dk = 2.0*np.pi/(len(x)*dx)\n",
    "    p = np.zeros(int(n/2))\n",
    "     \n",
    "    for i in range(1,int(n/2)): \n",
    "        k = dk*i\n",
    "        \n",
    "        suma = 0.\n",
    "        dtheta = np.pi/90. # two degrees\n",
    "        \n",
    "        for j in range (1,180):\n",
    "            theta = j * dtheta\n",
    "            \n",
    "            nx = int( k*np.cos(theta)/dk - n/2)\n",
    "            ny = int( k*np.sin(theta)/dk - n/2)\n",
    "            \n",
    "            suma += x[nx,ny] \n",
    "            \n",
    "        p[i] = suma/180.\n",
    "        \n",
    "    filename = \"power_\" + field + \"_\" + str(step) + \"_nb_\" + str(nblock)  + \".txt\"         \n",
    "    np.savetxt(filename, p, delimiter=\"\\n\")"
   ]
  },
  {
   "cell_type": "code",
   "execution_count": null,
   "metadata": {},
   "outputs": [],
   "source": [
    "end_step = 100\n",
    "end_block = 2\n",
    "dx=1.0\n",
    "\n",
    "t0 = time.time()\n",
    "for nb in range(1, end_block):\n",
    "    print(\"nb=\",nb)\n",
    "    for step in range(0,end_step):\n",
    "        print(\"step=\",step)\n",
    "        c_files = \"matrix_c_\" + str(step) + \"_nb_\" + str(nb) + \".txt\" \n",
    "        c_time  = np.loadtxt(c_files, float)\n",
    "        \n",
    "        c_dft = np.fft.fft2(c_time)\n",
    "        c_dft[0, 0] = 0.0      # Remove the first peak of Fourier coefficients\n",
    "        c_dft = np.fft.fftshift(c_dft) # Shift to center of the spectrum\n",
    "        Ac_dft = np.abs(c_dft) # Absolut value of Fourier coefficients   \n",
    "    \n",
    "        power_spectrum(Ac_dft, step, dx, \"c\", nb)\n",
    "        \n",
    "        conc_dft_file = \"matrix\" + \"_c_dft_\" + str(step) + \"_nb_\" + str(nb) + \".txt\"\n",
    "        np.savetxt(conc_dft_file, Ac_dft, delimiter=\"\\t\")\n",
    "        \n",
    "        plt.imshow(Ac_dft, cmap=plt.cm.seismic)\n",
    "        plt.show()\n",
    "tf = time.time()\n",
    "print(tf-t0)"
   ]
  },
  {
   "cell_type": "code",
   "execution_count": null,
   "metadata": {},
   "outputs": [],
   "source": [
    "end_step = 100\n",
    "end_block = 2\n",
    "dx = 1.0\n",
    "\n",
    "t0 = time.time()\n",
    "\n",
    "for nb in range(1, end_block):\n",
    "    print(\"nb=\",nb)\n",
    "    for step in range(0,end_step):\n",
    "        print(\"step=\",step)\n",
    "        s_files = \"matrix_s_\" + str(step) + \"_nb_\" + str(nb) + \".txt\" \n",
    "        s_time  = np.loadtxt(s_files, float)\n",
    "        \n",
    "        s_dft = np.fft.fft2(s_time)\n",
    "        s_dft[0, 0] = 0.0      # Remove the first peak of Fourier coefficients\n",
    "        s_dft = np.fft.fftshift(s_dft) # Shift to center of the spectrum\n",
    "        As_dft = np.abs(s_dft) # Absolut value of Fourier coefficients   \n",
    "    \n",
    "        power_spectrum(As_dft, step, dx, \"s\", nb)\n",
    "        \n",
    "        order_dft_file = \"matrix\" + \"_s_dft_\" + str(step) + \"_nb_\" + str(nb) + \".txt\"\n",
    "        np.savetxt(order_dft_file, As_dft, delimiter=\"\\t\")\n",
    "        \n",
    "        plt.imshow(As_dft, cmap=plt.cm.seismic)\n",
    "        plt.show()\n",
    "tf = time.time()\n",
    "print(tf-t0)"
   ]
  },
  {
   "cell_type": "code",
   "execution_count": null,
   "metadata": {},
   "outputs": [],
   "source": []
  }
 ],
 "metadata": {
  "kernelspec": {
   "display_name": "Python 3 (ipykernel)",
   "language": "python",
   "name": "python3"
  },
  "language_info": {
   "codemirror_mode": {
    "name": "ipython",
    "version": 3
   },
   "file_extension": ".py",
   "mimetype": "text/x-python",
   "name": "python",
   "nbconvert_exporter": "python",
   "pygments_lexer": "ipython3",
   "version": "3.9.7"
  }
 },
 "nbformat": 4,
 "nbformat_minor": 4
}
