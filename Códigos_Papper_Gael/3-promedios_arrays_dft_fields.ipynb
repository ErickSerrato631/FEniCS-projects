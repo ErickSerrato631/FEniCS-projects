{
 "cells": [
  {
   "cell_type": "code",
   "execution_count": null,
   "metadata": {},
   "outputs": [],
   "source": [
    "import numpy as np\n",
    "import matplotlib.pyplot as plt\n",
    "import time\n",
    "from numba import njit, prange\n",
    "%matplotlib inline"
   ]
  },
  {
   "cell_type": "code",
   "execution_count": null,
   "metadata": {},
   "outputs": [],
   "source": [
    "#!ls -v matrix_s_*"
   ]
  },
  {
   "cell_type": "code",
   "execution_count": null,
   "metadata": {},
   "outputs": [],
   "source": [
    "def image_mean(field, end_step, end_blocks):\n",
    "    for step in range(end_step+1):\n",
    "        final_file = 0.0\n",
    "        for nb in range(1, end_blocks+1):\n",
    "            file_name = \"matrix_\" + field +  \"_dft_\" + str(step) + \"_nb_\" + str(nb) + \".txt\"\n",
    "            file_load = np.loadtxt(file_name, float)\n",
    "            final_file += file_load\n",
    "        final_file = final_file/float(end_blocks)\n",
    "        print(\"step=\",step)\n",
    "        \n",
    "        f_save = \"FFT_\" + field + \"_\" + str(step) + \".txt\"\n",
    "        np.savetxt(f_save, final_file, delimiter=\"\\t\")\n",
    "        \n",
    "        plt.imshow(final_file, cmap=plt.cm.seismic)\n",
    "        plt.colorbar()\n",
    "        plt.show()"
   ]
  },
  {
   "cell_type": "code",
   "execution_count": null,
   "metadata": {},
   "outputs": [],
   "source": [
    "end_step = 99\n",
    "end_blocks = 1\n",
    "#\n",
    "for field in [\"c\", \"s\"]:# en el caso tensorial se incluye , \"theta\"]:\n",
    "    print(field)\n",
    "    image_mean(field, end_step, end_blocks)"
   ]
  },
  {
   "cell_type": "code",
   "execution_count": null,
   "metadata": {},
   "outputs": [],
   "source": []
  }
 ],
 "metadata": {
  "kernelspec": {
   "display_name": "Python 3 (ipykernel)",
   "language": "python",
   "name": "python3"
  },
  "language_info": {
   "codemirror_mode": {
    "name": "ipython",
    "version": 3
   },
   "file_extension": ".py",
   "mimetype": "text/x-python",
   "name": "python",
   "nbconvert_exporter": "python",
   "pygments_lexer": "ipython3",
   "version": "3.9.7"
  }
 },
 "nbformat": 4,
 "nbformat_minor": 4
}
