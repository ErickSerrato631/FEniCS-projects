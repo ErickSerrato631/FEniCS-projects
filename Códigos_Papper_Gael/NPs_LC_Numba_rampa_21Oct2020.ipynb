{
 "cells": [
  {
   "cell_type": "code",
   "execution_count": null,
   "metadata": {},
   "outputs": [],
   "source": [
    "import numpy as np\n",
    "import matplotlib.pyplot as plt\n",
    "import time\n",
    "from numba import njit, prange"
   ]
  },
  {
   "cell_type": "code",
   "execution_count": null,
   "metadata": {},
   "outputs": [],
   "source": [
    "@njit\n",
    "def laplacian2D(Z,dx,dy):\n",
    "\n",
    "    center  = Z[1:-1, 1:-1]\n",
    "    \n",
    "    w   = Z[0:-2, 1:-1]\n",
    "    e   = Z[2:  , 1:-1]   \n",
    "    n   = Z[1:-1, 2:  ]\n",
    "    s   = Z[1:-1, 0:-2]\n",
    "    \n",
    "    ne  = Z[2:  , 2:  ]\n",
    "    nw  = Z[0:-2, 2:  ] \n",
    "    se  = Z[2:, 0:-2]\n",
    "    sw  = Z[0:-2, 0:-2]\n",
    "    \n",
    "    dif2 = (w+e+n+s)/6.0 + (ne+nw+se+sw)/12.0 \n",
    "    dif2 = dif2 - center\n",
    "    \n",
    "    dif2 = dif2/dx**2\n",
    "    return dif2\n",
    "\n",
    "@njit    \n",
    "def PBC(Z):\n",
    "    Z[0,:]  = Z[-2,:]\n",
    "    Z[-1,:] = Z[1,:]\n",
    "    Z[:,0]  = Z[:,-2]\n",
    "    Z[:,-1] = Z[:,1]\n",
    "    Z[-2,:] = Z[0,:]\n",
    "    Z[0,:]  = Z[-1,:]\n",
    "    return Z\n",
    "\n",
    "@njit\n",
    "def NMC(Z):\n",
    "    Z[0,:] = Z[1,:]\n",
    "    Z[-1,:] = Z[-2,:]\n",
    "    Z[:,0] = Z[:,1]\n",
    "    Z[:,-1] = Z[:,-2]\n",
    "    return Z\n",
    "\n",
    "@njit\n",
    "def HS(c):\n",
    "    return c*(3*c**2 - 9*c + 8)/((1-c)**3)"
   ]
  },
  {
   "cell_type": "code",
   "execution_count": null,
   "metadata": {},
   "outputs": [],
   "source": [
    "@njit(parallel=True)\n",
    "def solve_dynamics(s, c, dx, dy, dt, n, T, R, alpha, r):\n",
    "    for i in prange(n):\n",
    "        aux = c + alpha * s**2 \n",
    "        nabla2_aux = laplacian2D(aux,dx,dy)\n",
    "        nabla2_s = laplacian2D(s,dx,dy)\n",
    " \n",
    "        cc = c[1:-1,1:-1]\n",
    "        sc = s[1:-1,1:-1]\n",
    "        \n",
    "        s[1:-1,1:-1] = sc + dt*(nabla2_s - r*sc - sc**3 - sc*cc)\n",
    "        c[1:-1,1:-1] = cc + dt * R * nabla2_aux\n",
    "        \n",
    "        for x in (s,c):\n",
    "            PBC(x)"
   ]
  },
  {
   "cell_type": "code",
   "execution_count": null,
   "metadata": {},
   "outputs": [],
   "source": [
    "def save_fields(s, c, step, nb):\n",
    "    LC_file = \"matrix\" + \"_s_\" + str(step) + \"_nb_\" + str(nb) + \".txt\"\n",
    "    np.savetxt(LC_file, s, delimiter=\"\\t\")\n",
    "    \n",
    "    NPs_file = \"matrix\" + \"_c_\" + str(step) + \"_nb_\" + str(nb) + \".txt\"\n",
    "    np.savetxt(NPs_file, c, delimiter=\"\\t\")"
   ]
  },
  {
   "cell_type": "code",
   "execution_count": null,
   "metadata": {},
   "outputs": [],
   "source": [
    "N=128\n",
    "\n",
    "dx = 1.0\n",
    "dy = dx\n",
    "T = 1\n",
    "dt = 0.01\n",
    "n = int(T/dt)\n",
    "print(n)\n",
    "\n",
    "R = 0.10\n",
    "alpha = 0.05\n",
    "r = -1.0\n",
    "\n",
    "nb = 21 #numero de bloques\n",
    "\n",
    "#plt.imshow(c, cmap=plt.cm.gray)\n",
    "#plt.show()\n",
    "        \n",
    "t0 = time.time()\n",
    "for block in range(1, nb):\n",
    "    c = np.random.uniform(0.009, 0.011,  (N, N))\n",
    "    s = np.random.uniform(-0.001, 0.001, (N, N))\n",
    "    for x in (s,c):\n",
    "        PBC(x)\n",
    "    save_fields(s, c, 0, block)\n",
    "    for i in range(1,101):\n",
    "        solve_dynamics(s, c, dx, dy, dt, n, T, R, alpha, r)\n",
    "        save_fields(s, c, i, block)\n",
    "tf = time.time()\n",
    "\n",
    "plt.imshow(c, cmap=plt.cm.gray)\n",
    "plt.show()\n",
    "\n",
    "Deltat = tf-t0\n",
    "print(\"Tiempo real (s) (min) (hrs): \", Deltat, Deltat/60, Deltat/3600)"
   ]
  },
  {
   "cell_type": "code",
   "execution_count": null,
   "metadata": {},
   "outputs": [],
   "source": []
  }
 ],
 "metadata": {
  "kernelspec": {
   "display_name": "Python 3 (ipykernel)",
   "language": "python",
   "name": "python3"
  },
  "language_info": {
   "codemirror_mode": {
    "name": "ipython",
    "version": 3
   },
   "file_extension": ".py",
   "mimetype": "text/x-python",
   "name": "python",
   "nbconvert_exporter": "python",
   "pygments_lexer": "ipython3",
   "version": "3.9.7"
  }
 },
 "nbformat": 4,
 "nbformat_minor": 4
}
