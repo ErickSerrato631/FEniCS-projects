{
 "cells": [
  {
   "cell_type": "code",
   "execution_count": null,
   "metadata": {},
   "outputs": [],
   "source": [
    "import numpy as np\n",
    "import matplotlib.pyplot as plt\n",
    "import time\n",
    "from numba import njit, prange"
   ]
  },
  {
   "cell_type": "code",
   "execution_count": null,
   "metadata": {},
   "outputs": [],
   "source": [
    "%cd ../../\n",
    "#%cd R_100/blocks\n",
    "%cd /home/erick/Desktop/imagenes_papper/Tensor2D\n",
    "!ls -v *"
   ]
  },
  {
   "cell_type": "code",
   "execution_count": null,
   "metadata": {},
   "outputs": [],
   "source": [
    "def visual_save(field, nb, end_step, color):    \n",
    "    print(\"nb=\", nb)\n",
    "    for step in range(0, end_step):\n",
    "        print(\"step=\", step)\n",
    "        file_name = \"matrix\" + field + str(step) + \"_nb_\" + str(nb) + \".txt\" \n",
    "        file_time  = np.loadtxt(file_name, float)\n",
    "        plt.imshow(file_time, cmap=color)\n",
    "        plt.colorbar()\n",
    "        save_file = \"Real\" + field + str(step) + \"_nb_\" + str(nb) + \".jpg\"\n",
    "        plt.savefig(save_file, bbox_inches='tight')\n",
    "        plt.show()"
   ]
  },
  {
   "cell_type": "code",
   "execution_count": null,
   "metadata": {},
   "outputs": [],
   "source": [
    "field = \"_c_\"\n",
    "nb = 1\n",
    "end_step = 1001\n",
    "color = plt.cm.gray\n",
    "\n",
    "t0 = time.time()\n",
    "visual_save(field, nb, end_step, color)\n",
    "tf = time.time()\n",
    "print(tf-t0)"
   ]
  },
  {
   "cell_type": "code",
   "execution_count": null,
   "metadata": {},
   "outputs": [],
   "source": [
    "field = \"_s_\"\n",
    "nb = 1\n",
    "end_step = 1001\n",
    "color = plt.cm.seismic\n",
    "\n",
    "t0 = time.time()\n",
    "visual_save(field, nb, end_step, color)\n",
    "tf = time.time()\n",
    "print(tf-t0)"
   ]
  },
  {
   "cell_type": "code",
   "execution_count": null,
   "metadata": {},
   "outputs": [],
   "source": [
    "field = \"_theta_\"\n",
    "nb = 1\n",
    "end_step = 1001\n",
    "color = plt.cm.twilight_shifted\n",
    "\n",
    "t0 = time.time()\n",
    "visual_save(field, nb, end_step, color)\n",
    "tf = time.time()\n",
    "print(tf-t0)"
   ]
  },
  {
   "cell_type": "code",
   "execution_count": null,
   "metadata": {},
   "outputs": [],
   "source": [
    "!pwd"
   ]
  },
  {
   "cell_type": "code",
   "execution_count": null,
   "metadata": {},
   "outputs": [],
   "source": [
    "%cd alpha_005MX\n"
   ]
  },
  {
   "cell_type": "code",
   "execution_count": null,
   "metadata": {},
   "outputs": [],
   "source": [
    "directories = [\"Ro01_10000\", \"Ro100_10000\"]\n",
    "field = \"_c_\"\n",
    "nb = 7\n",
    "end_step = 11\n",
    "color = plt.cm.gray\n",
    "\n",
    "t0 = time.time()    \n",
    "for dire in directories:\n",
    "    print(dire)\n",
    "    %cd {dire}\n",
    "    visual_save(field, nb, end_step, color)\n",
    "    %cd ../\n",
    "    \n",
    "tf = time.time()\n",
    "print(tf-t0)"
   ]
  },
  {
   "cell_type": "code",
   "execution_count": null,
   "metadata": {},
   "outputs": [],
   "source": [
    "directories = [\"Ro01_10000\", \"Ro100_10000\"]\n",
    "field = \"_s_\"\n",
    "nb = 7\n",
    "end_step = 1001\n",
    "color = plt.cm.seismic\n",
    "\n",
    "t0 = time.time()    \n",
    "for dire in directories:\n",
    "    print(dire)\n",
    "    %cd {dire}\n",
    "    visual_save(field, nb, end_step, color)\n",
    "    %cd ../\n",
    "    \n",
    "tf = time.time()\n",
    "print(tf-t0)"
   ]
  },
  {
   "cell_type": "code",
   "execution_count": null,
   "metadata": {},
   "outputs": [],
   "source": []
  }
 ],
 "metadata": {
  "kernelspec": {
   "display_name": "Python 3 (ipykernel)",
   "language": "python",
   "name": "python3"
  },
  "language_info": {
   "codemirror_mode": {
    "name": "ipython",
    "version": 3
   },
   "file_extension": ".py",
   "mimetype": "text/x-python",
   "name": "python",
   "nbconvert_exporter": "python",
   "pygments_lexer": "ipython3",
   "version": "3.9.7"
  }
 },
 "nbformat": 4,
 "nbformat_minor": 4
}
