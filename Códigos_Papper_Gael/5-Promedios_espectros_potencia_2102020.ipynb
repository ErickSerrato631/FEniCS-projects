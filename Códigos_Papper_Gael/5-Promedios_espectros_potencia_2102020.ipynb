{
 "cells": [
  {
   "cell_type": "code",
   "execution_count": null,
   "metadata": {},
   "outputs": [],
   "source": [
    "import numpy as np\n",
    "import matplotlib.pyplot as plt\n",
    "import time\n",
    "from numba import njit, prange\n",
    "%matplotlib inline"
   ]
  },
  {
   "cell_type": "code",
   "execution_count": null,
   "metadata": {},
   "outputs": [],
   "source": [
    "def power_mean(field, end_step, end_blocks):\n",
    "    for step in range(end_step+1):\n",
    "        final_file = 0.0\n",
    "        for nb in range(1, end_blocks+1):\n",
    "            file_name = \"power_\" + field +  \"_\" + str(step) + \"_nb_\" + str(nb) + \".txt\"\n",
    "            file_load = np.loadtxt(file_name, float)\n",
    "            final_file += file_load\n",
    "        final_file = final_file/float(end_blocks)\n",
    "        file_save_mean = \"power_\" + field +  \"_\" + str(step) + \"_mean.txt\"\n",
    "        np.savetxt(file_save_mean, final_file)"
   ]
  },
  {
   "cell_type": "code",
   "execution_count": null,
   "metadata": {},
   "outputs": [],
   "source": [
    "def power_field(field, step):\n",
    "    file_name = \"power_\" + field + \"_\" + str(step) + \"_mean.txt\" \n",
    "    file_load = np.loadtxt(file_name, float)\n",
    "    plt.semilogy(file_load, \"--\")\n",
    "    plt.ylim(1e-5, 1e1)\n",
    "    plt.xlabel(\"$k$\")\n",
    "    plt.ylabel(\"$P_\"+ field +\"(k)$\")\n",
    "#    plt.legend([\"0\",\"200\",\"400\",\"600\",\"800\",\"1000\",\"4000\",\"10000\"],prop={\"size\":8})\n",
    "    file_save = \"P_vs_k_\" + field + \"R10.pdf\" \n",
    "    plt.savefig(file_save, bbox_inches='tight')"
   ]
  },
  {
   "cell_type": "markdown",
   "metadata": {},
   "source": [
    "# Promedios"
   ]
  },
  {
   "cell_type": "code",
   "execution_count": null,
   "metadata": {},
   "outputs": [],
   "source": [
    "#%cd ../../\n",
    "%cd R_01/blocks"
   ]
  },
  {
   "cell_type": "code",
   "execution_count": null,
   "metadata": {},
   "outputs": [],
   "source": [
    "end_step = 100\n",
    "end_blocks = 20\n",
    "\n",
    "for field in [\"s\", \"c\"]:#,\"theta\"]:\n",
    "    power_mean(field, end_step, end_blocks)"
   ]
  },
  {
   "cell_type": "code",
   "execution_count": null,
   "metadata": {},
   "outputs": [],
   "source": [
    "end_step = 100\n",
    "# C\n",
    "for step in range(end_step):\n",
    "    power_field(\"c\", step)\n",
    "plt.show()\n",
    "# S\n",
    "#for step in range(end_step):\n",
    "#    power_field(\"s\", step)\n",
    "#plt.show()\n",
    "\n",
    "#for step in range(end_step):\n",
    "#    power_field(\"theta\", step)\n",
    "#plt.show()"
   ]
  },
  {
   "cell_type": "code",
   "execution_count": null,
   "metadata": {},
   "outputs": [],
   "source": [
    "%cd ../../\n",
    "%cd R_01/blocks"
   ]
  },
  {
   "cell_type": "code",
   "execution_count": null,
   "metadata": {},
   "outputs": [],
   "source": [
    "steps = [0,2,4,6,8,10,40,100]\n",
    "# C\n",
    "for step in steps:\n",
    "    power_field(\"c\", step)\n",
    "plt.show()\n",
    "# S\n",
    "#for step in steps:\n",
    "#    power_field(\"s\", step)\n",
    "#plt.show()"
   ]
  },
  {
   "cell_type": "code",
   "execution_count": null,
   "metadata": {},
   "outputs": [],
   "source": [
    "!pwd"
   ]
  },
  {
   "cell_type": "code",
   "execution_count": null,
   "metadata": {},
   "outputs": [],
   "source": [
    "%cd ../../\n",
    "%cd R_100/blocks"
   ]
  },
  {
   "cell_type": "code",
   "execution_count": null,
   "metadata": {},
   "outputs": [],
   "source": [
    "steps = [0,2,4,6,8,10,40,100]\n",
    "# C\n",
    "for step in steps:\n",
    "    power_field(\"c\", step)\n",
    "plt.show()"
   ]
  },
  {
   "cell_type": "code",
   "execution_count": null,
   "metadata": {},
   "outputs": [],
   "source": [
    "%cd ../../\n",
    "%cd R_01/blocks\n",
    "#!ls -v *mean*"
   ]
  },
  {
   "cell_type": "code",
   "execution_count": null,
   "metadata": {},
   "outputs": [],
   "source": [
    "end_step = 10\n",
    "end_blocks = 20\n",
    "\n",
    "for field in [\"s\", \"c\"]:\n",
    "    power_mean(field, end_step, end_blocks)"
   ]
  },
  {
   "cell_type": "code",
   "execution_count": null,
   "metadata": {},
   "outputs": [],
   "source": [
    "end_step = 10\n",
    "# C\n",
    "for step in range(end_step):\n",
    "    power_field(\"c\", step)\n",
    "plt.show()\n",
    "# S\n",
    "for step in range(end_step):\n",
    "    power_field(\"s\", step)\n",
    "plt.show()"
   ]
  },
  {
   "cell_type": "code",
   "execution_count": null,
   "metadata": {},
   "outputs": [],
   "source": [
    "%cd ../../scalar/R_01/blocks"
   ]
  },
  {
   "cell_type": "code",
   "execution_count": null,
   "metadata": {},
   "outputs": [],
   "source": [
    "def Pmax_vs_t(field, step):\n",
    "    file_name = \"power_\" + field +\"_\"+ str(step) + \"_mean.txt\"\n",
    "    file_load = np.loadtxt(file_name, float)\n",
    "    Pk_max = np.max(file_load)\n",
    "    values_max.append(Pk_max)"
   ]
  },
  {
   "cell_type": "code",
   "execution_count": null,
   "metadata": {},
   "outputs": [],
   "source": [
    "values_max = []\n",
    "end_step = 100\n",
    "\n",
    "for step in range(end_step):\n",
    "    Pmax_vs_t(\"c\", step)\n",
    "\n",
    "values_max_cR01 = values_max"
   ]
  },
  {
   "cell_type": "code",
   "execution_count": null,
   "metadata": {},
   "outputs": [],
   "source": [
    "values_max = []\n",
    "end_step = 100\n",
    "\n",
    "for step in range(end_step):\n",
    "    Pmax_vs_t(\"s\", step)\n",
    "\n",
    "values_max_sR01 = values_max"
   ]
  },
  {
   "cell_type": "code",
   "execution_count": null,
   "metadata": {},
   "outputs": [],
   "source": [
    "t = np.linspace(0,10000,100)\n",
    "plt.semilogy(t,values_max_cR01,\"r--o\")\n",
    "plt.semilogy(t,values_max_sR01,\"r-o\")\n",
    "plt.xlabel(\"tiempo\")\n",
    "plt.ylabel(\"max[P(k)]\")\n",
    "plt.show()"
   ]
  },
  {
   "cell_type": "code",
   "execution_count": null,
   "metadata": {},
   "outputs": [],
   "source": [
    "%cd ../../R_100/blocks"
   ]
  },
  {
   "cell_type": "code",
   "execution_count": null,
   "metadata": {},
   "outputs": [],
   "source": [
    "values_max = []\n",
    "end_step = 100\n",
    "\n",
    "for step in range(end_step):\n",
    "    Pmax_vs_t(\"c\", step)\n",
    "\n",
    "values_max_cR100 = values_max"
   ]
  },
  {
   "cell_type": "code",
   "execution_count": null,
   "metadata": {},
   "outputs": [],
   "source": [
    "values_max = []\n",
    "end_step = 100\n",
    "\n",
    "for step in range(end_step):\n",
    "    Pmax_vs_t(\"s\", step)\n",
    "\n",
    "values_max_sR100 = values_max"
   ]
  },
  {
   "cell_type": "code",
   "execution_count": null,
   "metadata": {},
   "outputs": [],
   "source": [
    "values_max = []\n",
    "end_step = 100\n",
    "\n",
    "for step in range(end_step):\n",
    "    Pmax_vs_t(\"theta\", step)\n",
    "\n",
    "values_max_th100 = values_max"
   ]
  },
  {
   "cell_type": "code",
   "execution_count": null,
   "metadata": {},
   "outputs": [],
   "source": [
    "t = np.linspace(0,10000,100)\n",
    "plt.semilogy(t,values_max_cR100,\"r--o\")\n",
    "plt.semilogy(t,values_max_sR100,\"r-o\")\n",
    "#plt.semilogy(t,values_max_th100,\"r-x\")\n",
    "plt.xlabel(\"tiempo\")\n",
    "plt.ylabel(\"max[P(k)]\")\n",
    "plt.show()"
   ]
  },
  {
   "cell_type": "code",
   "execution_count": null,
   "metadata": {
    "scrolled": true
   },
   "outputs": [],
   "source": [
    "end_step = 100\n",
    "t = np.linspace(0,10000,end_step)\n",
    "plt.semilogy(t,values_max_cR01, \"b--x\")\n",
    "plt.semilogy(t,values_max_sR01, \"b-x\")\n",
    "plt.semilogy(t,values_max_cR100, \"r--^\")\n",
    "plt.semilogy(t,values_max_sR100, \"r-^\")\n",
    "plt.ylabel(\"max[P(k)]\")\n",
    "plt.xlabel(\"time\")\n",
    "plt.ylim(1e-2, 2e3)\n",
    "plt.legend([\"NPs, $R = 0.1$\",\"LC, $R = 0.1$\", \"NPs, $R = 10.0$\", \"LC, $R = 10.0$\"])\n",
    "plt.savefig(\"max_Pk_vs_time_scalar.pdf\", bbox_inches='tight')\n",
    "plt.show()"
   ]
  },
  {
   "cell_type": "code",
   "execution_count": null,
   "metadata": {},
   "outputs": [],
   "source": [
    "!pwd"
   ]
  },
  {
   "cell_type": "code",
   "execution_count": null,
   "metadata": {},
   "outputs": [],
   "source": [
    "end_step = 100\n",
    "t = np.linspace(0,10000,end_step)\n",
    "plt.semilogy(t,values_max_cR01, \"b--x\")\n",
    "plt.semilogy(t,values_max_sR01, \"b-x\")\n",
    "plt.semilogy(t,values_max_cR100, \"r--^\")\n",
    "plt.semilogy(t,values_max_sR100, \"r-^\")\n",
    "plt.ylabel(\"max[P(k)]\")\n",
    "plt.xlabel(\"time\")\n",
    "plt.ylim(1e-2, 2e3)\n",
    "plt.legend([\"NPs, $R = 0.1$\",\"LC, $R = 0.1$\", \"NPs, $R = 10.0$\", \"LC, $R = 10.0$\"])\n",
    "plt.savefig(\"max_Pk_vs_time_tensor.pdf\", bbox_inches='tight')\n",
    "plt.show()\n",
    "#!pwd"
   ]
  },
  {
   "cell_type": "code",
   "execution_count": null,
   "metadata": {},
   "outputs": [],
   "source": [
    "def pwr_field(field, step):\n",
    "    file_name = \"pwr_\" + field + \"_\" + str(step) + \"_mean.txt\" \n",
    "    file_load = np.loadtxt(file_name, float)\n",
    "    plt.semilogy(file_load, \"k--\")\n",
    "    plt.xlabel(\"$k$\")\n",
    "    plt.ylabel(\"$P_\"+ field +\"(k)$\")\n",
    "    #file_save = \"P_vs_k_\" + field + \".pdf\" \n",
    "    #plt.savefig(file_save, bbox_inches='tight')"
   ]
  },
  {
   "cell_type": "code",
   "execution_count": null,
   "metadata": {},
   "outputs": [],
   "source": [
    "end_step = 61\n",
    "# C\n",
    "for step in range(end_step):\n",
    "    pwr_field(\"c\", step)\n",
    "plt.show()\n",
    "# S\n",
    "for step in range(end_step):\n",
    "    pwr_field(\"s\", step)\n",
    "plt.show()"
   ]
  },
  {
   "cell_type": "code",
   "execution_count": null,
   "metadata": {},
   "outputs": [],
   "source": [
    "def Pwrmax_vs_t(field, step):\n",
    "    file_name = \"pwr_\" + field +\"_\"+ str(step) + \"_mean.txt\"\n",
    "    file_load = np.loadtxt(file_name, float)\n",
    "    Pk_max = np.max(file_load)\n",
    "    values_max.append(Pk_max)"
   ]
  },
  {
   "cell_type": "code",
   "execution_count": null,
   "metadata": {},
   "outputs": [],
   "source": [
    "values_max = []\n",
    "end_step = 61\n",
    "\n",
    "for step in range(end_step):\n",
    "    Pwrmax_vs_t(\"c\", step)\n",
    "\n",
    "values_max_c = values_max"
   ]
  },
  {
   "cell_type": "code",
   "execution_count": null,
   "metadata": {},
   "outputs": [],
   "source": [
    "values_max = []\n",
    "end_step = 61\n",
    "\n",
    "for step in range(end_step):\n",
    "    Pwrmax_vs_t(\"s\", step)\n",
    "\n",
    "values_max_s = values_max"
   ]
  },
  {
   "cell_type": "code",
   "execution_count": null,
   "metadata": {},
   "outputs": [],
   "source": [
    "end_step = 61\n",
    "t = np.linspace(0,10000,end_step)\n",
    "#plt.semilogy(t,values_max_c, \"b--\")\n",
    "#plt.semilogy(t,values_max_s, \"b-\")\n",
    "plt.semilogy(t,values_max_c, \"r--o\")\n",
    "plt.semilogy(t,values_max_s, \"r-o\")\n",
    "plt.ylabel(\"max[P(k)]\")\n",
    "plt.xlabel(\"tiempo\")\n",
    "#plt.savefig(\"max_Pk_vs_time.pdf\", bbox_inches='tight')\n",
    "plt.show()\n",
    "#len(values_max_s)"
   ]
  },
  {
   "cell_type": "code",
   "execution_count": null,
   "metadata": {},
   "outputs": [],
   "source": []
  }
 ],
 "metadata": {
  "kernelspec": {
   "display_name": "Python 3 (ipykernel)",
   "language": "python",
   "name": "python3"
  },
  "language_info": {
   "codemirror_mode": {
    "name": "ipython",
    "version": 3
   },
   "file_extension": ".py",
   "mimetype": "text/x-python",
   "name": "python",
   "nbconvert_exporter": "python",
   "pygments_lexer": "ipython3",
   "version": "3.9.7"
  }
 },
 "nbformat": 4,
 "nbformat_minor": 4
}
