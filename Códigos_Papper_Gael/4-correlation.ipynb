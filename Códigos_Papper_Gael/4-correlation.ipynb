{
 "cells": [
  {
   "cell_type": "code",
   "execution_count": null,
   "metadata": {},
   "outputs": [],
   "source": [
    "import numpy as np\n",
    "import matplotlib.pyplot as plt\n",
    "import time\n",
    "%matplotlib inline"
   ]
  },
  {
   "cell_type": "code",
   "execution_count": null,
   "metadata": {},
   "outputs": [],
   "source": [
    "!pwd\n",
    "%cd /home/erick/Desktop/Proyectos-posgrado/Códigos_Papper_Gael"
   ]
  },
  {
   "cell_type": "code",
   "execution_count": null,
   "metadata": {},
   "outputs": [],
   "source": [
    "#!ls -v FFT*"
   ]
  },
  {
   "cell_type": "code",
   "execution_count": null,
   "metadata": {},
   "outputs": [],
   "source": [
    "def polar_mean(x, step, dx, field_a, field_b):\n",
    "    \n",
    "    n = len(x)    \n",
    "    dk = 1.0\n",
    "    #dk = 1.0*len(x)\n",
    "    #dk = 2.0*np.pi/(len(x)*dx)\n",
    "    #print(\"len_corr = \", dk)\n",
    "    p = np.zeros(int(n/2))\n",
    "     \n",
    "    for i in range(1,int(n/2)): \n",
    "        k = dk*i\n",
    "        \n",
    "        suma = 0.\n",
    "        dtheta = np.pi/90. # two degrees\n",
    "        \n",
    "        for j in range (1,180):\n",
    "            theta = j * dtheta\n",
    "            \n",
    "            nx = int( k*np.cos(theta)/dk - n/2)\n",
    "            ny = int( k*np.sin(theta)/dk - n/2)\n",
    "            \n",
    "            suma += x[nx,ny] \n",
    "            \n",
    "        p[i] = suma/180.\n",
    "        \n",
    "    filename = \"correlation_\" + field_a + field_b + \"_\" + str(step) + \".txt\"         \n",
    "    np.savetxt(filename, p, delimiter=\"\\n\")"
   ]
  },
  {
   "cell_type": "code",
   "execution_count": null,
   "metadata": {},
   "outputs": [],
   "source": [
    "def correlation_2D(s, c, step, dx):\n",
    "    abs_s = \"FFT_\" + s + \"_\" + str(step) + \".txt\"\n",
    "    abs_c = \"FFT_\" + c + \"_\" + str(step) + \".txt\"\n",
    "    \n",
    "    mod_s = np.loadtxt(abs_s, float)\n",
    "    mod_c = np.loadtxt(abs_c, float)\n",
    "        \n",
    "    s2_inv = np.fft.ifftn(mod_s**2)\n",
    "    c2_inv = np.fft.ifftn(mod_c**2)\n",
    "    sc_inv = np.fft.ifftn(mod_s*mod_c)\n",
    "\n",
    "    s2_inv[0,0] = 0.0\n",
    "    c2_inv[0,0] = 0.0\n",
    "    sc_inv[0,0] = 0.0\n",
    "    \n",
    "    s2_inv = np.fft.fftshift(s2_inv)\n",
    "    c2_inv = np.fft.fftshift(c2_inv)\n",
    "    sc_inv = np.fft.fftshift(sc_inv)\n",
    "    \n",
    "    file_abs_s  = np.abs(s2_inv)\n",
    "    file_abs_c  = np.abs(c2_inv)\n",
    "    file_abs_sc = np.abs(sc_inv)\n",
    "     \n",
    "    file_s_real = \"matrix_\" + s + \"_\" + str(step) + \"_nb_1.txt\"\n",
    "    file_c_real = \"matrix_\" + c + \"_\" + str(step) + \"_nb_1.txt\"\n",
    "    \n",
    "    file_load_s_real = np.loadtxt(file_s_real, float)\n",
    "    file_load_c_real = np.loadtxt(file_c_real, float)\n",
    "    \n",
    "    mean_s = np.mean(file_load_s_real)\n",
    "    mean_c = np.mean(file_load_c_real)\n",
    "\n",
    "    print(\"<s> = \", mean_s, \" \\t <c> = \", mean_c)\n",
    "    \n",
    "    corr_ss = file_abs_s - mean_s**2\n",
    "    corr_cc = file_abs_c - mean_c**2\n",
    "    corr_sc = file_abs_sc - mean_s*mean_c\n",
    "    \n",
    "    \n",
    "    polar_mean(corr_ss, step, dx, \"s\", \"s\")\n",
    "    polar_mean(corr_cc, step, dx, \"c\", \"c\")\n",
    "    polar_mean(corr_sc, step, dx, \"s\", \"c\")"
   ]
  },
  {
   "cell_type": "code",
   "execution_count": null,
   "metadata": {},
   "outputs": [],
   "source": [
    "dx = 1.0\n",
    "for step in range(0,100):\n",
    "    correlation_2D(\"s\", \"c\", step, dx)"
   ]
  },
  {
   "cell_type": "code",
   "execution_count": null,
   "metadata": {},
   "outputs": [],
   "source": [
    "def graph_correlation_ss(step):\n",
    "\n",
    "    f_ss = \"correlation_ss_\"+str(step)+\".txt\"\n",
    "\n",
    "    corr_ss = np.loadtxt(f_ss, float)\n",
    "\n",
    "    plt.plot(corr_ss[2:], \"-o\")\n",
    "#    plt.semilogy(corr_ss[1:],\"-\" )\n",
    "    plt.xlabel(\"r\")\n",
    "    plt.ylabel(\"$C_{ss}(r)$\")\n",
    "    \n",
    "def graph_correlation_cc(step):\n",
    "\n",
    "    f_cc = \"correlation_cc_\"+str(step)+\".txt\"\n",
    "\n",
    "    corr_cc = np.loadtxt(f_cc, float)\n",
    "\n",
    "    plt.plot(corr_cc, \"-o\")\n",
    "#    plt.semilogy(corr_cc[1:],\"-\" )\n",
    "    plt.xlabel(\"r\")\n",
    "    plt.ylabel(\"$C_{cc}(r)$\")\n",
    "    \n",
    "def graph_correlation_sc(step):\n",
    "\n",
    "    f_sc = \"correlation_sc_\"+str(step)+\".txt\"\n",
    "\n",
    "    corr_sc = np.loadtxt(f_sc, float)\n",
    "\n",
    "    plt.plot(corr_sc, \"-o\")\n",
    "#    plt.semilogy(corr_sc[1:],\"-\" )\n",
    "    plt.xlabel(\"r\")\n",
    "    plt.ylabel(\"$C_{sc}(r)$\")"
   ]
  },
  {
   "cell_type": "code",
   "execution_count": null,
   "metadata": {},
   "outputs": [],
   "source": [
    "for step in range(0,99):\n",
    "    graph_correlation_ss(step)\n",
    "plt.show()\n",
    "\n",
    "print(2.0*np.pi/20.)"
   ]
  },
  {
   "cell_type": "code",
   "execution_count": null,
   "metadata": {},
   "outputs": [],
   "source": [
    "for step in range(0,99):\n",
    "    graph_correlation_cc(step)\n",
    "plt.show()"
   ]
  },
  {
   "cell_type": "code",
   "execution_count": null,
   "metadata": {},
   "outputs": [],
   "source": [
    "for step in range(0,99):\n",
    "    graph_correlation_sc(step)\n",
    "plt.show()"
   ]
  },
  {
   "cell_type": "code",
   "execution_count": null,
   "metadata": {},
   "outputs": [],
   "source": [
    "corr_ss = np.loadtxt(\"correlation_ss_99.txt\", float)\n",
    "corr_cc = np.loadtxt(\"correlation_cc_99.txt\", float)\n",
    "corr_sc = np.loadtxt(\"correlation_sc_99.txt\", float)\n",
    "\n",
    "#plt.plot(corr_ss[1:], \"-o\")\n",
    "plt.semilogy(corr_ss[1:], \"-o\")\n",
    "plt.xlabel(\"r\")\n",
    "#plt.xlim(0,30)\n",
    "plt.ylabel(\"$C_{ss}(r)$\")\n",
    "plt.show()\n",
    "print(\"max = \", np.max(corr_ss))\n",
    "print(\"kmax = \", 2.*np.pi/(np.max(corr_ss)))\n",
    "\n",
    "#plt.plot(corr_cc[1:], \"-x\")\n",
    "plt.semilogy(corr_cc[1:], \"-o\")\n",
    "plt.xlabel(\"r\")\n",
    "#plt.xlim(0,30)\n",
    "plt.ylabel(\"$C_{cc}(r)$\")\n",
    "plt.show()\n",
    "print(\"max = \", np.max(corr_cc))\n",
    "print(\"kmax = \", 2.*np.pi/(np.max(corr_cc)))\n",
    "\n",
    "#plt.plot(corr_sc[1:], \"r-^\")\n",
    "plt.semilogy(corr_sc[1:], \"-o\")\n",
    "plt.xlabel(\"r\")\n",
    "#plt.xlim(0,30)\n",
    "plt.ylabel(\"$C_{sc}(r)$\")\n",
    "plt.show()\n",
    "print(\"max = \", np.max(corr_sc))\n",
    "print(\"kmax = \", 2.*np.pi/(np.max(corr_sc)))"
   ]
  },
  {
   "cell_type": "code",
   "execution_count": null,
   "metadata": {},
   "outputs": [],
   "source": [
    "def graph_correlation_ss(step):\n",
    "\n",
    "    f_ss = \"correlation_ss_\"+str(step)+\".txt\"\n",
    "    corr_ss = np.loadtxt(f_ss, float)\n",
    "\n",
    "    plt.plot(corr_ss, \"-\")\n",
    "    plt.xlabel(\"r\")\n",
    "    plt.ylabel(\"$C_{ss}(r)$\")"
   ]
  },
  {
   "cell_type": "code",
   "execution_count": null,
   "metadata": {},
   "outputs": [],
   "source": [
    "def graph_correlation_cc(step):\n",
    "\n",
    "    f_cc = \"correlation_cc_\"+str(step)+\".txt\"\n",
    "    corr_cc = np.loadtxt(f_cc, float)\n",
    "    \n",
    "    plt.semilogy(corr_cc[4:],\"-\" )\n",
    "    plt.xlabel(\"r\")\n",
    "    plt.ylabel(\"$C_{cc}(r)$\")"
   ]
  },
  {
   "cell_type": "code",
   "execution_count": null,
   "metadata": {},
   "outputs": [],
   "source": [
    "def graph_correlation_sc(step):\n",
    "\n",
    "    f_sc = \"correlation_sc_\"+str(step)+\".txt\"\n",
    "    corr_sc = np.loadtxt(f_sc, float)\n",
    "\n",
    "#    plt.plot(corr_sc, \"-o\")\n",
    "    plt.semilogy(corr_sc[2:],\"-\" )\n",
    "    plt.xlabel(\"r\")\n",
    "    plt.ylabel(\"$C_{sc}(r)$\")"
   ]
  },
  {
   "cell_type": "code",
   "execution_count": null,
   "metadata": {},
   "outputs": [],
   "source": [
    "for step in range(0,99):\n",
    "    graph_correlation_ss(step)\n",
    "plt.show()"
   ]
  },
  {
   "cell_type": "code",
   "execution_count": null,
   "metadata": {},
   "outputs": [],
   "source": [
    "for step in range(0,99):\n",
    "    graph_correlation_cc(step)\n",
    "plt.show()"
   ]
  },
  {
   "cell_type": "code",
   "execution_count": null,
   "metadata": {},
   "outputs": [],
   "source": [
    "for step in range(0,100):\n",
    "    graph_correlation_sc(step)\n",
    "plt.show()"
   ]
  },
  {
   "cell_type": "code",
   "execution_count": null,
   "metadata": {},
   "outputs": [],
   "source": [
    "#scalar R = 10\n",
    "for i in range(100):\n",
    "    graph_correlation_ss(i)\n",
    "plt.show()\n",
    "\n",
    "for i in range(100):\n",
    "    graph_correlation_cc(i)\n",
    "plt.show()\n",
    "\n",
    "for i in range(100):\n",
    "    graph_correlation_sc(i)\n",
    "plt.show()"
   ]
  },
  {
   "cell_type": "code",
   "execution_count": null,
   "metadata": {},
   "outputs": [],
   "source": [
    "#tensor R = 0.1\n",
    "for i in range(100):\n",
    "    graph_correlation_ss(i)\n",
    "plt.show()\n",
    "\n",
    "for i in range(100):\n",
    "    graph_correlation_cc(i)\n",
    "plt.show()\n",
    "\n",
    "for i in range(100):\n",
    "    graph_correlation_sc(i)\n",
    "plt.show()"
   ]
  },
  {
   "cell_type": "code",
   "execution_count": null,
   "metadata": {},
   "outputs": [],
   "source": [
    "#tensor R = 10\n",
    "for i in range(100):\n",
    "    graph_correlation_ss(i)\n",
    "plt.show()\n",
    "\n",
    "for i in range(100):\n",
    "    graph_correlation_cc(i)\n",
    "plt.show()\n",
    "\n",
    "for i in range(100):\n",
    "    graph_correlation_sc(i)\n",
    "plt.show()"
   ]
  },
  {
   "cell_type": "code",
   "execution_count": null,
   "metadata": {},
   "outputs": [],
   "source": [
    "2.*np.pi/128."
   ]
  },
  {
   "cell_type": "code",
   "execution_count": null,
   "metadata": {},
   "outputs": [],
   "source": [
    "for step in range(100):\n",
    "    graph_correlation_ss(step)\n",
    "plt.show()"
   ]
  },
  {
   "cell_type": "code",
   "execution_count": null,
   "metadata": {},
   "outputs": [],
   "source": [
    "def correlation_ss_time(step):\n",
    "\n",
    "    f_ss = \"correlation_sc_\"+str(step)+\".txt\"\n",
    "    corr_ss = np.loadtxt(f_ss, float)\n",
    "    cmax = np.max(corr_ss)\n",
    "    y.append(cmax)\n",
    "    #print(cmax)"
   ]
  },
  {
   "cell_type": "code",
   "execution_count": null,
   "metadata": {},
   "outputs": [],
   "source": [
    "y = []\n",
    "for step in range(100):\n",
    "    correlation_ss_time(step)\n",
    "\n",
    "plt.plot(y, \"r--o\")\n",
    "plt.show()\n",
    "\n",
    "plt.semilogy(y, \"r--o\")\n",
    "plt.show()\n",
    "\n",
    "plt.loglog(y, \"r--o\")\n",
    "plt.show()"
   ]
  },
  {
   "cell_type": "code",
   "execution_count": null,
   "metadata": {},
   "outputs": [],
   "source": [
    "y = []\n",
    "for step in range(100):\n",
    "    correlation_ss_time(step)\n",
    "\n",
    "plt.plot(y, \"r--o\")\n",
    "plt.show()\n",
    "\n",
    "plt.semilogy(y, \"r--o\")\n",
    "plt.show()\n",
    "\n",
    "plt.loglog(y, \"r--o\")\n",
    "plt.show()"
   ]
  },
  {
   "cell_type": "code",
   "execution_count": null,
   "metadata": {},
   "outputs": [],
   "source": [
    "y = []\n",
    "for step in range(100):\n",
    "    correlation_ss_time(step)\n",
    "\n",
    "plt.plot(y, \"r--o\")\n",
    "plt.show()\n",
    "\n",
    "plt.semilogy(y, \"r--o\")\n",
    "plt.show()\n",
    "\n",
    "plt.loglog(y, \"r--o\")\n",
    "plt.show()"
   ]
  },
  {
   "cell_type": "code",
   "execution_count": null,
   "metadata": {},
   "outputs": [],
   "source": [
    "2.*np.pi/128.0"
   ]
  },
  {
   "cell_type": "code",
   "execution_count": null,
   "metadata": {},
   "outputs": [],
   "source": [
    "x = np.array([0.0, 1.0, 2.0, 3.0,  4.0,  5.0])\n",
    "\n",
    "y = np.array([0.0, 0.8, 0.9, 0.1, -0.8, -1.0])\n",
    "\n",
    "z = np.polyfit(x, y, 3)\n",
    "\n",
    "print(z)"
   ]
  },
  {
   "cell_type": "code",
   "execution_count": null,
   "metadata": {},
   "outputs": [],
   "source": [
    "plt.plot(x,y)\n",
    "plt.plot(z)"
   ]
  },
  {
   "cell_type": "code",
   "execution_count": null,
   "metadata": {},
   "outputs": [],
   "source": [
    "file = np.loadtxt(\"correlation_ss_99.txt\", float)\n",
    "#plt.semilogy(file[2:18], \"--o\")\n",
    "plt.plot(np.log(file[2:18]), \"--o\")\n",
    "plt.show()"
   ]
  },
  {
   "cell_type": "code",
   "execution_count": null,
   "metadata": {},
   "outputs": [],
   "source": [
    "#print(len(file[2:18]))\n",
    "x = np.linspace(0,15,16)\n",
    "#print(len(x))\n",
    "z=np.polyfit(x,np.log(file[2:18]), 2)\n",
    "print(z)\n",
    "p = np.poly1d(z)\n",
    "print(p)\n",
    "plt.plot(x,np.log(file[2:18]), \"-\")\n",
    "plt.plot(x,p(x), \"r-o\")\n",
    "plt.show()"
   ]
  },
  {
   "cell_type": "code",
   "execution_count": null,
   "metadata": {},
   "outputs": [],
   "source": [
    "file = np.loadtxt(\"correlation_ss_99.txt\", float)\n",
    "#plt.semilogy(file[2:18], \"--o\")\n",
    "plt.plot(file[2:], \"--o\")\n",
    "plt.show()\n",
    "print(len(file[2:]))"
   ]
  },
  {
   "cell_type": "code",
   "execution_count": null,
   "metadata": {},
   "outputs": [],
   "source": [
    "#print(len(file[2:18]))\n",
    "x = np.linspace(1,62,62)\n",
    "#print(len(x))\n",
    "z=np.polyfit(np.log(x),file[2:], 1)\n",
    "print(z)\n",
    "p = np.poly1d(z)\n",
    "print(p)\n",
    "plt.plot(x,file[2:], \"-\")\n",
    "#plt.plot(x,p(x), \"r-o\")\n",
    "plt.plot(x,8271.74*np.exp(-2251*x),\"r-o\" )\n",
    "plt.show()"
   ]
  },
  {
   "cell_type": "code",
   "execution_count": null,
   "metadata": {},
   "outputs": [],
   "source": []
  }
 ],
 "metadata": {
  "kernelspec": {
   "display_name": "Python 3 (ipykernel)",
   "language": "python",
   "name": "python3"
  },
  "language_info": {
   "codemirror_mode": {
    "name": "ipython",
    "version": 3
   },
   "file_extension": ".py",
   "mimetype": "text/x-python",
   "name": "python",
   "nbconvert_exporter": "python",
   "pygments_lexer": "ipython3",
   "version": "3.9.7"
  }
 },
 "nbformat": 4,
 "nbformat_minor": 4
}
