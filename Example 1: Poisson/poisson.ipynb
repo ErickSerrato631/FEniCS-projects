{
 "cells": [
  {
   "cell_type": "code",
   "execution_count": null,
   "id": "fe961fa7-c0e2-42a0-b10c-d83b2fbecdf3",
   "metadata": {},
   "outputs": [],
   "source": [
    "from __future__ import print_function\n",
    "\n",
    "# import fenics package\n",
    "from fenics import *\n",
    "from dolfin import *\n",
    "import mshr\n",
    "\n",
    "# import extra library\n",
    "import matplotlib.pyplot as plt\n",
    "import numpy as np"
   ]
  },
  {
   "cell_type": "code",
   "execution_count": null,
   "id": "b8da624a-ba28-48a8-b067-261f21be87f3",
   "metadata": {},
   "outputs": [],
   "source": [
    "# Create mesh and define function space\n",
    "mesh = UnitSquareMesh(16, 16)\n",
    "plot(mesh)\n",
    "plt.savefig('squaremesh.png')\n"
   ]
  },
  {
   "cell_type": "code",
   "execution_count": null,
   "id": "fe629c7e-f833-4791-8270-d65689316d81",
   "metadata": {},
   "outputs": [],
   "source": [
    "#Space of finite elements\n",
    "V = FunctionSpace(mesh, 'P', 1)\n",
    "print(V)"
   ]
  },
  {
   "cell_type": "code",
   "execution_count": null,
   "id": "bd610e0e-b879-40ff-a86f-b072cfc008dd",
   "metadata": {},
   "outputs": [],
   "source": [
    "# Define boundary condition\n",
    "u_D = Expression('1 + x[0]*x[0] + 2*x[1]*x[1]', degree=2)\n",
    "#print(u_D.compute_vertex_values(mesh))\n",
    "\n",
    "def boundary(x, on_boundary):\n",
    "    return on_boundary\n",
    "\n",
    "bc = DirichletBC(V, u_D, boundary)"
   ]
  },
  {
   "cell_type": "code",
   "execution_count": null,
   "id": "0b0876ae-fb81-41cd-835b-c6e7f5fe7c1f",
   "metadata": {},
   "outputs": [],
   "source": [
    "# Define variational problem\n",
    "u = TrialFunction(V)\n",
    "v = TestFunction(V)\n",
    "f = Constant(-6.0)\n",
    "a = dot(grad(u), grad(v))*dx\n",
    "L = f*v*dx"
   ]
  },
  {
   "cell_type": "code",
   "execution_count": null,
   "id": "4e8b3cf9-6d1f-4b3d-bddd-65c6ce0fcc73",
   "metadata": {},
   "outputs": [],
   "source": [
    "# Compute solution\n",
    "u = Function(V)\n",
    "#print(u.compute_vertex_values(mesh))\n",
    "solve(a == L, u, bc)"
   ]
  },
  {
   "cell_type": "code",
   "execution_count": null,
   "id": "2255ba0a-a897-401b-831f-a8e11e4594ab",
   "metadata": {},
   "outputs": [],
   "source": [
    "#print(u.compute_vertex_values(mesh))"
   ]
  },
  {
   "cell_type": "code",
   "execution_count": null,
   "id": "7c22616c-ff29-4433-a9d4-af8b2f35e3e8",
   "metadata": {},
   "outputs": [],
   "source": [
    "# Plot solution and mesh\n",
    "p = plot(u)\n",
    "p.set_cmap(\"seismic\")\n",
    "plt.title(\"Poisson solution\")\n",
    "plt.colorbar(p)\n",
    "plot(mesh)\n",
    "plt.savefig(\"poisson_sol.png\")"
   ]
  },
  {
   "cell_type": "code",
   "execution_count": null,
   "id": "21340c76-0943-4939-ab06-8af5f8ee602f",
   "metadata": {},
   "outputs": [],
   "source": [
    "plt.plot(vertex_values_u_D, '-', color=\"red\", label='Exact solution')\n",
    "plt.legend(loc='best')\n",
    "plt.plot(vertex_values_u,'--', color=\"blue\", label='FEniCS solution')\n",
    "plt.legend(loc='best')\n",
    "plt.savefig('solutions_comparation.png')\n",
    "plt.show()"
   ]
  },
  {
   "cell_type": "code",
   "execution_count": null,
   "id": "6fa77e4a-2e98-47d9-b5cc-d72e97e988de",
   "metadata": {},
   "outputs": [],
   "source": [
    "# Save solution to file in VTK format\n",
    "vtkfile = File('poisson/solution.pvd')\n",
    "vtkfile << u"
   ]
  },
  {
   "cell_type": "code",
   "execution_count": null,
   "id": "974b1362-afa6-49b9-ab8f-64ed2fbd128c",
   "metadata": {},
   "outputs": [],
   "source": [
    "# Compute error in L2 norm\n",
    "error_L2 = errornorm(u_D, u, 'L2')"
   ]
  },
  {
   "cell_type": "markdown",
   "id": "0af70667-1d87-4abd-baf4-a2702408a8cb",
   "metadata": {},
   "source": [
    " $\\cdot \\textbf{compute_vertex_values(mesh)}$: Compute values at all mesh vertices"
   ]
  },
  {
   "cell_type": "code",
   "execution_count": null,
   "id": "b7021c19-0fc2-48f1-9a26-8ba9ed13bbb5",
   "metadata": {},
   "outputs": [],
   "source": [
    "# Exactly solution\n",
    "vertex_values_u_D = u_D.compute_vertex_values(mesh)\n",
    "\n",
    "# FEniCS solution\n",
    "vertex_values_u = u.compute_vertex_values(mesh)\n",
    "\n",
    "# Compute maximum error at vertices\n",
    "error_max = np.max(np.abs(vertex_values_u_D - vertex_values_u))\n",
    "# Print errors\n",
    "print('error_L2  =', error_L2)\n",
    "print('error_max =', error_max)"
   ]
  }
 ],
 "metadata": {
  "kernelspec": {
   "display_name": "Python 3 (ipykernel)",
   "language": "python",
   "name": "python3"
  },
  "language_info": {
   "codemirror_mode": {
    "name": "ipython",
    "version": 3
   },
   "file_extension": ".py",
   "mimetype": "text/x-python",
   "name": "python",
   "nbconvert_exporter": "python",
   "pygments_lexer": "ipython3",
   "version": "3.9.7"
  }
 },
 "nbformat": 4,
 "nbformat_minor": 5
}
