{
 "cells": [
  {
   "cell_type": "code",
   "execution_count": null,
   "id": "6fde8c6e-3cb2-4abb-af08-ef25ff05f36a",
   "metadata": {},
   "outputs": [],
   "source": [
    "from fenics import *\n",
    "import time\n",
    "import numpy as np\n",
    "import matplotlib.pyplot as plt"
   ]
  },
  {
   "cell_type": "code",
   "execution_count": null,
   "id": "f1a4f33b-9735-481d-8d31-c6711fd483c9",
   "metadata": {},
   "outputs": [],
   "source": [
    "T = 200.0 # final time\n",
    "num_steps = 10 # number of time steps\n",
    "dt = T / num_steps # time step size"
   ]
  },
  {
   "cell_type": "code",
   "execution_count": null,
   "id": "4f257e18-859d-42d7-b767-fe88a0f24f6c",
   "metadata": {},
   "outputs": [],
   "source": [
    "# Create mesh and define function space\n",
    "nx = ny = 30\n",
    "mesh = RectangleMesh(Point(-2, -2), Point(2, 2), nx, ny)\n",
    "V = FunctionSpace(mesh, 'P', 1)"
   ]
  },
  {
   "cell_type": "code",
   "execution_count": null,
   "id": "ffd8fdc6-7632-4c50-8d0f-ff6d6dddf23e",
   "metadata": {},
   "outputs": [],
   "source": [
    "# Define boundary condition\n",
    "def boundary(x, on_boundary):\n",
    "    return on_boundary"
   ]
  },
  {
   "cell_type": "code",
   "execution_count": null,
   "id": "685735e2-e6fc-47a7-b557-1360a20bdd3a",
   "metadata": {},
   "outputs": [],
   "source": [
    "bc = DirichletBC(V, Constant(0), boundary)\n",
    "# Define initial value\n",
    "u_0 = Expression('exp(-a*pow(x[0], 2) - a*pow(x[1], 2))', degree=2, a=5)\n",
    "u_n = interpolate(u_0, V)"
   ]
  },
  {
   "cell_type": "code",
   "execution_count": null,
   "id": "9a071689-3542-4bf5-b503-88281d110d0a",
   "metadata": {},
   "outputs": [],
   "source": [
    "# Define variational problem\n",
    "u = TrialFunction(V)\n",
    "v = TestFunction(V)\n",
    "f = Constant(0)"
   ]
  },
  {
   "cell_type": "code",
   "execution_count": null,
   "id": "1c4a92cb-1381-40b9-b097-c2b7383a894b",
   "metadata": {},
   "outputs": [],
   "source": [
    "F = u*v*dx + dt*dot(grad(u), grad(v))*dx - (u_n + dt*f)*v*dx\n",
    "a, L = lhs(F), rhs(F)"
   ]
  },
  {
   "cell_type": "code",
   "execution_count": null,
   "id": "b6de00e9-3063-4ed1-aafe-bfa6db92ce67",
   "metadata": {},
   "outputs": [],
   "source": [
    "# Create VTK file for saving solution\n",
    "vtkfile = File('heat_gaussian/solution.pvd')"
   ]
  },
  {
   "cell_type": "code",
   "execution_count": null,
   "id": "af89f30b-805e-4a23-91d1-b69cd7068f02",
   "metadata": {},
   "outputs": [],
   "source": [
    "# Time-stepping\n",
    "u = Function(V)\n",
    "t = 0\n",
    "for n in range(num_steps):\n",
    "    # Update current time\n",
    "    t += dt\n",
    "    # Compute solution\n",
    "    solve(a == L, u, bc)\n",
    "    # Save to file and plot solution\n",
    "#    vtkfile << (u, t)\n",
    "    \n",
    "    p = plot(u)\n",
    "    p.set_cmap(\"seismic\")\n",
    "    plt.title(\"Gaussian heat equation\")\n",
    "    plt.colorbar(p)\n",
    "    plot(mesh)\n",
    "    plt.savefig(\"heat_sol{}.png\".format(n))\n",
    "    plt.show()\n",
    "    \n",
    "    u_e = interpolate(u_0, V)\n",
    "    error =  np.abs(u_e.vector().get_local() - u.vector().get_local()).max()\n",
    "    print('t = %.2f: error = %.3g' % (t, error))   \n",
    "    \n",
    "    u_n.assign(u)"
   ]
  },
  {
   "cell_type": "code",
   "execution_count": null,
   "id": "4c511bd6-44bc-476a-b076-dff00d3b08f1",
   "metadata": {},
   "outputs": [],
   "source": []
  }
 ],
 "metadata": {
  "kernelspec": {
   "display_name": "Python 3 (ipykernel)",
   "language": "python",
   "name": "python3"
  },
  "language_info": {
   "codemirror_mode": {
    "name": "ipython",
    "version": 3
   },
   "file_extension": ".py",
   "mimetype": "text/x-python",
   "name": "python",
   "nbconvert_exporter": "python",
   "pygments_lexer": "ipython3",
   "version": "3.9.7"
  }
 },
 "nbformat": 4,
 "nbformat_minor": 5
}
