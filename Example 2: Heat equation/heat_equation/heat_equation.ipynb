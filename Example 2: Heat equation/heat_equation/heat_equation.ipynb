{
 "cells": [
  {
   "cell_type": "code",
   "execution_count": null,
   "id": "ce1c7b79-67a1-4979-973f-d131c9ae91c3",
   "metadata": {},
   "outputs": [],
   "source": [
    "from fenics import *\n",
    "import numpy as np\n",
    "import matplotlib.pyplot as plt"
   ]
  },
  {
   "cell_type": "code",
   "execution_count": null,
   "id": "df645014-5dfb-41c1-83a2-b3f5d5198651",
   "metadata": {},
   "outputs": [],
   "source": [
    "# Create mesh and define function space\n",
    "nx = ny = 32\n",
    "mesh = UnitSquareMesh(nx, ny)\n",
    "V = FunctionSpace(mesh, 'P', 1)"
   ]
  },
  {
   "cell_type": "code",
   "execution_count": null,
   "id": "7e6ff0e9-9339-4f7d-8f64-66b19ffc6a1f",
   "metadata": {},
   "outputs": [],
   "source": [
    "alpha = 5 # parameter alpha\n",
    "beta = 3 # parameter beta\n",
    "\n",
    "# Define boundary condition\n",
    "u_D = Expression('1 + x[0]*x[0] + alpha*x[1]*x[1] + beta*t', degree=2, alpha=alpha, beta=beta, t=0)\n",
    "def boundary(x, on_boundary):\n",
    "    return on_boundary\n",
    "bc = DirichletBC(V, u_D, boundary)"
   ]
  },
  {
   "cell_type": "code",
   "execution_count": null,
   "id": "aa788093-40a9-49e2-ad39-3d03dba34028",
   "metadata": {},
   "outputs": [],
   "source": [
    "# Define initial value\n",
    "u_n = interpolate(u_D, V)\n",
    "#u_n = project(u_D, V)"
   ]
  },
  {
   "cell_type": "code",
   "execution_count": null,
   "id": "49935a46-0361-4027-b994-4872e7da4a94",
   "metadata": {},
   "outputs": [],
   "source": [
    "# Define variational problem\n",
    "u = TrialFunction(V)\n",
    "v = TestFunction(V)\n",
    "f = Constant(beta - 2 - 2*alpha)"
   ]
  },
  {
   "cell_type": "code",
   "execution_count": null,
   "id": "06730141-c803-4348-8e2b-a9df476ca1f8",
   "metadata": {},
   "outputs": [],
   "source": [
    "T = 5000.0 # final time\n",
    "num_steps = 10 # number of time steps\n",
    "dt = T / num_steps # time step size\n",
    "F = u*v*dx + dt*dot(grad(u), grad(v))*dx - (u_n + dt*f)*v*dx\n",
    "a, L = lhs(F), rhs(F)"
   ]
  },
  {
   "cell_type": "code",
   "execution_count": null,
   "id": "5ff301b5-95ab-412e-a50e-f20cdab6fb70",
   "metadata": {},
   "outputs": [],
   "source": [
    "# Create VTK file for saving solution\n",
    "vtkfile = File('heat_equation/solution.pvd')"
   ]
  },
  {
   "cell_type": "code",
   "execution_count": null,
   "id": "32a7f04c-c058-490a-b855-28e2cb84db3d",
   "metadata": {},
   "outputs": [],
   "source": [
    "# Time-stepping\n",
    "u = Function(V)\n",
    "t = 0\n",
    "for n in range(num_steps):\n",
    "    # Update current time\n",
    "    t += dt\n",
    "    u_D.t = t\n",
    "    # Compute solution\n",
    "    solve(a == L, u, bc)\n",
    "    \n",
    "    vtkfile << (u, t)    \n",
    "    p = plot(u)\n",
    "    #p.set_cmap(\"seismic\")\n",
    "    plt.title(\"Heat equation\")\n",
    "    plt.colorbar(p)\n",
    "    plot(mesh)\n",
    "    plt.savefig(\"heat_sol{}.png\".format(n))\n",
    "    plt.show()\n",
    "    \n",
    "    \n",
    "\n",
    "    # Compute error at vertices\n",
    "    u_e = interpolate(u_D, V)\n",
    "    error =  np.abs(u_e.vector().get_local() - u.vector().get_local()).max()\n",
    "    print('t = %.2f: error = %.3g' % (t, error))\n",
    "    print(np.abs(u.vector().get_local()).max())\n",
    "    # Update previous solution\n",
    "    u_n.assign(u)\n",
    "\n",
    "\n"
   ]
  },
  {
   "cell_type": "code",
   "execution_count": null,
   "id": "8a7d6cdc-7e81-49ec-b42b-6bd8d29af93b",
   "metadata": {},
   "outputs": [],
   "source": []
  }
 ],
 "metadata": {
  "kernelspec": {
   "display_name": "Python 3 (ipykernel)",
   "language": "python",
   "name": "python3"
  },
  "language_info": {
   "codemirror_mode": {
    "name": "ipython",
    "version": 3
   },
   "file_extension": ".py",
   "mimetype": "text/x-python",
   "name": "python",
   "nbconvert_exporter": "python",
   "pygments_lexer": "ipython3",
   "version": "3.9.7"
  }
 },
 "nbformat": 4,
 "nbformat_minor": 5
}
