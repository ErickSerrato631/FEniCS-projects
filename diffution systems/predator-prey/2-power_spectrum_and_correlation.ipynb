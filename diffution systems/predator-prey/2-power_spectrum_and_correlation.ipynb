{
 "cells": [
  {
   "cell_type": "code",
   "execution_count": null,
   "id": "8dfa29d1-3b2e-43f3-8c0a-a2a8f4b3d577",
   "metadata": {},
   "outputs": [],
   "source": [
    "import matplotlib.pyplot as plt\n",
    "from matplotlib import cm\n",
    "from mpl_toolkits.mplot3d.axes3d import get_test_data\n",
    "from fenics import *\n",
    "from mshr import *\n",
    "import numpy as np\n",
    "import os"
   ]
  },
  {
   "cell_type": "code",
   "execution_count": null,
   "id": "c3e077db-e9e7-4ed5-aed5-4cb93e67049b",
   "metadata": {},
   "outputs": [],
   "source": [
    "os.chdir('/home/erick/Desktop/FEniCS/FEniCS-projects/diffution systems/predator-prey/regular_alpha_064')"
   ]
  },
  {
   "cell_type": "code",
   "execution_count": null,
   "id": "98500f79-949d-4c65-b94f-619972b52416",
   "metadata": {},
   "outputs": [],
   "source": []
  },
  {
   "cell_type": "code",
   "execution_count": null,
   "id": "afc6a6f6-e2fe-4f3d-b450-660632f8f933",
   "metadata": {
    "tags": []
   },
   "outputs": [],
   "source": [
    "def plot_field_and_fft(field, field_type, fft_field, t): \n",
    "    field=np.loadtxt(field,float)\n",
    "    fft_field=np.loadtxt(fft_field,float)\n",
    "    field[field == 0.0] = np.nan\n",
    "    plt.figure(figsize=(10, 3))\n",
    "    plt.subplot(1, 2, 1)\n",
    "    if field_type == 'P':\n",
    "        plt.imshow(field, cmap = 'seismic' , interpolation = 'bilinear')\n",
    "        plt.title(\"$P(t={})$\".format(t))\n",
    "    if field_type == 'N':\n",
    "        plt.imshow(field, cmap = 'gray' , interpolation = 'bilinear')\n",
    "        plt.title(\"$N(t={})$\".format(t))\n",
    "    plt.colorbar() \n",
    "    \n",
    "    plt.subplot(1, 2, 2)\n",
    "    plt.imshow(fft_field, cmap = 'seismic' , interpolation = 'bilinear')\n",
    "    if field_type == 'P':\n",
    "            plt.title(\"$P_{fft}(t=%s)$\" % t)\n",
    "    if field_type == 'N':\n",
    "            plt.title(\"$N_{fft}(t=%s)$\" % t)\n",
    "    plt.colorbar()\n",
    "    \n",
    "    plt.tight_layout(pad=-3.0)\n",
    "#    if field_type == 'P':\n",
    "#        plt.savefig(\"fields_P_{}.png\".format(t))\n",
    "#    if field_type == 'N':\n",
    "#        plt.savefig(\"fields_N_{}.png\".format(t))\n",
    "    plt.show()"
   ]
  },
  {
   "cell_type": "code",
   "execution_count": null,
   "id": "778156b7-b7c0-43ae-9455-f9a815d5831c",
   "metadata": {},
   "outputs": [],
   "source": [
    "def dft_mean(field, end_step, end_blocks):\n",
    "    step=0\n",
    "    while step <= end_step:\n",
    "        final_file = 0.0\n",
    "        for nb in range(1, end_blocks+1):\n",
    "            file_name = \"matrix_\" + field +  \"_dft_\" + str(step) + \"_nb_\" + str(nb) + \".txt\"\n",
    "            file_load = np.loadtxt(file_name, float)\n",
    "            final_file += file_load\n",
    "        final_file = final_file/float(end_blocks)\n",
    "        #print(\"step=\",step)\n",
    "        \n",
    "        f_save = \"FFT_\" + field + \"_\" + str(step) + \".txt\"\n",
    "        np.savetxt(f_save, final_file, delimiter=\"\\t\")\n",
    "        step += 5\n",
    "    plt.imshow(final_file, cmap=plt.cm.seismic)\n",
    "    plt.colorbar()\n",
    "    plt.show()"
   ]
  },
  {
   "cell_type": "code",
   "execution_count": null,
   "id": "7c0d01f3-44f3-42fb-b5d5-c175fe0ae605",
   "metadata": {},
   "outputs": [],
   "source": [
    "# Time parameters\n",
    "dt = 5 # step\n",
    "T = 2000 # end step\n",
    "nb = 5"
   ]
  },
  {
   "cell_type": "code",
   "execution_count": null,
   "id": "af0e35e3-7bc1-4b7e-bb59-d1e45087b960",
   "metadata": {},
   "outputs": [],
   "source": [
    "def power_spectrum(field_type, t, block):\n",
    "    field_file = \"matrix_\"  + field_type +\"_\"+ str(t) + \"_\" + \"nb_\" + str(block) + \".txt\"\n",
    "    field=np.loadtxt(field_file,float)\n",
    "    fft_field = np.fft.fft2(field)\n",
    "    fft_field=np.fft.fftshift(fft_field)\n",
    "    fft_field=(np.abs(fft_field))\n",
    "    max_fft = np.where(fft_field == fft_field.max())\n",
    "    fft_field[max_fft[0][0],max_fft[1][0]] = 0\n",
    "    dft_file = \"matrix\" + \"_{}_dft_\".format(field_type) + str(t) + \"_\" + \"nb_\" + str(block) + \".txt\"\n",
    "    np.savetxt(dft_file, fft_field, delimiter=\"\\t\")\n",
    "    return field_file, dft_file"
   ]
  },
  {
   "cell_type": "code",
   "execution_count": null,
   "id": "bc90404c-58aa-40d1-ba21-90dee2e8a396",
   "metadata": {},
   "outputs": [],
   "source": [
    "for block in range(1,nb+1):\n",
    "    t = 0  # zero time\n",
    "    while t <= T:\n",
    "        field_N, dft_field_N = power_spectrum('N', t, block)\n",
    "        field_P, dft_field_P = power_spectrum('P', t, block)\n",
    "        t += dt\n",
    "plot_field_and_fft(field_N, 'N', dft_field_N, t)\n",
    "plot_field_and_fft(field_P, 'P', dft_field_P, t)"
   ]
  },
  {
   "cell_type": "code",
   "execution_count": null,
   "id": "c66eceeb-9022-4f7b-b50b-24d632d2b510",
   "metadata": {},
   "outputs": [],
   "source": [
    "dft_mean('N', T, nb)\n",
    "dft_mean('P', T, nb)"
   ]
  },
  {
   "cell_type": "code",
   "execution_count": null,
   "id": "255e740b-17bc-4168-86f0-ca5eb4522120",
   "metadata": {},
   "outputs": [],
   "source": [
    "t = 0  # zero time\n",
    "while t <= T:\n",
    "    #print(t)\n",
    "    corr_nn, corr_pp, corr_np, test_nn = correlation_2D(t)\n",
    "    #plot_correlation_matrix(corr_nn, corr_pp, corr_np, t)\n",
    "\n",
    "    matrix_corr_nn_file = \"matrix_corr\" + \"_nn_\" + str(t) + \".txt\"\n",
    "    np.savetxt(matrix_corr_nn_file, corr_nn, delimiter=\"\\t\")\n",
    "\n",
    "    matrix_corr_pp_file = \"matrix_corr\" + \"_pp_\" + str(t) + \".txt\"\n",
    "    np.savetxt(matrix_corr_pp_file, corr_pp, delimiter=\"\\t\")\n",
    "\n",
    "    matrix_corr_np_file = \"matrix_corr\" + \"_np_\" + str(t) + \".txt\"\n",
    "    np.savetxt(matrix_corr_np_file, corr_np, delimiter=\"\\t\")\n",
    "    \n",
    "    matrix_corr_np_file = \"matrix_corr\" + \"_test_\" + str(t) + \".txt\"\n",
    "    np.savetxt(matrix_corr_np_file, test_nn, delimiter=\"\\t\")\n",
    "    t += dt"
   ]
  },
  {
   "cell_type": "code",
   "execution_count": null,
   "id": "25ca1ec0-4e57-422d-8d18-245a3175671d",
   "metadata": {},
   "outputs": [],
   "source": [
    "t = 15  # zero time\n",
    "while t < T:\n",
    "    polar_mean(t, \"nn\")\n",
    "    t += dt\n",
    "plot_correlations_3d('nn', T)"
   ]
  },
  {
   "cell_type": "code",
   "execution_count": null,
   "id": "9dd337bb-43e0-4b01-ac92-82d5b009dcce",
   "metadata": {},
   "outputs": [],
   "source": [
    "t = 15  # zero time\n",
    "while t < T:\n",
    "    polar_mean(t, \"test\")\n",
    "    t += dt\n",
    "plot_correlations_3d('test', T)"
   ]
  },
  {
   "cell_type": "code",
   "execution_count": null,
   "id": "dd3e496d-ec4b-4b97-af7f-eac882c608ef",
   "metadata": {},
   "outputs": [],
   "source": [
    "t = 15  # zero time\n",
    "while t < T:\n",
    "    polar_mean(t, \"pp\")\n",
    "    t += dt\n",
    "plot_correlations_3d('pp', T)"
   ]
  },
  {
   "cell_type": "code",
   "execution_count": null,
   "id": "7ae390cf-092a-4005-a60e-13ad86c90f94",
   "metadata": {},
   "outputs": [],
   "source": [
    "t = 15  # zero time\n",
    "while t < T:\n",
    "    polar_mean(t, \"np\")\n",
    "    t += dt\n",
    "plot_correlations_3d('np', T)"
   ]
  },
  {
   "cell_type": "code",
   "execution_count": null,
   "id": "6d19b5aa-693a-443c-90b2-91a872de3d78",
   "metadata": {},
   "outputs": [],
   "source": []
  },
  {
   "cell_type": "code",
   "execution_count": null,
   "id": "c7b4240d-dcdb-4bb5-9ae7-c404d84a405d",
   "metadata": {},
   "outputs": [],
   "source": []
  }
 ],
 "metadata": {
  "kernelspec": {
   "display_name": "Python 3 (ipykernel)",
   "language": "python",
   "name": "python3"
  },
  "language_info": {
   "codemirror_mode": {
    "name": "ipython",
    "version": 3
   },
   "file_extension": ".py",
   "mimetype": "text/x-python",
   "name": "python",
   "nbconvert_exporter": "python",
   "pygments_lexer": "ipython3",
   "version": "3.9.7"
  }
 },
 "nbformat": 4,
 "nbformat_minor": 5
}
