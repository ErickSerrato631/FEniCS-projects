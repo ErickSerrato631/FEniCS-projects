{
 "cells": [
  {
   "cell_type": "code",
   "execution_count": null,
   "id": "8dfa29d1-3b2e-43f3-8c0a-a2a8f4b3d577",
   "metadata": {},
   "outputs": [],
   "source": [
    "from fenics import *\n",
    "import matplotlib.pyplot as plt\n",
    "from mshr import *\n",
    "import numpy as np\n",
    "import os"
   ]
  },
  {
   "cell_type": "code",
   "execution_count": null,
   "id": "4bab82f9-8be3-41f7-99d6-91ebfa6f188e",
   "metadata": {},
   "outputs": [],
   "source": [
    "def power_spectrum(field):\n",
    "    fft_field = np.fft.fft2(field)\n",
    "    fft_field=np.fft.fftshift(fft_field)\n",
    "    fft_field=(np.abs(fft_field))\n",
    "    max_fft = np.where(fft_field == fft_field.max())\n",
    "    fft_field[max_fft[0][0],max_fft[1][0]] = 0      \n",
    "    return fft_field"
   ]
  },
  {
   "cell_type": "code",
   "execution_count": null,
   "id": "afc6a6f6-e2fe-4f3d-b450-660632f8f933",
   "metadata": {
    "tags": []
   },
   "outputs": [],
   "source": [
    "\n",
    "def plot_field_and_fft(field, field_type, fft_field, t): \n",
    "    plt.figure(figsize=(11, 4))\n",
    "    plt.subplot(1, 2, 1)\n",
    "    if field_type == 'P':\n",
    "        plt.imshow(field, cmap = 'seismic' , interpolation = 'bilinear')\n",
    "        plt.title(\"$P(t={})$\".format(t))\n",
    "    if field_type == 'N':\n",
    "        plt.imshow(field, cmap = 'gray' , interpolation = 'bilinear')\n",
    "        plt.title(\"$N(t={})$\".format(t))\n",
    "    plt.colorbar() \n",
    "    \n",
    "    plt.subplot(1, 2, 2)\n",
    "    plt.imshow(fft_field, cmap = 'seismic' , interpolation = 'bilinear')\n",
    "    if field_type == 'P':\n",
    "            plt.title(\"$P_{fft}(t=%s)$\" % t)\n",
    "    if field_type == 'N':\n",
    "            plt.title(\"$N_{fft}(t=%s)$\" % t)\n",
    "    plt.colorbar()\n",
    "    \n",
    "    plt.tight_layout(pad=-1.0)\n",
    "#    if field_type == 'P':\n",
    "#        plt.savefig(\"fields_P_{}.png\".format(t))\n",
    "#    if field_type == 'N':\n",
    "#        plt.savefig(\"fields_N_{}.png\".format(t))\n",
    "    plt.show()"
   ]
  },
  {
   "cell_type": "code",
   "execution_count": null,
   "id": "22cf2206-b109-478e-87a6-303cc3a8e77a",
   "metadata": {},
   "outputs": [],
   "source": [
    "def matrix_correlation_2D(step):\n",
    "    abs_n = \"matrix_\" + \"N\" + \"_dft_\" + str(step) + \".txt\"\n",
    "    abs_p = \"matrix_\" + \"P\" + \"_dft_\" + str(step) + \".txt\"\n",
    "    mod_n = np.loadtxt(abs_n, float)\n",
    "    mod_p = np.loadtxt(abs_p, float)\n",
    "\n",
    "    n2_inv = np.fft.ifftn(mod_n**2)\n",
    "    max_fft_n2_inv = np.where(n2_inv == n2_inv.max())\n",
    "    n2_inv[max_fft_n2_inv[0][0],max_fft_n2_inv[1][0]] = 0   \n",
    "    \n",
    "    p2_inv = np.fft.ifftn(mod_p**2)\n",
    "    max_fft_p2_inv = np.where(p2_inv == p2_inv.max())\n",
    "    p2_inv[max_fft_p2_inv[0][0],max_fft_p2_inv[1][0]] = 0\n",
    "    \n",
    "    np_inv = np.fft.ifftn(mod_n*mod_p)\n",
    "    max_fft_np_inv = np.where(np_inv == np_inv.max())\n",
    "    np_inv[max_fft_np_inv[0][0],max_fft_np_inv[1][0]] = 0\n",
    " \n",
    "    n2_inv = np.fft.fftshift(n2_inv)\n",
    "    p2_inv = np.fft.fftshift(p2_inv)\n",
    "    np_inv = np.fft.fftshift(np_inv)\n",
    "\n",
    "    file_abs_n  = np.abs(n2_inv)\n",
    "    file_abs_p  = np.abs(p2_inv)\n",
    "    file_abs_np = np.abs(np_inv)\n",
    "\n",
    "    file_n_real = \"matrix_\" + \"N\" + \"_\" + str(step) + \".txt\"\n",
    "    file_p_real = \"matrix_\" + \"P\" + \"_\" + str(step) + \".txt\"\n",
    "\n",
    "    file_load_n_real = np.loadtxt(file_n_real, float)\n",
    "    file_load_p_real = np.loadtxt(file_p_real, float)\n",
    "\n",
    "    mean_n = np.mean(file_load_n_real)\n",
    "    mean_p = np.mean(file_load_p_real)\n",
    "\n",
    "    print(\"<N> = \", mean_n, \" \\t <P> = \", mean_p)\n",
    "\n",
    "    corr_nn = file_abs_n - mean_n**2\n",
    "    corr_pp = file_abs_p - mean_p**2\n",
    "    corr_np = file_abs_np - mean_n*mean_p\n",
    "    \n",
    "    return corr_nn, corr_pp, corr_np"
   ]
  },
  {
   "cell_type": "code",
   "execution_count": null,
   "id": "4cc47cb1-d2bd-40ca-8b6e-fdbc6a64cf2f",
   "metadata": {},
   "outputs": [],
   "source": [
    "def plot_correlation_matrix(matrix_1, matrix_2, matrix_3, t): \n",
    "    plt.figure(figsize=(20, 3))\n",
    "    \n",
    "    plt.subplot(141)\n",
    "    plt.imshow(matrix_1, cmap = 'seismic' , interpolation = 'bilinear')\n",
    "    plt.title(\"$corr\\_nn(t={})$\".format(t))\n",
    "    plt.colorbar()\n",
    "    \n",
    "    plt.subplot(142)\n",
    "    plt.imshow(matrix_2, cmap = 'seismic' , interpolation = 'bilinear')\n",
    "    plt.title(\"$corr\\_pp(t={})$\".format(t))\n",
    "    plt.colorbar()\n",
    "\n",
    "    plt.subplot(143)\n",
    "    plt.imshow(matrix_2, cmap = 'seismic' , interpolation = 'bilinear')\n",
    "    plt.title(\"$corr\\_np(t={})$\".format(t))\n",
    "    plt.colorbar()\n",
    "\n",
    "    plt.tight_layout(pad=-3.0)\n",
    "    plt.show()\n"
   ]
  },
  {
   "cell_type": "code",
   "execution_count": null,
   "id": "37f0697a-39ca-4727-84a1-0629ac6cda73",
   "metadata": {},
   "outputs": [],
   "source": [
    "T=1000\n",
    "dt=5"
   ]
  },
  {
   "cell_type": "code",
   "execution_count": null,
   "id": "30cdb393-d33b-4fb4-95aa-a0d4b57b21e0",
   "metadata": {},
   "outputs": [],
   "source": [
    "def polar_mean(step, corr_type):\n",
    "    matrix_file = \"matrix_corr_\" + corr_type + \"_\" + str(t) + \".txt\"\n",
    "    matrix = np.loadtxt(matrix_file, float)\n",
    "    n = len(matrix)  \n",
    "    dk = 1.0\n",
    "    #dk = 1.0*len(matrix)\n",
    "    #dk = 2.0*np.pi/(len(matrix)*1)\n",
    "    #print(\"len_corr = \", dk)\n",
    "    p = np.zeros(int(n/2))\n",
    "    for i in range(1,int(n/2)): \n",
    "        k = dk*i\n",
    "        suma = 0.\n",
    "        dtheta = np.pi/90. # two degrees\n",
    "        \n",
    "        for j in range (1,180):\n",
    "            theta = j * dtheta    \n",
    "            nx = int( k*np.cos(theta)/dk - n/2)\n",
    "            ny = int( k*np.sin(theta)/dk - n/2)\n",
    "            suma += matrix[nx,ny]        \n",
    "        p[i] = suma/180.\n",
    "        \n",
    "    filename = \"correlation_\" + corr_type + \"_\" + str(step) + \".txt\"         \n",
    "    np.savetxt(filename, p, delimiter=\"\\n\")"
   ]
  },
  {
   "cell_type": "code",
   "execution_count": null,
   "id": "c66ff7f5-7e9c-405b-a9f3-6331f73d3553",
   "metadata": {},
   "outputs": [],
   "source": [
    "def graph_correlation(step, corr_type):\n",
    "    file = \"correlation_\"+corr_type+\"_\"+str(step)+\".txt\"\n",
    "    corr = np.loadtxt(file, float)\n",
    "    \n",
    "    plt.plot(corr, \"-o\")\n",
    "    plt.title(\"C_{}(t={})\".format(corr_type,step))\n",
    "    plt.xlabel(\"r\")\n",
    "    plt.ylabel(\"C_{}(r)\".format(corr_type))"
   ]
  },
  {
   "cell_type": "code",
   "execution_count": null,
   "id": "b55590f2-2180-4c1f-a102-bce62c47026b",
   "metadata": {},
   "outputs": [],
   "source": [
    "def graph_correlation_semilog(step, corr_type):\n",
    "\n",
    "    file = \"correlation_\"+corr_type+\"_\"+str(step)+\".txt\"\n",
    "    corr = np.loadtxt(file, float)\n",
    "\n",
    "    plt.semilogy(corr,\"-o\" )\n",
    "    plt.title(\"C_{}(t={})\".format(corr_type,step))\n",
    "    plt.xlabel(\"r\")\n",
    "    plt.ylabel(\"C_{}(r)\".format(corr_type))"
   ]
  },
  {
   "cell_type": "code",
   "execution_count": null,
   "id": "7c0d01f3-44f3-42fb-b5d5-c175fe0ae605",
   "metadata": {},
   "outputs": [],
   "source": [
    "# Time parameters\n",
    "dt = 5 # step\n",
    "T = 1000 # end step"
   ]
  },
  {
   "cell_type": "code",
   "execution_count": null,
   "id": "67638c53-1fbe-4b58-89b4-a25ff1dfd6bd",
   "metadata": {},
   "outputs": [],
   "source": [
    "os.chdir('/home/erick/Desktop/FEniCS/FEniCS-projects/diffution systems/predator-prey/fields')"
   ]
  },
  {
   "cell_type": "code",
   "execution_count": null,
   "id": "51def57f-263d-4add-aa18-ca3839ac5ee1",
   "metadata": {},
   "outputs": [],
   "source": [
    "t = 0  # zero time\n",
    "while t < T:\n",
    "    t += dt\n",
    "    field_N=np.loadtxt('matrix_N_{}.txt'.format(t),float)\n",
    "    fft_field = power_spectrum(field_N)\n",
    "    plot_field_and_fft(field_N, 'N', fft_field, t)\n",
    "    conc_dft_file = \"matrix\" + \"_N_dft_\" + str(t) + \".txt\"\n",
    "    np.savetxt(conc_dft_file, fft_field, delimiter=\"\\t\")\n",
    "    \n",
    "    field_P=np.loadtxt('matrix_P_{}.txt'.format(t), float)\n",
    "    fft_field = power_spectrum(field_P)\n",
    "    plot_field_and_fft(field_P, 'P', fft_field, t)\n",
    "    conc_dft_file = \"matrix\" + \"_P_dft_\" + str(t) + \".txt\"\n",
    "    np.savetxt(conc_dft_file, fft_field, delimiter=\"\\t\")\n"
   ]
  },
  {
   "cell_type": "code",
   "execution_count": null,
   "id": "255e740b-17bc-4168-86f0-ca5eb4522120",
   "metadata": {},
   "outputs": [],
   "source": [
    "t = 0  # zero time\n",
    "while t < T:\n",
    "    t += dt\n",
    "    print(t)\n",
    "    corr_nn, corr_pp, corr_np = matrix_correlation_2D(t)\n",
    "    plot_correlation_matrix(corr_nn, corr_pp, corr_np, t)\n",
    "    \n",
    "    matrix_corr_nn_file = \"matrix_corr\" + \"_nn_\" + str(t) + \".txt\"\n",
    "    np.savetxt(matrix_corr_nn_file, corr_nn, delimiter=\"\\t\")\n",
    "\n",
    "    matrix_corr_pp_file = \"matrix_corr\" + \"_pp_\" + str(t) + \".txt\"\n",
    "    np.savetxt(matrix_corr_pp_file, corr_pp, delimiter=\"\\t\")\n",
    "\n",
    "    matrix_corr_np_file = \"matrix_corr\" + \"_np_\" + str(t) + \".txt\"\n",
    "    np.savetxt(matrix_corr_np_file, corr_np, delimiter=\"\\t\")\n",
    "    "
   ]
  },
  {
   "cell_type": "code",
   "execution_count": null,
   "id": "25ca1ec0-4e57-422d-8d18-245a3175671d",
   "metadata": {},
   "outputs": [],
   "source": [
    "t = 0  # zero time\n",
    "while t < T:\n",
    "    t += dt\n",
    "    polar_mean(t, \"nn\")\n",
    "    graph_correlation(t, \"nn\")\n",
    "plt.savefig(\"correlation_nn.pdf\", format=\"pdf\", bbox_inches=\"tight\")\n",
    "plt.show()"
   ]
  },
  {
   "cell_type": "code",
   "execution_count": null,
   "id": "faadc3d7-177b-49f9-8c40-d1321eb5adb2",
   "metadata": {},
   "outputs": [],
   "source": [
    "t = 0  # zero time\n",
    "while t < T:\n",
    "    t += dt\n",
    "    graph_correlation_semilog(t, \"nn\")\n",
    "plt.savefig(\"correlation_nn_semilog.pdf\", format=\"pdf\", bbox_inches=\"tight\")\n",
    "plt.show()"
   ]
  },
  {
   "cell_type": "code",
   "execution_count": null,
   "id": "dd3e496d-ec4b-4b97-af7f-eac882c608ef",
   "metadata": {},
   "outputs": [],
   "source": [
    "t = 0  # zero time\n",
    "while t < T:\n",
    "    t += dt\n",
    "    polar_mean(t, \"pp\")\n",
    "    graph_correlation(t, \"pp\")\n",
    "plt.savefig(\"correlation_pp.pdf\", format=\"pdf\", bbox_inches=\"tight\")\n",
    "plt.show()"
   ]
  },
  {
   "cell_type": "code",
   "execution_count": null,
   "id": "70b91988-12d2-43b5-b875-5729935ab3de",
   "metadata": {},
   "outputs": [],
   "source": [
    "t = 0  # zero time\n",
    "while t < T:\n",
    "    t += dt\n",
    "    graph_correlation_semilog(t, \"pp\")\n",
    "plt.savefig(\"correlation_pp_semilog.pdf\", format=\"pdf\", bbox_inches=\"tight\")\n",
    "plt.show()"
   ]
  },
  {
   "cell_type": "code",
   "execution_count": null,
   "id": "45c70237-4dd2-4b64-bb00-88e618be15c7",
   "metadata": {},
   "outputs": [],
   "source": [
    "t = 0  # zero time\n",
    "while t < T:\n",
    "    t += dt\n",
    "    polar_mean(t, \"np\")\n",
    "    graph_correlation(t, \"np\")\n",
    "plt.savefig(\"correlation_np.pdf\", format=\"pdf\", bbox_inches=\"tight\")\n",
    "plt.show()"
   ]
  },
  {
   "cell_type": "code",
   "execution_count": null,
   "id": "38da6f73-3889-4348-92c8-42e2526aa293",
   "metadata": {},
   "outputs": [],
   "source": [
    "t = 0  # zero time\n",
    "while t < T:\n",
    "    t += dt\n",
    "    graph_correlation_semilog(t, \"np\")\n",
    "plt.savefig(\"correlation_np_semilog.pdf\", format=\"pdf\", bbox_inches=\"tight\")\n",
    "plt.show()"
   ]
  },
  {
   "cell_type": "code",
   "execution_count": null,
   "id": "3238683d-0b28-4a67-af42-3dd9f456d6bc",
   "metadata": {},
   "outputs": [],
   "source": []
  },
  {
   "cell_type": "code",
   "execution_count": null,
   "id": "4fa8ef8b-ef6e-4e95-9828-540053f86832",
   "metadata": {},
   "outputs": [],
   "source": []
  }
 ],
 "metadata": {
  "kernelspec": {
   "display_name": "Python 3 (ipykernel)",
   "language": "python",
   "name": "python3"
  },
  "language_info": {
   "codemirror_mode": {
    "name": "ipython",
    "version": 3
   },
   "file_extension": ".py",
   "mimetype": "text/x-python",
   "name": "python",
   "nbconvert_exporter": "python",
   "pygments_lexer": "ipython3",
   "version": "3.9.7"
  }
 },
 "nbformat": 4,
 "nbformat_minor": 5
}
