{
 "cells": [
  {
   "cell_type": "code",
   "execution_count": null,
   "id": "8dfa29d1-3b2e-43f3-8c0a-a2a8f4b3d577",
   "metadata": {},
   "outputs": [],
   "source": [
    "import matplotlib.pyplot as plt\n",
    "from matplotlib import cm\n",
    "from mpl_toolkits.mplot3d.axes3d import get_test_data\n",
    "from fenics import *\n",
    "from mshr import *\n",
    "import numpy as np\n",
    "import os"
   ]
  },
  {
   "cell_type": "code",
   "execution_count": null,
   "id": "c3e077db-e9e7-4ed5-aed5-4cb93e67049b",
   "metadata": {},
   "outputs": [],
   "source": [
    "os.chdir('/media/erick/TOSHIBA EXT/regular_alpha_064')"
   ]
  },
  {
   "cell_type": "code",
   "execution_count": null,
   "id": "afc6a6f6-e2fe-4f3d-b450-660632f8f933",
   "metadata": {
    "tags": []
   },
   "outputs": [],
   "source": [
    "def plot_field_and_fft(field, field_type, fft_field, t): \n",
    "    field=np.loadtxt(field,float)\n",
    "    fft_field=np.loadtxt(fft_field,float)\n",
    "    field[field == 0.0] = np.nan\n",
    "    plt.figure(figsize=(10, 3))\n",
    "    plt.subplot(1, 2, 1)\n",
    "    if field_type == 'P':\n",
    "        plt.imshow(field, cmap = 'seismic' , interpolation = 'bilinear')\n",
    "        plt.title(\"$P(t={})$\".format(t))\n",
    "    if field_type == 'N':\n",
    "        plt.imshow(field, cmap = 'gray' , interpolation = 'bilinear')\n",
    "        plt.title(\"$N(t={})$\".format(t))\n",
    "    plt.colorbar() \n",
    "    \n",
    "    plt.subplot(1, 2, 2)\n",
    "    plt.imshow(fft_field, cmap = 'seismic' , interpolation = 'bilinear')\n",
    "    if field_type == 'P':\n",
    "            plt.title(\"$P_{fft}(t=%s)$\" % t)\n",
    "    if field_type == 'N':\n",
    "            plt.title(\"$N_{fft}(t=%s)$\" % t)\n",
    "    plt.colorbar()\n",
    "    \n",
    "    plt.tight_layout(pad=-3.0)\n",
    "#    if field_type == 'P':\n",
    "#        plt.savefig(\"fields_P_{}.png\".format(t))\n",
    "#    if field_type == 'N':\n",
    "#        plt.savefig(\"fields_N_{}.png\".format(t))\n",
    "    plt.show()"
   ]
  },
  {
   "cell_type": "code",
   "execution_count": null,
   "id": "778156b7-b7c0-43ae-9455-f9a815d5831c",
   "metadata": {},
   "outputs": [],
   "source": [
    "def dft_mean(field, end_step, end_blocks):\n",
    "    step=0\n",
    "    while step <= end_step:\n",
    "        final_file = 0.0\n",
    "        for nb in range(1, end_blocks+1):\n",
    "            file_name = \"matrix_\" + field +  \"_dft_\" + str(step) + \"_nb_\" + str(nb) + \".txt\"\n",
    "            file_load = np.loadtxt(file_name, float)\n",
    "            final_file += file_load\n",
    "        final_file = final_file/float(end_blocks)\n",
    "        #print(\"step=\",step)\n",
    "        \n",
    "        f_save = \"FFT_\" + field + \"_\" + str(step) + \".txt\"\n",
    "        np.savetxt(f_save, final_file, delimiter=\"\\t\")\n",
    "        step += 5\n",
    "    plt.imshow(final_file, cmap=plt.cm.seismic)\n",
    "    plt.colorbar()\n",
    "    plt.show()"
   ]
  },
  {
   "cell_type": "code",
   "execution_count": null,
   "id": "7c0d01f3-44f3-42fb-b5d5-c175fe0ae605",
   "metadata": {},
   "outputs": [],
   "source": [
    "# Time parameters\n",
    "dt = 5 # step\n",
    "T = 3000 # end step\n",
    "nb = 10"
   ]
  },
  {
   "cell_type": "code",
   "execution_count": null,
   "id": "af0e35e3-7bc1-4b7e-bb59-d1e45087b960",
   "metadata": {},
   "outputs": [],
   "source": [
    "def power_spectrum(field_type, t, block):\n",
    "    field_file = \"matrix_\"  + field_type +\"_\"+ str(t) + \"_\" + \"nb_\" + str(block) + \".txt\"\n",
    "    field=np.loadtxt(field_file,float)\n",
    "    fft_field = np.fft.fft2(field)\n",
    "    fft_field=np.fft.fftshift(fft_field)\n",
    "    fft_field=(np.abs(fft_field))\n",
    "    max_fft = np.where(fft_field == fft_field.max())\n",
    "    fft_field[max_fft[0][0],max_fft[1][0]] = 0\n",
    "    dft_file = \"matrix\" + \"_{}_dft_\".format(field_type) + str(t) + \"_\" + \"nb_\" + str(block) + \".txt\"\n",
    "    np.savetxt(dft_file, fft_field, delimiter=\"\\t\")\n",
    "    return field_file, dft_file"
   ]
  },
  {
   "cell_type": "code",
   "execution_count": null,
   "id": "bc90404c-58aa-40d1-ba21-90dee2e8a396",
   "metadata": {},
   "outputs": [],
   "source": [
    "for block in range(1,nb+1):\n",
    "    t = 0  # zero time\n",
    "    while t <= T:\n",
    "        field_N, dft_field_N = power_spectrum('N', t, block)\n",
    "        field_P, dft_field_P = power_spectrum('P', t, block)\n",
    "        t += dt\n",
    "        plot_field_and_fft(field_N, 'N', dft_field_N, t)\n",
    "        plot_field_and_fft(field_P, 'P', dft_field_P, t)"
   ]
  },
  {
   "cell_type": "code",
   "execution_count": null,
   "id": "c66eceeb-9022-4f7b-b50b-24d632d2b510",
   "metadata": {},
   "outputs": [],
   "source": [
    "dft_mean('N', T, nb)\n",
    "dft_mean('P', T, nb)"
   ]
  },
  {
   "cell_type": "code",
   "execution_count": null,
   "id": "20f6941c-f858-4ff9-b094-bf7709e405a7",
   "metadata": {},
   "outputs": [],
   "source": []
  }
 ],
 "metadata": {
  "kernelspec": {
   "display_name": "Python 3 (ipykernel)",
   "language": "python",
   "name": "python3"
  },
  "language_info": {
   "codemirror_mode": {
    "name": "ipython",
    "version": 3
   },
   "file_extension": ".py",
   "mimetype": "text/x-python",
   "name": "python",
   "nbconvert_exporter": "python",
   "pygments_lexer": "ipython3",
   "version": "3.9.7"
  }
 },
 "nbformat": 4,
 "nbformat_minor": 5
}
