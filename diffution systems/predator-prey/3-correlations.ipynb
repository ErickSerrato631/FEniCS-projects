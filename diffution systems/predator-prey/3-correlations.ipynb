{
 "cells": [
  {
   "cell_type": "code",
   "execution_count": null,
   "id": "66695a52-1284-491e-bad9-2373a995a077",
   "metadata": {},
   "outputs": [],
   "source": [
    "import matplotlib.pyplot as plt\n",
    "from matplotlib import cm\n",
    "from mpl_toolkits.mplot3d.axes3d import get_test_data\n",
    "from fenics import *\n",
    "from mshr import *\n",
    "import numpy as np\n",
    "import os"
   ]
  },
  {
   "cell_type": "code",
   "execution_count": null,
   "id": "4db93cb6-d0f5-4e79-a272-18db1d5f22a7",
   "metadata": {},
   "outputs": [],
   "source": [
    "os.chdir('/media/erick/TOSHIBA EXT/regular_alpha_064')"
   ]
  },
  {
   "cell_type": "code",
   "execution_count": null,
   "id": "68314779-d1c8-47bb-9dff-6b081d0d6542",
   "metadata": {},
   "outputs": [],
   "source": [
    "def correlation_2D(step):\n",
    "    #obten el módulo del promedio del espectro de potencias\n",
    "    abs_n = \"FFT_\" + \"N_\" + str(step) + \".txt\"\n",
    "    abs_p = \"FFT_\" + \"P_\" + str(step) + \".txt\"\n",
    "    mod_n = np.loadtxt(abs_n, float)\n",
    "    mod_p = np.loadtxt(abs_p, float)\n",
    "    \n",
    "    # calcula la inversa del modulo al cuadrado\n",
    "    n2_inv = np.fft.ifftn(mod_n**2)\n",
    "    max_fft_n2_inv = np.where(n2_inv == n2_inv.max())\n",
    "    n2_inv[max_fft_n2_inv[0][0],max_fft_n2_inv[1][0]] = 0   \n",
    "    p2_inv = np.fft.ifftn(mod_p**2)\n",
    "    max_fft_p2_inv = np.where(p2_inv == p2_inv.max())\n",
    "    p2_inv[max_fft_p2_inv[0][0],max_fft_p2_inv[1][0]] = 0\n",
    "    np_inv = np.fft.ifftn(mod_n*mod_p)\n",
    "    max_fft_np_inv = np.where(np_inv == np_inv.max())\n",
    "    np_inv[max_fft_np_inv[0][0],max_fft_np_inv[1][0]] = 0\n",
    " \n",
    "    #Desplace el componente de frecuencia cero al centro del espectro.\n",
    "    n2_inv = np.fft.fftshift(n2_inv)\n",
    "    p2_inv = np.fft.fftshift(p2_inv)\n",
    "    np_inv = np.fft.fftshift(np_inv)\n",
    "\n",
    "    # Obten el valor absoluto de la tranformada inversa\n",
    "    file_abs_n  = np.abs(n2_inv)\n",
    "    file_abs_p  = np.abs(p2_inv)\n",
    "    file_abs_np = np.abs(np_inv)\n",
    "    mean_n = np.mean(file_abs_n)\n",
    "    mean_p = np.mean(file_abs_p)\n",
    "    std_n = np.std(mod_n)\n",
    "    std_p =  np.std(mod_p)\n",
    "    \n",
    "    #Calcula las correlaciones\n",
    "    corr_nn = (file_abs_n - mean_n**2) / (std_n*std_n)\n",
    "    corr_pp = (file_abs_p - mean_p**2) / (std_p*std_p)\n",
    "    corr_np = (file_abs_np - mean_n*mean_p) / (std_n*std_p)\n",
    "\n",
    "    matrix_corr_nn_file = \"matrix_corr\" + \"_nn_\" + str(t) + \".txt\"\n",
    "    np.savetxt(matrix_corr_nn_file, corr_nn, delimiter=\"\\t\")\n",
    "    matrix_corr_pp_file = \"matrix_corr\" + \"_pp_\" + str(t) + \".txt\"\n",
    "    np.savetxt(matrix_corr_pp_file, corr_pp, delimiter=\"\\t\")\n",
    "    matrix_corr_np_file = \"matrix_corr\" + \"_np_\" + str(t) + \".txt\"\n",
    "    np.savetxt(matrix_corr_np_file, corr_np, delimiter=\"\\t\")\n",
    "    return None"
   ]
  },
  {
   "cell_type": "code",
   "execution_count": null,
   "id": "fd7eb0d5-4d56-429a-b4a6-e232acb92c79",
   "metadata": {},
   "outputs": [],
   "source": [
    "def polar_mean(step, corr_type):\n",
    "    matrix_file = \"matrix_corr_\" + corr_type + \"_\" + str(step) + \".txt\"\n",
    "    matrix = np.loadtxt(matrix_file, float)\n",
    "    n = len(matrix)  \n",
    "    dk = 1.0\n",
    "    p = np.zeros(int(n/2))\n",
    "    for i in range(1,int(n/2)): \n",
    "        k = dk*i\n",
    "        suma = 0.\n",
    "        dtheta = np.pi/90. # two degrees\n",
    "        \n",
    "        for j in range (1,180):\n",
    "            theta = j * dtheta    \n",
    "            nx = int(k*np.cos(theta)/dk - n/2)\n",
    "            ny = int(k*np.sin(theta)/dk - n/2)\n",
    "            suma += matrix[nx,ny]        \n",
    "        p[i] = suma/180.\n",
    "        \n",
    "    filename = \"correlation_\" + corr_type + \"_\" + str(step) + \".txt\"         \n",
    "    np.savetxt(filename, p, delimiter=\"\\n\")\n",
    "    return None"
   ]
  },
  {
   "cell_type": "code",
   "execution_count": null,
   "id": "e08440c2-fe0f-4198-a1cd-f77915e954c9",
   "metadata": {},
   "outputs": [],
   "source": [
    "def axis_mean(step, corr_type):\n",
    "    matrix_file = \"matrix_corr_\" + corr_type + \"_\" + str(step) + \".txt\"\n",
    "    matrix = np.loadtxt(matrix_file, float)\n",
    "    x_mean =  np.mean(matrix, axis=0)\n",
    "    y_mean =  np.mean(matrix, axis=1)\n",
    "    \n",
    "    filename_x = \"correlation_mean_x\" + corr_type + \"_\" + str(step) + \".txt\"         \n",
    "    np.savetxt(filename_x, x_mean, delimiter=\"\\n\")\n",
    "    filename_y = \"correlation_mean_y\" + corr_type + \"_\" + str(step) + \".txt\"         \n",
    "    np.savetxt(filename_y, y_mean, delimiter=\"\\n\")\n",
    "    return None"
   ]
  },
  {
   "cell_type": "code",
   "execution_count": null,
   "id": "b347c1ee-b4e6-44f1-8cf3-72c478da2f34",
   "metadata": {},
   "outputs": [],
   "source": [
    "def get_correlation(step, corr_type):\n",
    "    file = \"correlation_\"+corr_type+\"_\"+str(step)+\".txt\"\n",
    "    corr = np.loadtxt(file, float)\n",
    "    return corr"
   ]
  },
  {
   "cell_type": "code",
   "execution_count": null,
   "id": "de66bb4c-fe8a-4752-92d4-fc2e2ed73277",
   "metadata": {},
   "outputs": [],
   "source": [
    "def plot_correlations_3d(corr_type, time_steps):\n",
    "    fig = plt.figure(figsize=(15,15))\n",
    "    ax = plt.axes(projection='3d')\n",
    "\n",
    "    # plot a 3D surface like in the example mplot3d/surface3d_demo\n",
    "    X = np.arange(0, 35, 1)\n",
    "    Y = np.arange(30, time_steps, 5)\n",
    "    X, Y = np.meshgrid(X, Y)\n",
    "    Z = np.array([get_correlation(i, corr_type) for i in range(30, time_steps, 5)])\n",
    "\n",
    "    surf = ax.plot_surface(X, Y, Z, rstride=1, cstride=1, alpha=1, cmap='Reds', linewidth=0.5, edgecolors='black')\n",
    "    fig.colorbar(surf, shrink=0.3, aspect=8, location='left', ax=ax)\n",
    "\n",
    "    ax.view_init(15, -90)\n",
    "#    ax.set_zlim(bottom=0)\n",
    "    ax.set_xlim(5,35)\n",
    "    ax.set_ylim(30,time_steps)\n",
    "\n",
    "    ax.set_xlabel('Number wave \"r\"', fontsize=15)\n",
    "    ax.set_ylabel('Time step', fontsize=15)\n",
    "    ax.set_zlabel('P(k,t)', fontsize=15)\n",
    "\n",
    "    return plt.show()"
   ]
  },
  {
   "cell_type": "code",
   "execution_count": null,
   "id": "b06342b2-4650-4b9f-8ace-3d68b1faeffc",
   "metadata": {},
   "outputs": [],
   "source": [
    "def plot_contour(corr_type, time_steps):\n",
    "    fig, ax = plt.subplots(figsize=(12,6))\n",
    "\n",
    "    # plot a 3D surface like in the example mplot3d/surface3d_demo\n",
    "    Y = np.arange(0, time_steps, 5)\n",
    "    X = np.arange(0, 35, 1)\n",
    "    X, Y = np.meshgrid(X, Y)\n",
    "    Z = np.array([get_correlation(i, corr_type) for i in range(0, time_steps, 5)])\n",
    "    \n",
    "    CS = ax.contour(X, Y, Z, levels = [0.25, 0.5, 0.75])\n",
    "    ax.clabel(CS, inline=True, fontsize=10)\n",
    "    ax.set_title('Simplest default with labels')\n",
    "    return plt.show()"
   ]
  },
  {
   "cell_type": "code",
   "execution_count": null,
   "id": "d2a60358-7bf2-427e-8892-fea9b8dbe8d3",
   "metadata": {},
   "outputs": [],
   "source": [
    "plot_contour('nn', 2000)"
   ]
  },
  {
   "cell_type": "code",
   "execution_count": null,
   "id": "c0656735-7e6d-4031-a4a8-34b5302117a1",
   "metadata": {},
   "outputs": [],
   "source": [
    "plot_contour('pp', 2000)"
   ]
  },
  {
   "cell_type": "code",
   "execution_count": null,
   "id": "67ff8078-ca3e-4d6c-b49d-dede88eeb5cb",
   "metadata": {},
   "outputs": [],
   "source": [
    "# Longitudes de correlación\n",
    "plot_contour('np', 2000)"
   ]
  },
  {
   "cell_type": "code",
   "execution_count": null,
   "id": "78fc1bce-2c25-4032-a6e3-b9de644b8758",
   "metadata": {},
   "outputs": [],
   "source": [
    "# Time parameters\n",
    "dt = 5 # step\n",
    "T = 2000 # end step\n",
    "nb = 8"
   ]
  },
  {
   "cell_type": "code",
   "execution_count": null,
   "id": "ca55d21a-7d43-4b5e-830d-973813e78a34",
   "metadata": {},
   "outputs": [],
   "source": [
    "t = 0  # zero time\n",
    "while t <= T:\n",
    "    correlation_2D(t)\n",
    "    t += dt"
   ]
  },
  {
   "cell_type": "code",
   "execution_count": null,
   "id": "319e8f6a-842c-4fff-9a40-b214980ad9e4",
   "metadata": {},
   "outputs": [],
   "source": [
    "t = 0  # zero time\n",
    "while t < T:\n",
    "    polar_mean(t, \"nn\")\n",
    "    t += dt\n",
    "plot_correlations_3d('nn', T)"
   ]
  },
  {
   "cell_type": "code",
   "execution_count": null,
   "id": "d6aa1b01-e987-4462-aa99-bf6232cc64f0",
   "metadata": {},
   "outputs": [],
   "source": [
    "t = 0  # zero time\n",
    "while t < T:\n",
    "    polar_mean(t, \"pp\")\n",
    "    t += dt\n",
    "plot_correlations_3d('pp', T)"
   ]
  },
  {
   "cell_type": "code",
   "execution_count": null,
   "id": "3f43f536-49c4-4691-b97b-ba27d98e4c5c",
   "metadata": {},
   "outputs": [],
   "source": [
    "t = 0  # zero time\n",
    "while t < T:\n",
    "    polar_mean(t, \"np\")\n",
    "    t += dt\n",
    "plot_correlations_3d('np', T)"
   ]
  },
  {
   "cell_type": "code",
   "execution_count": null,
   "id": "73b5af3e-51b9-4fe8-be38-65fb5dbaf433",
   "metadata": {},
   "outputs": [],
   "source": []
  }
 ],
 "metadata": {
  "kernelspec": {
   "display_name": "Python 3 (ipykernel)",
   "language": "python",
   "name": "python3"
  },
  "language_info": {
   "codemirror_mode": {
    "name": "ipython",
    "version": 3
   },
   "file_extension": ".py",
   "mimetype": "text/x-python",
   "name": "python",
   "nbconvert_exporter": "python",
   "pygments_lexer": "ipython3",
   "version": "3.9.7"
  }
 },
 "nbformat": 4,
 "nbformat_minor": 5
}
