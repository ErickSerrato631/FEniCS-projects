{
 "cells": [
  {
   "cell_type": "code",
   "execution_count": null,
   "id": "eb7b08b7-a0a4-4c31-86ec-9d108ed66c04",
   "metadata": {},
   "outputs": [],
   "source": [
    "from fenics import *\n",
    "import numpy as np\n",
    "from numpy import save\n",
    "from numpy.random import random\n",
    "import matplotlib.pyplot as plt\n",
    "from mshr import *\n",
    "set_log_level(30)"
   ]
  },
  {
   "cell_type": "code",
   "execution_count": null,
   "id": "4dfa867f-fa6b-4fc3-ae33-c083729cb558",
   "metadata": {},
   "outputs": [],
   "source": [
    "class PredatorPrey(NonlinearProblem):\n",
    "    def __init__(self, a, L):\n",
    "        NonlinearProblem.__init__(self)\n",
    "        self.L = L\n",
    "        self.a = a\n",
    "    def F(self, b, x): assemble(self.L, tensor=b)\n",
    "    def J(self, A, x): assemble(self.a, tensor=A)"
   ]
  },
  {
   "cell_type": "code",
   "execution_count": null,
   "id": "16363efa-e6da-4e8b-b07c-152fa2fe6bbd",
   "metadata": {},
   "outputs": [],
   "source": [
    "\"\"\"\n",
    "Define random initial condition\n",
    "\"\"\"\n",
    "class IC(UserExpression):\n",
    "    def __init__(self, **kwargs):\n",
    "        super().__init__(**kwargs)\n",
    "    def eval(self, values, x):\n",
    "        values[0] = 1.0*random() +0.25\n",
    "        values[1] = 1.0*random() +0.25\n",
    "    def value_shape(self): return (2,)"
   ]
  },
  {
   "cell_type": "code",
   "execution_count": null,
   "id": "3ab39787-cb1c-4768-9187-c3efa8c32710",
   "metadata": {},
   "outputs": [],
   "source": [
    "def save_fields_2D(fenics_array, step):\n",
    "    reshape_array=fenics_array.reshape(int(len(w_vector)/2),2)\n",
    "    field_1 = []\n",
    "    field_2 = []\n",
    "\n",
    "    for val in reshape_array:\n",
    "        field_1.append(val[0])\n",
    "        field_2.append(val[1])\n",
    "    field_1 = np.array(field_1)\n",
    "    field_2 = np.array(field_2)\n",
    "    save('fields/fields_{}.npy'.format(step), w_vector)\n",
    "    return None"
   ]
  },
  {
   "cell_type": "code",
   "execution_count": null,
   "id": "17e82997-6a56-48f2-9f7a-2beb101a5a6b",
   "metadata": {},
   "outputs": [],
   "source": [
    "def grafica(P, N, t):\n",
    "    \n",
    "    plt.figure(figsize=(11, 4))\n",
    "    \n",
    "    plt.subplot(1, 2, 1)\n",
    "    p1 = plot(P)\n",
    "    p1.set_cmap(\"seismic\")\n",
    "    plt.title(\"$P(t={})$\".format(t))\n",
    "    plt.colorbar(p1) \n",
    "    \n",
    "    plt.subplot(1, 2, 2)\n",
    "    p1 = plot(N)\n",
    "    p1.set_cmap(\"gray\")\n",
    "    plt.title(\"$N(t={})$\".format(t))\n",
    "    plt.colorbar(p1) \n",
    "    \n",
    "    plt.tight_layout(pad=-1.0)\n",
    "    plt.show()"
   ]
  },
  {
   "cell_type": "code",
   "execution_count": null,
   "id": "981a2c49-6202-4ffc-a306-6f6c75108d11",
   "metadata": {},
   "outputs": [],
   "source": [
    "# Define finite diference mesh\n",
    "p0 = Point(0.0, 0.0)\n",
    "p1 = Point(70,70) \n",
    "square = Rectangle(p0, p1)  \n",
    "mesh = RectangleMesh(p0, p1, 100,100,\"right/left\")\n",
    "\n",
    "# Work in function space, test and trial functions\n",
    "U = FiniteElement(\"CG\", mesh.ufl_cell(), 2)\n",
    "W = FunctionSpace(mesh, U * U)\n",
    "du   = TrialFunction(W)\n",
    "q, p = TestFunctions(W)\n",
    "w = Function(W)\n",
    "w0 =  Function(W)"
   ]
  },
  {
   "cell_type": "code",
   "execution_count": null,
   "id": "a89ae36d-256a-4514-95ad-71ccf6abc949",
   "metadata": {},
   "outputs": [],
   "source": [
    "# Split mixed functions\n",
    "dN, dP = split(du)\n",
    "N, P = split(w)\n",
    "N0, P0 = split(w0)"
   ]
  },
  {
   "cell_type": "code",
   "execution_count": null,
   "id": "72ff1d1c-d1f1-4623-9daf-f94c0db636a7",
   "metadata": {},
   "outputs": [],
   "source": [
    "# Apply random inital condition\n",
    "w_init = IC(element=W.ufl_element(), degree=2)\n",
    "w.interpolate(w_init)\n",
    "w0.interpolate(w_init)"
   ]
  },
  {
   "cell_type": "code",
   "execution_count": null,
   "id": "3be6a3b9-7793-4ede-9ae5-4913fa838336",
   "metadata": {},
   "outputs": [],
   "source": [
    "# Time parameters\n",
    "dt = 5 # step\n",
    "T = 500 # end step\n",
    "t = 0  # zero time\n",
    "\n",
    "# Set parameters\n",
    "D_N = 0.015\n",
    "D_P = 1.0\n",
    "alpha = 0.67\n",
    "beta = 0.25\n",
    "gamma = 0.5"
   ]
  },
  {
   "cell_type": "code",
   "execution_count": null,
   "id": "09ff5dc2-6047-4e73-b7bb-d409374b1735",
   "metadata": {},
   "outputs": [],
   "source": [
    "\n",
    "# writing PDE system in weak form\n",
    "L0 = N*q -N0*q +D_N*inner(grad(N), grad(q))*dt - alpha*N*(1-N)*(N+P)*q*dt + N*P*q*dt\n",
    "L1 = P*p -P0*p +D_P*inner(grad(P), grad(p))*dt + beta*P*(N+P)*p*dt - gamma*N*P*p*dt\n",
    "L  = (L0 + L1) *dx\n",
    "\n",
    "# Compute directional derivative about u in the direction of du\n",
    "a = derivative(L, w, du)\n",
    "problem = PredatorPrey(a, L)\n",
    "solver = NewtonSolver()\n",
    "solver.parameters[\"linear_solver\"] = \"lu\"\n",
    "solver.parameters[\"convergence_criterion\"] = \"incremental\"\n",
    "solver.parameters[\"relative_tolerance\"] = 1e-1"
   ]
  },
  {
   "cell_type": "code",
   "execution_count": null,
   "id": "2a2b5678-c112-4606-9bc0-5d6f6aeef8a8",
   "metadata": {},
   "outputs": [],
   "source": [
    "grafica(P0, N0, t)"
   ]
  },
  {
   "cell_type": "code",
   "execution_count": null,
   "id": "c4ad9a4d-6dd7-4f88-bbc3-39435fd65e14",
   "metadata": {},
   "outputs": [],
   "source": [
    "while t < T:\n",
    "    t += dt\n",
    "    w0.vector()[:] = w.vector()\n",
    "    solver.solve(problem, w.vector())\n",
    "    N,P = w.split()\n",
    "\n",
    "    dofmap = W.dofmap()\n",
    "    dof_x = W.tabulate_dof_coordinates().reshape(W.dim(),mesh.geometry().dim())\n",
    "    w_vector = w.vector().get_local()\n",
    "    #save_fields_2D(w_vector, t)\n",
    "    \n",
    "    print(\"t=\", t)\n",
    "    grafica(P, N, t)"
   ]
  },
  {
   "cell_type": "code",
   "execution_count": null,
   "id": "616064a1-5a6c-41f5-8531-dd9a86982723",
   "metadata": {},
   "outputs": [],
   "source": []
  }
 ],
 "metadata": {
  "kernelspec": {
   "display_name": "Python 3 (ipykernel)",
   "language": "python",
   "name": "python3"
  },
  "language_info": {
   "codemirror_mode": {
    "name": "ipython",
    "version": 3
   },
   "file_extension": ".py",
   "mimetype": "text/x-python",
   "name": "python",
   "nbconvert_exporter": "python",
   "pygments_lexer": "ipython3",
   "version": "3.9.7"
  }
 },
 "nbformat": 4,
 "nbformat_minor": 5
}
