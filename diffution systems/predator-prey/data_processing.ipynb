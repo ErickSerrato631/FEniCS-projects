{
 "cells": [
  {
   "cell_type": "code",
   "execution_count": null,
   "id": "8dfa29d1-3b2e-43f3-8c0a-a2a8f4b3d577",
   "metadata": {},
   "outputs": [],
   "source": [
    "from fenics import *\n",
    "import matplotlib.pyplot as plt\n",
    "from mshr import *\n",
    "import numpy as np\n",
    "import os"
   ]
  },
  {
   "cell_type": "code",
   "execution_count": null,
   "id": "4c2da9db-87c6-4386-99bc-f4356a3dab81",
   "metadata": {},
   "outputs": [],
   "source": [
    "os.chdir('/home/erick/Desktop/FEniCS/FEniCS-projects/diffution systems/predator-prey/fields')"
   ]
  },
  {
   "cell_type": "code",
   "execution_count": null,
   "id": "5c671ab3-4271-4a19-b7ec-754922836517",
   "metadata": {},
   "outputs": [],
   "source": [
    "def split_fields(field, coordinates_size, mesh_triangulation):\n",
    "    p0 = Point(0, 0)\n",
    "    p1 = Point(coordinates_size,coordinates_size) \n",
    "    square = Rectangle(p0, p1)  \n",
    "    mesh = RectangleMesh(p0, p1, mesh_triangulation, mesh_triangulation, \"right/left\")\n",
    "    U = FiniteElement(\"CG\", mesh.ufl_cell(), 2)\n",
    "    V = FunctionSpace(mesh, U * U)\n",
    "    v = Function(V)\n",
    "    v.vector().set_local(fields)\n",
    "    N, P = v.split()\n",
    "    return N, P"
   ]
  },
  {
   "cell_type": "code",
   "execution_count": null,
   "id": "43f80929-dd32-4807-931d-7964d53c85b9",
   "metadata": {},
   "outputs": [],
   "source": [
    "def fenics_field_to_numpy_array(fenics_field, coordinates_size): \n",
    "    field_array = np.empty((0, coordinates_size), int)\n",
    "    lista = []\n",
    "    for val_x in range(0,coordinates_size):\n",
    "        for val_y in range(0,coordinates_size):\n",
    "            valor=fenics_field(val_x,val_y)\n",
    "            lista.append(valor)\n",
    "\n",
    "            if len(lista) == coordinates_size:\n",
    "                field_array = np.append(field_array, np.array([lista]), axis=0)\n",
    "                if val_x < coordinates_size:\n",
    "                    lista = []\n",
    "    return field_array"
   ]
  },
  {
   "cell_type": "code",
   "execution_count": null,
   "id": "4bab82f9-8be3-41f7-99d6-91ebfa6f188e",
   "metadata": {},
   "outputs": [],
   "source": [
    "def power_spectrum(field):\n",
    "    fft_field = np.fft.fft2(field)\n",
    "    fft_field=np.fft.fftshift(fft_field)\n",
    "    fft_field=(np.abs(fft_field))\n",
    "    max_fft = np.where(fft_field == fft_field.max())\n",
    "    fft_field[max_fft[0][0],max_fft[1][0]] = 0      \n",
    "    return fft_field"
   ]
  },
  {
   "cell_type": "code",
   "execution_count": null,
   "id": "afc6a6f6-e2fe-4f3d-b450-660632f8f933",
   "metadata": {},
   "outputs": [],
   "source": [
    "def plot_field_and_fft(field, field_type, fft_field, t):\n",
    "    \n",
    "    plt.figure(figsize=(11, 4))\n",
    "    plt.subplot(1, 2, 1)\n",
    "    if field_type == 'P':\n",
    "        plt.imshow(field_array, cmap = 'seismic' , interpolation = 'bilinear')\n",
    "        plt.title(\"$P(t={})$\".format(t))\n",
    "    if field_type == 'N':\n",
    "        plt.imshow(field_array, cmap = 'gray' , interpolation = 'bilinear')\n",
    "        plt.title(\"$N(t={})$\".format(t))\n",
    "    plt.colorbar() \n",
    "    \n",
    "    plt.subplot(1, 2, 2)\n",
    "    plt.imshow(fft_field, cmap = 'seismic' , interpolation = 'bilinear')\n",
    "    if field_type == 'P':\n",
    "            plt.title(\"$P_{fft}(t=%s)$\" % t)\n",
    "    if field_type == 'N':\n",
    "            plt.title(\"$N_{fft}(t=%s)$\" % t)\n",
    "    plt.colorbar()\n",
    "    plt.show()\n",
    "    \n",
    "    plt.tight_layout(pad=-1.0)\n",
    "    plt.show()"
   ]
  },
  {
   "cell_type": "code",
   "execution_count": null,
   "id": "7c0d01f3-44f3-42fb-b5d5-c175fe0ae605",
   "metadata": {},
   "outputs": [],
   "source": [
    "coordinates_size = 70\n",
    "# Time parameters\n",
    "dt = 5 # step\n",
    "T = 500 # end step\n",
    "t = 0  # zero time"
   ]
  },
  {
   "cell_type": "code",
   "execution_count": null,
   "id": "51def57f-263d-4add-aa18-ca3839ac5ee1",
   "metadata": {},
   "outputs": [],
   "source": [
    "while t < T:\n",
    "    t += dt\n",
    "    fields=np.load('fields_{}.npy'.format(t))\n",
    "    N,P = split_fields(fields, coordinates_size, 100)\n",
    "    \n",
    "    field_array = fenics_field_to_numpy_array(N, coordinates_size)\n",
    "    fft_field = power_spectrum(field_array)\n",
    "    plot_field_and_fft(field_array, 'N', fft_field, t)\n",
    "    \n",
    "    field_array = fenics_field_to_numpy_array(P, coordinates_size)\n",
    "    fft_field = power_spectrum(field_array)\n",
    "    plot_field_and_fft(field_array, 'P', fft_field, t)\n"
   ]
  }
 ],
 "metadata": {
  "kernelspec": {
   "display_name": "Python 3 (ipykernel)",
   "language": "python",
   "name": "python3"
  },
  "language_info": {
   "codemirror_mode": {
    "name": "ipython",
    "version": 3
   },
   "file_extension": ".py",
   "mimetype": "text/x-python",
   "name": "python",
   "nbconvert_exporter": "python",
   "pygments_lexer": "ipython3",
   "version": "3.9.7"
  }
 },
 "nbformat": 4,
 "nbformat_minor": 5
}
