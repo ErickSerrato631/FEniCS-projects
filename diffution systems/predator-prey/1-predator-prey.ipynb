{
 "cells": [
  {
   "cell_type": "code",
   "execution_count": null,
   "id": "eb7b08b7-a0a4-4c31-86ec-9d108ed66c04",
   "metadata": {},
   "outputs": [],
   "source": [
    "from fenics import *\n",
    "import numpy as np\n",
    "from numpy import save\n",
    "from numpy.random import random\n",
    "import matplotlib.pyplot as plt\n",
    "from mshr import *\n",
    "import os\n",
    "set_log_level(30)"
   ]
  },
  {
   "cell_type": "code",
   "execution_count": null,
   "id": "4dfa867f-fa6b-4fc3-ae33-c083729cb558",
   "metadata": {},
   "outputs": [],
   "source": [
    "class PredatorPrey(NonlinearProblem):\n",
    "    def __init__(self, a, L):\n",
    "        NonlinearProblem.__init__(self)\n",
    "        self.L = L\n",
    "        self.a = a\n",
    "    def F(self, b, x): assemble(self.L, tensor=b)\n",
    "    def J(self, A, x): assemble(self.a, tensor=A)"
   ]
  },
  {
   "cell_type": "code",
   "execution_count": null,
   "id": "16363efa-e6da-4e8b-b07c-152fa2fe6bbd",
   "metadata": {},
   "outputs": [],
   "source": [
    "\"\"\"\n",
    "Define random initial condition\n",
    "\"\"\"\n",
    "class IC(UserExpression):\n",
    "    def __init__(self, **kwargs):\n",
    "        super().__init__(**kwargs)\n",
    "    def eval(self, values, x):\n",
    "        values[0] = 1.0*random() +0.25\n",
    "        values[1] = 1.0*random() +0.25\n",
    "    def value_shape(self): return (2,)"
   ]
  },
  {
   "cell_type": "code",
   "execution_count": null,
   "id": "51f0d2cb-3b4d-4c62-9347-a6195fb1b76b",
   "metadata": {},
   "outputs": [],
   "source": [
    "def fenics_field_to_numpy_array(fenics_field, coordinates_size, step, field_name, nb): \n",
    "    field_array = np.empty((0, coordinates_size), int)\n",
    "    lista = []\n",
    "    for val_x in range(0,coordinates_size):\n",
    "        for val_y in range(0,coordinates_size):\n",
    "            try:\n",
    "                valor=fenics_field(val_x,val_y)\n",
    "                lista.append(valor)\n",
    "            except:\n",
    "                lista.append(0)\n",
    "\n",
    "            if len(lista) == coordinates_size:\n",
    "                field_array = np.append(field_array, np.array([lista]), axis=0)\n",
    "                if val_x < coordinates_size:\n",
    "                    lista = []\n",
    "    N_field = \"matrix_\"  + field_name +\"_\"+ str(step) + \"_\" + \"nb_\" + str(nb) + \".txt\"\n",
    "    np.savetxt(N_field, field_array, delimiter=\"\\t\")\n",
    "    return None"
   ]
  },
  {
   "cell_type": "code",
   "execution_count": null,
   "id": "17e82997-6a56-48f2-9f7a-2beb101a5a6b",
   "metadata": {},
   "outputs": [],
   "source": [
    "def grafica(P, N, t):\n",
    "    plt.figure(figsize=(11, 4))\n",
    "    \n",
    "    plt.subplot(1, 2, 1)\n",
    "    p1 = plot(P)\n",
    "    p1.set_cmap(\"seismic\")\n",
    "    plt.title(\"$P(t={})$\".format(t))\n",
    "    plt.colorbar(p1) \n",
    "    \n",
    "    plt.subplot(1, 2, 2)\n",
    "    p1 = plot(N)\n",
    "    p1.set_cmap(\"gray\")\n",
    "    plt.title(\"$N(t={})$\".format(t))\n",
    "    plt.colorbar(p1) \n",
    "    \n",
    "    plt.tight_layout(pad=-1.0)\n",
    "    plt.show()"
   ]
  },
  {
   "cell_type": "code",
   "execution_count": null,
   "id": "bb72b526-a787-4435-b412-3f07fb2495cb",
   "metadata": {},
   "outputs": [],
   "source": [
    "def mesh():\n",
    "    # Define finite diference mesh\n",
    "    p0 = Point(0.0, 0.0)\n",
    "    p1 = Point(70,70) \n",
    "    mesh = RectangleMesh(p0, p1, 100,100,\"right/left\")\n",
    "    return mesh"
   ]
  },
  {
   "cell_type": "code",
   "execution_count": null,
   "id": "ea253404-f19d-4a68-9075-cb0ccd4e737c",
   "metadata": {},
   "outputs": [],
   "source": [
    "def irregular_mesh():\n",
    "    p0 = Point(0.0, 0.0)\n",
    "    p1 = Point(70,70) \n",
    "    square = Rectangle(p0, p1)\n",
    "    p2 = Point(10, 5)\n",
    "    p3 = Point(20,65) \n",
    "    rec1 = Rectangle(p2, p3)\n",
    "    p4 = Point(30,5)\n",
    "    p5 = Point(40,65) \n",
    "    rec2 = Rectangle(p4, p5)\n",
    "    p6 = Point(50,5)\n",
    "    p7 = Point(60,65) \n",
    "    rec3 = Rectangle(p6, p7)\n",
    "    domain = square - rec1 -rec2 -rec3\n",
    "    mesh = generate_mesh(domain,200)\n",
    "    return mesh"
   ]
  },
  {
   "cell_type": "code",
   "execution_count": null,
   "id": "d7a4e151-e024-4151-8d68-38c9631ef5f9",
   "metadata": {},
   "outputs": [],
   "source": [
    "def function_space(mesh):\n",
    "    # Work in function space, test and trial functions\n",
    "    U = FiniteElement(\"CG\", mesh.ufl_cell(), 2)\n",
    "    W = FunctionSpace(mesh, U * U)\n",
    "    du   = TrialFunction(W)\n",
    "    q, p = TestFunctions(W)\n",
    "    w = Function(W)\n",
    "    w0 =  Function(W)\n",
    "    return W,du,q,p,w,w0"
   ]
  },
  {
   "cell_type": "code",
   "execution_count": null,
   "id": "a89ae36d-256a-4514-95ad-71ccf6abc949",
   "metadata": {},
   "outputs": [],
   "source": [
    "W,du,q,p,w,w0 = function_space(mesh())\n"
   ]
  },
  {
   "cell_type": "code",
   "execution_count": null,
   "id": "72ff1d1c-d1f1-4623-9daf-f94c0db636a7",
   "metadata": {},
   "outputs": [],
   "source": [
    "# Split mixed functions\n",
    "dN, dP = split(du)\n",
    "N, P = split(w)\n",
    "N0, P0 = split(w0)\n",
    "\n",
    "# Apply random inital condition\n",
    "w_init = IC(element=W.ufl_element(), degree=2)\n",
    "w.interpolate(w_init)\n",
    "w0.interpolate(w_init)"
   ]
  },
  {
   "cell_type": "code",
   "execution_count": null,
   "id": "3be6a3b9-7793-4ede-9ae5-4913fa838336",
   "metadata": {},
   "outputs": [],
   "source": [
    "# Time parameters\n",
    "dt = 5 # step\n",
    "T = 2000 # end step\n",
    "t = 0  # zero time\n",
    "nb = 5\n",
    "\n",
    "# Set parameters\n",
    "D_N = 0.015\n",
    "D_P = 1.0\n",
    "alpha = 0.64\n",
    "beta = 0.25\n",
    "gamma = 0.5"
   ]
  },
  {
   "cell_type": "code",
   "execution_count": null,
   "id": "09ff5dc2-6047-4e73-b7bb-d409374b1735",
   "metadata": {},
   "outputs": [],
   "source": [
    "# writing PDE system in weak form\n",
    "L0 = N*q -N0*q +D_N*inner(grad(N), grad(q))*dt - alpha*N*(1-N)*(N+P)*q*dt + N*P*q*dt\n",
    "L1 = P*p -P0*p +D_P*inner(grad(P), grad(p))*dt + beta*P*(N+P)*p*dt - gamma*N*P*p*dt\n",
    "L  = (L0 + L1) *dx\n",
    "\n",
    "# Compute directional derivative about u in the direction of du\n",
    "a = derivative(L, w, du)\n",
    "problem = PredatorPrey(a, L)\n",
    "solver = NewtonSolver()\n",
    "solver.parameters[\"linear_solver\"] = \"lu\"\n",
    "solver.parameters[\"convergence_criterion\"] = \"incremental\"\n",
    "solver.parameters[\"relative_tolerance\"] = 1e-1"
   ]
  },
  {
   "cell_type": "code",
   "execution_count": null,
   "id": "c4ad9a4d-6dd7-4f88-bbc3-39435fd65e14",
   "metadata": {},
   "outputs": [],
   "source": [
    "os.chdir('/home/erick/Desktop/FEniCS/FEniCS-projects/diffution systems/predator-prey/regular_alpha_064')\n",
    "for block in range(1,nb+1):\n",
    "    t = 0\n",
    "    # Apply random inital condition\n",
    "    w_init = IC(element=W.ufl_element(), degree=2)\n",
    "    w.interpolate(w_init)\n",
    "    w0.interpolate(w_init)\n",
    "    \n",
    "    N0,P0 = w0.split()\n",
    "    fenics_field_to_numpy_array(P0, 70, 0, \"P\", block)\n",
    "    fenics_field_to_numpy_array(N0, 70, 0, \"N\", block)\n",
    "    grafica(P0, N0, 0)\n",
    "    \n",
    "    while t < T:\n",
    "        t += dt\n",
    "        w0.vector()[:] = w.vector()\n",
    "        solver.solve(problem, w.vector())\n",
    "        N,P = w.split()\n",
    "\n",
    "        fenics_field_to_numpy_array(P, 70, t, \"P\", block)\n",
    "        fenics_field_to_numpy_array(N, 70, t, \"N\", block)\n",
    "\n",
    "        print(\"block=\", block)        \n",
    "        print(\"t=\", t)\n",
    "        #grafica(P, N, t)"
   ]
  },
  {
   "cell_type": "code",
   "execution_count": null,
   "id": "d025bb63-b5d0-415f-a1b9-faa7e73a2ceb",
   "metadata": {},
   "outputs": [],
   "source": []
  },
  {
   "cell_type": "code",
   "execution_count": null,
   "id": "e8bdd904-4f97-4728-8c37-a44f70c3cd6c",
   "metadata": {},
   "outputs": [],
   "source": []
  }
 ],
 "metadata": {
  "kernelspec": {
   "display_name": "Python 3 (ipykernel)",
   "language": "python",
   "name": "python3"
  },
  "language_info": {
   "codemirror_mode": {
    "name": "ipython",
    "version": 3
   },
   "file_extension": ".py",
   "mimetype": "text/x-python",
   "name": "python",
   "nbconvert_exporter": "python",
   "pygments_lexer": "ipython3",
   "version": "3.9.7"
  }
 },
 "nbformat": 4,
 "nbformat_minor": 5
}
