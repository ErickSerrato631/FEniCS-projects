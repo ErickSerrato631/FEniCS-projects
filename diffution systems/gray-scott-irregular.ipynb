{
 "cells": [
  {
   "cell_type": "code",
   "execution_count": null,
   "id": "9946b86e-9d7f-49b4-b42f-fa760b71fdc9",
   "metadata": {},
   "outputs": [],
   "source": [
    "from dolfin import *\n",
    "import numpy as np\n",
    "import matplotlib.pyplot as plt\n",
    "from mshr import *"
   ]
  },
  {
   "cell_type": "code",
   "execution_count": null,
   "id": "47096840-3a3c-4fb9-a688-646f2df0316b",
   "metadata": {},
   "outputs": [],
   "source": [
    "# Set parameters\n",
    "D_u = 8.0e-05\n",
    "D_v = 4.0e-05\n",
    "c = 0.022\n",
    "k = 0.055\n",
    "\n",
    "dt = 10\n",
    "t_max = 2500"
   ]
  },
  {
   "cell_type": "code",
   "execution_count": null,
   "id": "44089d39-e7fa-4b13-9988-7f7b5e9f274f",
   "metadata": {},
   "outputs": [],
   "source": [
    "# Form compiler options\n",
    "parameters[\"form_compiler\"][\"optimize\"]     = True\n",
    "parameters[\"form_compiler\"][\"cpp_optimize\"] = True\n",
    "parameters[\"form_compiler\"][\"representation\"] = \"uflacs\"\n",
    "set_log_level(30)"
   ]
  },
  {
   "cell_type": "code",
   "execution_count": null,
   "id": "2118a82a-1436-4f37-b457-b580f40c3ed5",
   "metadata": {},
   "outputs": [],
   "source": [
    "# Class representing the initial conditions\n",
    "class InitialConditions(UserExpression):\n",
    "    def eval(self, val, x):\n",
    "        if between(x[0], (1.0, 1.25)) and between(x[1], (1.0, 1.25)):\n",
    "            val[1] = 0.25*np.power(np.sin(4*np.pi*x[0]), 2)*np.power(np.sin(4*np.pi*x[1]), 2)\n",
    "            val[0] = 1.5 - 2*val[1]\n",
    "        else:\n",
    "            val[1] = 0\n",
    "            val[0] = 1\n",
    "    def value_shape(self):\n",
    "        return (2,)"
   ]
  },
  {
   "cell_type": "code",
   "execution_count": null,
   "id": "ddc14a02-f552-48b7-89cd-54f9c0342bc5",
   "metadata": {},
   "outputs": [],
   "source": [
    "# Class for interfacing with the Newton solver\n",
    "class GrayScottEquations(NonlinearProblem):\n",
    "    def __init__(self, a, L):\n",
    "        NonlinearProblem.__init__(self)\n",
    "        self.L = L\n",
    "        self.a = a\n",
    "    def F(self, b, x):\n",
    "        assemble(self.L, tensor=b)\n",
    "    def J(self, A, x):\n",
    "        assemble(self.a, tensor=A)"
   ]
  },
  {
   "cell_type": "code",
   "execution_count": null,
   "id": "e1f6da9e-15c2-4c5b-9924-b0183afc59d6",
   "metadata": {},
   "outputs": [],
   "source": [
    "p0 = Point(0.0, 0.0)\n",
    "p1 = Point(2,2) \n",
    "square_domain = Rectangle(p0, p1)\n",
    "\n",
    "p0 = Point(0.2, 0.2)\n",
    "p1 = Point(0.4, 1.2) \n",
    "rectangle_1 = Rectangle(p0, p1)\n",
    "\n",
    "p0 = Point(1.5, 0.2)\n",
    "p1 = Point(1.7, 1.5) \n",
    "rectangle_2 = Rectangle(p0, p1)\n",
    "\n",
    "domain = square_domain - rectangle_1 - rectangle_2\n",
    " \n",
    "\n",
    "mesh = generate_mesh(domain,32)\n",
    "plot(mesh)\n"
   ]
  },
  {
   "cell_type": "code",
   "execution_count": null,
   "id": "33efd1d2-5e76-4ada-a11c-6eef976fa381",
   "metadata": {},
   "outputs": [],
   "source": [
    "# Define functions\n",
    "V = VectorFunctionSpace(mesh, 'CG', 2)\n",
    "W_init = InitialConditions(degree = 1)\n",
    "phi    = TestFunction(V)\n",
    "dp     = TrialFunction(V)\n",
    "W0     = Function(V)\n",
    "W      = Function(V)"
   ]
  },
  {
   "cell_type": "code",
   "execution_count": null,
   "id": "d08e0827-c950-468e-9707-1a37929ac21a",
   "metadata": {},
   "outputs": [],
   "source": [
    "# Interpolate initial conditions and split functions\n",
    "W0.interpolate(W_init)\n",
    "q, p   = split(phi)\n",
    "u,  v  = split(W)\n",
    "u0, v0 = split(W0)"
   ]
  },
  {
   "cell_type": "code",
   "execution_count": null,
   "id": "0cfd4c18-cf41-4f96-b8aa-c2bb5f2da8af",
   "metadata": {},
   "outputs": [],
   "source": [
    "p1 = plot(u0)\n",
    "p1.set_cmap(\"seismic\")\n",
    "plt.title(\"$u(t=0)$\")\n",
    "plt.colorbar(p1)   \n",
    "plt.savefig(\"gray_scott_0.png\") \n",
    "plt.show()  \n",
    "\n",
    "p1 = plot(v0)\n",
    "p1.set_cmap(\"gray\")\n",
    "plt.title(\"$v(t=0)\")\n",
    "plt.colorbar(p1)   \n",
    "plt.show()"
   ]
  },
  {
   "cell_type": "code",
   "execution_count": null,
   "id": "b68c7fe5-bead-48a0-9ce7-086a44319ce5",
   "metadata": {},
   "outputs": [],
   "source": [
    "# Weak statement of the equations\n",
    "F1 = u*q*dx -u0*q*dx +D_u*inner(grad(u), grad(q))*dt*dx +u*v*v*q*dt*dx -c*(1-u)*q*dt*dx\n",
    "F2 = v*p*dx -v0*p*dx +D_v*inner(grad(v), grad(p))*dt*dx -u*v*v*p*dt*dx +(c+k)*v*p*dt*dx\n",
    "F = F1 + F2"
   ]
  },
  {
   "cell_type": "code",
   "execution_count": null,
   "id": "f75a55da-cd4a-41f5-8c53-536d38d4a876",
   "metadata": {},
   "outputs": [],
   "source": [
    "# Compute directional derivative about W in the direction of dp (Jacobian)\n",
    "a = derivative(F, W, dp)"
   ]
  },
  {
   "cell_type": "code",
   "execution_count": null,
   "id": "7c0824cc-d1ce-4dd9-9aa8-0638dffada47",
   "metadata": {},
   "outputs": [],
   "source": [
    "# Create nonlinear problem and Newton solver\n",
    "problem = GrayScottEquations(a, F)\n",
    "solver = NewtonSolver()\n",
    "solver.parameters[\"linear_solver\"] = \"lu\"\n",
    "solver.parameters[\"convergence_criterion\"] = \"incremental\"\n",
    "solver.parameters[\"relative_tolerance\"] = 1e-2"
   ]
  },
  {
   "cell_type": "code",
   "execution_count": null,
   "id": "bf754406-b3de-4bf8-9477-5f6bbf318bad",
   "metadata": {},
   "outputs": [],
   "source": [
    "t = 0\n",
    "W.assign(W0)\n",
    "while (t < t_max):\n",
    "    t += dt\n",
    "    solver.solve(problem, W.vector())\n",
    "    W0.assign(W)\n",
    "    u_out, v_out = W.split()\n",
    "    \n",
    "    p1 = plot(u_out)\n",
    "    p1.set_cmap(\"seismic\")\n",
    "    plt.title(\"$u(t= {})$\".format(t))\n",
    "    plt.colorbar(p1)   \n",
    "    plt.savefig(\"gray_scott_{}.png\".format(t)) \n",
    "    plt.show()  \n",
    "    \n",
    "    p2 = plot(v_out)\n",
    "    p2.set_cmap(\"gray\")\n",
    "    plt.title(\"$v(t={})$\".format(t))\n",
    "    plt.colorbar(p2)     \n",
    "    plt.show()      \n"
   ]
  },
  {
   "cell_type": "code",
   "execution_count": null,
   "id": "96a6933b-bdfd-44c5-b659-829d7caa44dc",
   "metadata": {},
   "outputs": [],
   "source": []
  },
  {
   "cell_type": "code",
   "execution_count": null,
   "id": "094800ac-942b-4bcc-a718-8fc911097d4c",
   "metadata": {},
   "outputs": [],
   "source": []
  }
 ],
 "metadata": {
  "kernelspec": {
   "display_name": "Python 3 (ipykernel)",
   "language": "python",
   "name": "python3"
  },
  "language_info": {
   "codemirror_mode": {
    "name": "ipython",
    "version": 3
   },
   "file_extension": ".py",
   "mimetype": "text/x-python",
   "name": "python",
   "nbconvert_exporter": "python",
   "pygments_lexer": "ipython3",
   "version": "3.9.7"
  }
 },
 "nbformat": 4,
 "nbformat_minor": 5
}
