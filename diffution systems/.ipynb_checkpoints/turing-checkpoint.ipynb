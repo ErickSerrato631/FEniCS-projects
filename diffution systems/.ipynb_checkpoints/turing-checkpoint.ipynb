{
 "cells": [
  {
   "cell_type": "code",
   "execution_count": null,
   "id": "eb7b08b7-a0a4-4c31-86ec-9d108ed66c04",
   "metadata": {},
   "outputs": [],
   "source": [
    "from fenics import *\n",
    "from numpy.random import random\n",
    "set_log_level(30)\n",
    "import matplotlib.pyplot as plt\n",
    "from mshr import *"
   ]
  },
  {
   "cell_type": "code",
   "execution_count": null,
   "id": "4dfa867f-fa6b-4fc3-ae33-c083729cb558",
   "metadata": {},
   "outputs": [],
   "source": [
    "class TuringPattern(NonlinearProblem):\n",
    "    def __init__(self, a, L):\n",
    "        NonlinearProblem.__init__(self)\n",
    "        self.L = L\n",
    "        self.a = a\n",
    "    def F(self, b, x): assemble(self.L, tensor=b)\n",
    "    def J(self, A, x): assemble(self.a, tensor=A)"
   ]
  },
  {
   "cell_type": "code",
   "execution_count": null,
   "id": "688ad488-23bd-4b00-843c-5f8dcff15c22",
   "metadata": {},
   "outputs": [],
   "source": [
    "#mesh = UnitSquareMesh(48, 48)\n",
    "\n",
    "p0 = Point(0.0, 0.0)\n",
    "p1 = Point(4,4) \n",
    "mesh = RectangleMesh(p0, p1, 64, 64)\n",
    "\n",
    "#C = Circle(Point(0,0), 1)\n",
    "#mesh = generate_mesh(C,16)\n",
    "plot(mesh)"
   ]
  },
  {
   "cell_type": "code",
   "execution_count": null,
   "id": "abecb5e9-cff4-4458-b4aa-70cecdbf8081",
   "metadata": {},
   "outputs": [],
   "source": [
    "\n",
    "\n",
    "U = FiniteElement(\"CG\", mesh.ufl_cell(), 2)\n",
    "\n",
    "W = FunctionSpace(mesh, U * U)\n",
    "\n",
    "du   = TrialFunction(W)\n",
    "q, p = TestFunctions(W)\n",
    "\n",
    "w = Function(W)\n",
    "w0 =  Function(W)"
   ]
  },
  {
   "cell_type": "code",
   "execution_count": null,
   "id": "a89ae36d-256a-4514-95ad-71ccf6abc949",
   "metadata": {},
   "outputs": [],
   "source": [
    "# Split mixed functions\n",
    "dact, dhib = split(du)\n",
    "act, hib = split(w)\n",
    "act0, hib0 = split(w0)\n",
    "\n",
    "dt = 0.2\n",
    "T = 20.5"
   ]
  },
  {
   "cell_type": "code",
   "execution_count": null,
   "id": "0f2740c0-24ef-40d3-9093-e0e70276da5d",
   "metadata": {},
   "outputs": [],
   "source": [
    "class IC(UserExpression):\n",
    "    def __init__(self, **kwargs):\n",
    "        super().__init__(**kwargs)\n",
    "    def eval(self, values, x):\n",
    "        values[0] = 1.0*random() +0.25\n",
    "        values[1] = 1.0*random() +0.25\n",
    "    def value_shape(self): return (2,)"
   ]
  },
  {
   "cell_type": "code",
   "execution_count": null,
   "id": "72ff1d1c-d1f1-4623-9daf-f94c0db636a7",
   "metadata": {},
   "outputs": [],
   "source": [
    "w_init = IC(element=W.ufl_element(), degree=2)\n",
    "w.interpolate(w_init)\n",
    "w0.interpolate(w_init)"
   ]
  },
  {
   "cell_type": "code",
   "execution_count": null,
   "id": "3be6a3b9-7793-4ede-9ae5-4913fa838336",
   "metadata": {},
   "outputs": [],
   "source": [
    "D_act = 0.005\n",
    "D_hib = 0.1\n",
    "\n",
    "a = 1.0\n",
    "b= 1.0\n",
    "\n",
    "L0 = act*q - act0*q \\\n",
    "    + dt*D_act*inner(grad(act), grad(q)) \\\n",
    "    - dt*inner(act*act*hib,q) \\\n",
    "    + a*dt*inner(act,q)\n",
    "L1 = hib*p -hib0*p \\\n",
    "    + dt*D_hib*inner(grad(hib), grad(p)) \\\n",
    "    + dt*inner(act*act*hib, p) \\\n",
    "    - dt*inner(Constant(b),p)\n",
    "L  = (L0 + L1) *dx"
   ]
  },
  {
   "cell_type": "code",
   "execution_count": null,
   "id": "09ff5dc2-6047-4e73-b7bb-d409374b1735",
   "metadata": {},
   "outputs": [],
   "source": [
    "# Compute directional derivative about u in the direction of du\n",
    "a = derivative(L, w, du)\n",
    "\n",
    "problem = TuringPattern(a, L)\n",
    "solver = NewtonSolver()\n",
    "solver.parameters[\"linear_solver\"] = \"lu\"\n",
    "solver.parameters[\"convergence_criterion\"] = \"incremental\"\n",
    "solver.parameters[\"relative_tolerance\"] = 1e-2"
   ]
  },
  {
   "cell_type": "code",
   "execution_count": null,
   "id": "c4ad9a4d-6dd7-4f88-bbc3-39435fd65e14",
   "metadata": {},
   "outputs": [],
   "source": [
    "t = 0\n",
    "while t < T:\n",
    "    t += dt\n",
    "    w0.vector()[:] = w.vector()\n",
    "    solver.solve(problem, w.vector())\n",
    "\n",
    "    u = w.split()[0]\n",
    "    p = plot(u)\n",
    "    p.set_cmap(\"seismic\")\n",
    "    plt.title(\"w(t = {})\".format(round(t,2)))\n",
    "    plt.colorbar(p)   \n",
    "    #plt.savefig(\"Turing_{}.png\".format(t)) \n",
    "    plt.show()     \n",
    "    \n"
   ]
  },
  {
   "cell_type": "code",
   "execution_count": null,
   "id": "849755ef-7fb9-4348-9b4d-db2ca77dbfb2",
   "metadata": {},
   "outputs": [],
   "source": []
  },
  {
   "cell_type": "code",
   "execution_count": null,
   "id": "16dad871-210d-431a-8425-5c0b6aa4ce29",
   "metadata": {},
   "outputs": [],
   "source": []
  }
 ],
 "metadata": {
  "kernelspec": {
   "display_name": "Python 3 (ipykernel)",
   "language": "python",
   "name": "python3"
  },
  "language_info": {
   "codemirror_mode": {
    "name": "ipython",
    "version": 3
   },
   "file_extension": ".py",
   "mimetype": "text/x-python",
   "name": "python",
   "nbconvert_exporter": "python",
   "pygments_lexer": "ipython3",
   "version": "3.9.7"
  }
 },
 "nbformat": 4,
 "nbformat_minor": 5
}
