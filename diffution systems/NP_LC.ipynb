{
 "cells": [
  {
   "cell_type": "code",
   "execution_count": null,
   "id": "7bac4bb1-dfe7-4961-80d2-129dce1db154",
   "metadata": {},
   "outputs": [],
   "source": [
    "from fenics import *\n",
    "from numpy.random import random\n",
    "set_log_level(30)\n",
    "import matplotlib.pyplot as plt\n",
    "from mshr import *\n",
    "import numpy as np"
   ]
  },
  {
   "cell_type": "code",
   "execution_count": null,
   "id": "fa0b92fd-ad7d-4f80-a727-b7c21aca028f",
   "metadata": {},
   "outputs": [],
   "source": [
    "class TuringPattern(NonlinearProblem):\n",
    "    def __init__(self, a, L):\n",
    "        NonlinearProblem.__init__(self)\n",
    "        self.L = L\n",
    "        self.a = a\n",
    "    def F(self, b, x): assemble(self.L, tensor=b)\n",
    "    def J(self, A, x): assemble(self.a, tensor=A)"
   ]
  },
  {
   "cell_type": "code",
   "execution_count": null,
   "id": "c36931b7-b6b8-4f6c-868c-f309580857bf",
   "metadata": {},
   "outputs": [],
   "source": [
    "p0 = Point(0.0, 0.0)\n",
    "p1 = Point(100, 100)\n",
    "mesh = RectangleMesh(p0, p1, 64, 64)\n",
    "\n",
    "U = FiniteElement(\"CG\", mesh.ufl_cell(), 2)\n",
    "\n",
    "W = FunctionSpace(mesh, U * U)\n",
    "\n",
    "du   = TrialFunction(W)\n",
    "q, p = TestFunctions(W)\n",
    "\n",
    "w = Function(W)\n",
    "w0 =  Function(W)"
   ]
  },
  {
   "cell_type": "code",
   "execution_count": null,
   "id": "ebe8b131-fcd7-4ece-adbc-8d8a59e73559",
   "metadata": {},
   "outputs": [],
   "source": [
    "# Split mixed functions\n",
    "dS, dC = split(du)\n",
    "S, C = split(w)\n",
    "S0, C0 = split(w0)\n",
    "\n",
    "dt = 5\n",
    "T = 1000.0"
   ]
  },
  {
   "cell_type": "code",
   "execution_count": null,
   "id": "30fa406f-bdd0-4d7f-be27-74cbe1dbe980",
   "metadata": {},
   "outputs": [],
   "source": [
    "class IC(UserExpression):\n",
    "    def __init__(self, **kwargs):\n",
    "        super().__init__(**kwargs)\n",
    "    def eval(self, values, x):\n",
    "        values[0] = 1.0*random() +0.25\n",
    "        values[1] = 1.0*random() +0.25\n",
    "    def value_shape(self): return (2,)"
   ]
  },
  {
   "cell_type": "code",
   "execution_count": null,
   "id": "9fb24f8e-f995-4e9b-8d36-7bdc196e461f",
   "metadata": {},
   "outputs": [],
   "source": [
    "w_init = IC(element=W.ufl_element(), degree=2)\n",
    "\n",
    "w.interpolate(w_init)\n",
    "w0.interpolate(w_init)\n",
    "\n",
    "p1 = plot(S0)\n",
    "p1.set_cmap(\"seismic\")\n",
    "plt.title(\"$N$\")\n",
    "plt.colorbar(p1)   \n",
    "plt.show()  \n",
    "\n",
    "p1 = plot(C0)\n",
    "p1.set_cmap(\"gray\")\n",
    "plt.title(\"$P$\")\n",
    "plt.colorbar(p1)   \n",
    "plt.show()"
   ]
  },
  {
   "cell_type": "code",
   "execution_count": null,
   "id": "af5d1d61-a76c-48cb-9cfb-61569f46a488",
   "metadata": {},
   "outputs": [],
   "source": [
    "# Set parameters\n",
    "R = 1.0\n",
    "g = 0.05\n",
    "r = -1.0\n",
    "\n",
    "L0 = S*q -S0*q + inner(grad(S), grad(q))*dt + S*S*S*q*dt + S*C*q*dt + r*S*q*dt\n",
    "L1 = C*p -C0*p + R*inner(grad(C), grad(p))*dt + R*g*inner(grad(S*S), grad(p))*dt\n",
    "L  = (L0 + L1) *dx"
   ]
  },
  {
   "cell_type": "code",
   "execution_count": null,
   "id": "e69f194e-4ec2-4333-9024-69736a1b23f7",
   "metadata": {},
   "outputs": [],
   "source": [
    "# Compute directional derivative about u in the direction of du\n",
    "a = derivative(L, w, du)\n",
    "\n",
    "problem = TuringPattern(a, L)\n",
    "solver = NewtonSolver()\n",
    "solver.parameters[\"linear_solver\"] = \"lu\"\n",
    "solver.parameters[\"convergence_criterion\"] = \"incremental\"\n",
    "solver.parameters[\"relative_tolerance\"] = 1e-1"
   ]
  },
  {
   "cell_type": "code",
   "execution_count": null,
   "id": "a28082e1-e55d-48bc-b45a-6d69a8b3fe27",
   "metadata": {},
   "outputs": [],
   "source": [
    "t = 0\n",
    "while t < T:\n",
    "    t += dt\n",
    "    w0.vector()[:] = w.vector()\n",
    "    solver.solve(problem, w.vector())\n",
    "\n",
    "    print(t)\n",
    "    u = w.split()[0]\n",
    "    p = plot(C)\n",
    "    p.set_cmap(\"seismic\")\n",
    "    plt.title(\"w\")\n",
    "    plt.colorbar(p)\n",
    "    plt.show()   \n",
    "    \n",
    "    p1 = plot(S)\n",
    "    p1.set_cmap(\"gray\")\n",
    "    plt.title(\"$N$\")\n",
    "    plt.colorbar(p1)   \n",
    "    plt.show()  "
   ]
  },
  {
   "cell_type": "code",
   "execution_count": null,
   "id": "cf258685-f164-4c6a-becb-5231e057a01c",
   "metadata": {},
   "outputs": [],
   "source": []
  }
 ],
 "metadata": {
  "kernelspec": {
   "display_name": "Python 3 (ipykernel)",
   "language": "python",
   "name": "python3"
  },
  "language_info": {
   "codemirror_mode": {
    "name": "ipython",
    "version": 3
   },
   "file_extension": ".py",
   "mimetype": "text/x-python",
   "name": "python",
   "nbconvert_exporter": "python",
   "pygments_lexer": "ipython3",
   "version": "3.9.7"
  }
 },
 "nbformat": 4,
 "nbformat_minor": 5
}
