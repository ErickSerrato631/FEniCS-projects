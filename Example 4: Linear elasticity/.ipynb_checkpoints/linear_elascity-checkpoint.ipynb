{
 "cells": [
  {
   "cell_type": "markdown",
   "id": "4369c1d3-bb77-4a63-99fb-b455e4acb2b1",
   "metadata": {},
   "source": [
    "## Model to solve\n",
    "## $-\\nabla \\cdot \\sigma = f \\hspace{0.1cm} in \\Omega$\n",
    "## $\\sigma = \\lambda \\hspace{0.1cm} tr(\\epsilon)\\hspace{0.1cm}I + 2 \\mu \\epsilon$\n",
    "## $\\epsilon = \\frac{1}{2} ( \\nabla u + (\\nabla u )^T )  $\n",
    "## $\\sigma = \\lambda \\hspace{0.1cm}(\\nabla \\cdot u) \\hspace{0.1cm} I + \\mu( \\nabla u + (\\nabla u )^T )   $"
   ]
  },
  {
   "cell_type": "code",
   "execution_count": null,
   "id": "3b6cb914-d232-433a-bd78-43b8ede69553",
   "metadata": {},
   "outputs": [],
   "source": [
    "from fenics import *\n",
    "from ufl import nabla_div"
   ]
  },
  {
   "cell_type": "code",
   "execution_count": null,
   "id": "003ea138-c617-482d-a483-4f2eb3688f3b",
   "metadata": {},
   "outputs": [],
   "source": [
    "# Scaled variables\n",
    "L = 1; W = 0.2\n",
    "mu = 1\n",
    "rho = 1\n",
    "delta = W/L\n",
    "gamma = 0.4*delta**2\n",
    "beta = 1.25\n",
    "lambda_ = beta\n",
    "g = gamma"
   ]
  },
  {
   "cell_type": "code",
   "execution_count": null,
   "id": "aab6142a-5661-4967-a1df-0f4cae077bd3",
   "metadata": {},
   "outputs": [],
   "source": [
    "# Create mesh and define function space\n",
    "mesh = BoxMesh(Point(0, 0, 0), Point(L, W, W), 10, 3, 3)\n",
    "# Save mesh to file in VTK format to visualize( if you need it)\n",
    "vtkfile = File('elasticity/mesh.pvd')\n",
    "vtkfile << mesh\n",
    "V = VectorFunctionSpace(mesh, 'P', 1)"
   ]
  },
  {
   "cell_type": "code",
   "execution_count": null,
   "id": "cb1fc36e-c09a-4b33-a14c-d1dd8966cc9e",
   "metadata": {},
   "outputs": [],
   "source": [
    "# Define boundary condition\n",
    "tol = 1E-14\n",
    "def clamped_boundary(x, on_boundary):\n",
    "    return on_boundary and x[0] < tol\n",
    "bc = DirichletBC(V, Constant((0, 0, 0)), clamped_boundary)"
   ]
  },
  {
   "cell_type": "code",
   "execution_count": null,
   "id": "8d7099e2-3f66-4bf0-8838-d04472839124",
   "metadata": {},
   "outputs": [],
   "source": [
    "# Define strain and stress\n",
    "def epsilon(u):\n",
    "    return 0.5*(nabla_grad(u) + nabla_grad(u).T)\n",
    "    #return sym(nabla_grad(u))"
   ]
  },
  {
   "cell_type": "code",
   "execution_count": null,
   "id": "f779df4a-f8ff-495d-a59f-b7ae45894b3e",
   "metadata": {},
   "outputs": [],
   "source": [
    "def sigma(u):\n",
    "    return lambda_*nabla_div(u)*Identity(d) + 2*mu*epsilon(u)"
   ]
  },
  {
   "cell_type": "code",
   "execution_count": null,
   "id": "83bebfb1-59e2-4185-b792-9a5a4720351a",
   "metadata": {},
   "outputs": [],
   "source": [
    "# Define variational problem\n",
    "u = TrialFunction(V)\n",
    "d = u.geometric_dimension() # space dimension\n",
    "v = TestFunction(V)\n",
    "f = Constant((0, 0, -rho*g))\n",
    "T = Constant((0, 0, 0))\n",
    "a = inner(sigma(u), epsilon(v))*dx\n",
    "L = dot(f, v)*dx + dot(T, v)*ds"
   ]
  },
  {
   "cell_type": "code",
   "execution_count": null,
   "id": "c30f8472-9c6c-40e3-b4b0-8114c76d9951",
   "metadata": {},
   "outputs": [],
   "source": [
    "# Compute solution\n",
    "u = Function(V)\n",
    "solve(a == L, u, bc)\n",
    "vtkfile = File('elasticity/solutions.pvd')\n",
    "vtkfile << u\n"
   ]
  },
  {
   "cell_type": "code",
   "execution_count": null,
   "id": "910c34bc-746a-40fb-ba33-b70f21203618",
   "metadata": {},
   "outputs": [],
   "source": [
    "# Plot stress\n",
    "s = sigma(u) - (1./3)*tr(sigma(u))*Identity(d) # deviatoric stress\n",
    "von_Mises = sqrt(3./2*inner(s, s))\n",
    "V = FunctionSpace(mesh, 'P', 1)\n",
    "von_Mises = project(von_Mises, V)\n",
    "vtkfile = File('elasticity/stress_intensity.pvd')\n",
    "vtkfile << von_Mises"
   ]
  },
  {
   "cell_type": "code",
   "execution_count": null,
   "id": "762b6b5e-c8c6-4e07-b47e-70f6ae049f23",
   "metadata": {},
   "outputs": [],
   "source": [
    "# Compute magnitude of displacement\n",
    "u_magnitude = sqrt(dot(u, u))\n",
    "u_magnitude = project(u_magnitude, V)\n",
    "print('min/max u:',\n",
    "      u_magnitude.vector().get_local().min(),\n",
    "      u_magnitude.vector().get_local().max())\n",
    "\n",
    "vtkfile = File('elasticity/disp_mag.pvd')\n",
    "vtkfile << u_magnitude"
   ]
  },
  {
   "cell_type": "code",
   "execution_count": null,
   "id": "88e3e997-8484-41d6-9522-a11a77e3397b",
   "metadata": {},
   "outputs": [],
   "source": []
  }
 ],
 "metadata": {
  "kernelspec": {
   "display_name": "Python 3 (ipykernel)",
   "language": "python",
   "name": "python3"
  },
  "language_info": {
   "codemirror_mode": {
    "name": "ipython",
    "version": 3
   },
   "file_extension": ".py",
   "mimetype": "text/x-python",
   "name": "python",
   "nbconvert_exporter": "python",
   "pygments_lexer": "ipython3",
   "version": "3.9.7"
  }
 },
 "nbformat": 4,
 "nbformat_minor": 5
}
