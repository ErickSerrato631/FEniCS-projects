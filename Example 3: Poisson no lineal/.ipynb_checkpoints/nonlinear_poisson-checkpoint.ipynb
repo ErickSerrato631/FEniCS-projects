{
 "cells": [
  {
   "cell_type": "markdown",
   "id": "3a48b368-1ef6-4be7-b405-c3e1eb020081",
   "metadata": {},
   "source": [
    "# Solving the equation\n",
    "## $-\\nabla \\cdot ( q(u) \\nabla u ) = f$"
   ]
  },
  {
   "cell_type": "code",
   "execution_count": null,
   "id": "7923eb1d-ea71-4383-9802-ef7eaced1b64",
   "metadata": {},
   "outputs": [],
   "source": [
    "from fenics import *\n",
    "import matplotlib.pyplot as plt\n",
    "import sympy as sym\n",
    "import numpy as np"
   ]
  },
  {
   "cell_type": "code",
   "execution_count": null,
   "id": "f10a6fd4-c8b4-42ff-8c34-ef0ac89f1381",
   "metadata": {},
   "outputs": [],
   "source": [
    "def q(u):\n",
    "    \"Return nonlinear coefficient\"\n",
    "    return 1 + u**2"
   ]
  },
  {
   "cell_type": "code",
   "execution_count": null,
   "id": "2b7e46c0-0b27-42bd-8551-f9acb5df00f2",
   "metadata": {},
   "outputs": [],
   "source": [
    "# Use SymPy to compute f from the manufactured solution u\n",
    "x, y = sym.symbols('x[0], x[1]')\n",
    "u = 1 + x + 2*y\n",
    "f = - sym.diff(q(u)*sym.diff(u, x), x) - sym.diff(q(u)*sym.diff(u, y), y)\n",
    "f = sym.simplify(f)\n",
    "u_code = sym.printing.ccode(u)\n",
    "f_code = sym.printing.ccode(f)\n",
    "print('u =', u_code)\n",
    "print('f =', f_code)"
   ]
  },
  {
   "cell_type": "code",
   "execution_count": null,
   "id": "d53ba527-7d70-4ff0-9706-6cb3145414f5",
   "metadata": {},
   "outputs": [],
   "source": [
    "# Create mesh and define function space\n",
    "mesh = UnitSquareMesh(16, 16)\n",
    "V = FunctionSpace(mesh, 'P', 1)\n",
    "u = Function(V)  # Note: not TrialFunction!\n",
    "v = TestFunction(V)"
   ]
  },
  {
   "cell_type": "code",
   "execution_count": null,
   "id": "e6bc8ec6-36ec-4898-b350-a1423f1f801b",
   "metadata": {},
   "outputs": [],
   "source": [
    "def boundary(x, on_boundary):\n",
    "    return on_boundary\n",
    "\n",
    "# Define boundary condition\n",
    "u_D = Expression(u_code, degree=2)\n",
    "bc = DirichletBC(V, u_D, boundary)"
   ]
  },
  {
   "cell_type": "code",
   "execution_count": null,
   "id": "d54b775a-eb8f-4192-b64c-d59a5f8e136c",
   "metadata": {},
   "outputs": [],
   "source": [
    "# Define variational problem\n",
    "f = Expression(f_code, degree=2)\n",
    "F = q(u)*dot(grad(u), grad(v))*dx - f*v*dx\n",
    "# Compute solution\n",
    "solve(F == 0, u, bc)"
   ]
  },
  {
   "cell_type": "code",
   "execution_count": null,
   "id": "618998f4-c8b1-438d-9e07-211de5cd24a4",
   "metadata": {},
   "outputs": [],
   "source": [
    "# Plot solution\n",
    "p = plot(u)\n",
    "p.set_cmap(\"seismic\")\n",
    "plt.title(\"Poisson solution\")\n",
    "plt.colorbar(p)\n",
    "plot(mesh)\n",
    "plt.savefig('u.png')\n",
    "plt.show()\n"
   ]
  },
  {
   "cell_type": "code",
   "execution_count": null,
   "id": "f5642288-a5e9-4d7c-845d-7970a0fe1151",
   "metadata": {},
   "outputs": [],
   "source": [
    "# Compute maximum error at vertices. This computation illustrates\n",
    "# an alternative to using compute_vertex_values as in poisson.py.\n",
    "u_e = interpolate(u_D, V)\n",
    "error_max = np.abs(u_e.vector().get_local() - u.vector().get_local()).max()\n",
    "print('error_max = ', error_max)"
   ]
  },
  {
   "cell_type": "code",
   "execution_count": null,
   "id": "cb7ad391-6ff3-45e3-a81e-13080af9e71a",
   "metadata": {},
   "outputs": [],
   "source": []
  }
 ],
 "metadata": {
  "kernelspec": {
   "display_name": "Python 3 (ipykernel)",
   "language": "python",
   "name": "python3"
  },
  "language_info": {
   "codemirror_mode": {
    "name": "ipython",
    "version": 3
   },
   "file_extension": ".py",
   "mimetype": "text/x-python",
   "name": "python",
   "nbconvert_exporter": "python",
   "pygments_lexer": "ipython3",
   "version": "3.9.7"
  }
 },
 "nbformat": 4,
 "nbformat_minor": 5
}
