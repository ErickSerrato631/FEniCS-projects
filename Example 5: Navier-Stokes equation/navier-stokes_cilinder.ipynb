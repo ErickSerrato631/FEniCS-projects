{
 "cells": [
  {
   "cell_type": "markdown",
   "id": "e4060932-62a0-445f-86f8-fe20cd1175a7",
   "metadata": {},
   "source": [
    "# Incompressible Navier-Stokes \n",
    "### $\\rho (\\frac{\\partial u}{\\partial t} + u \\cdot \\nabla u ) = \\nabla \\cdot \\sigma (u,p) + f $\n",
    "###    $\\hspace{3cm}$        $\\nabla \\cdot u =0$\n",
    "## Were the stress tensor:\n",
    "### $\\hspace{3cm}$ $\\sigma(u,p)= 2\\mu \\epsilon (u) -pI$ \n",
    "### and deformation tensor \n",
    "### $\\hspace{3cm}$ $\\epsilon (u) = \\frac{1}{2}(\\nabla u + (\\nabla u)^T)$\n"
   ]
  },
  {
   "cell_type": "code",
   "execution_count": null,
   "id": "ff556e2b-4c8c-44b0-8df2-695193a9d020",
   "metadata": {},
   "outputs": [],
   "source": [
    "from fenics import *\n",
    "from mshr import *\n",
    "import numpy as np\n",
    "import matplotlib.pyplot as plt\n",
    "%matplotlib inline"
   ]
  },
  {
   "cell_type": "code",
   "execution_count": null,
   "id": "6c5612b8-c133-40c3-9f2e-c2a1088e8125",
   "metadata": {},
   "outputs": [],
   "source": [
    "channel = Rectangle(Point(0, 0), Point(2.2, 0.41))\n",
    "cylinder = Circle(Point(0.2, 0.2), 0.05, 16)\n",
    "domain = channel - cylinder\n",
    "mesh = generate_mesh(domain, 128)\n",
    "plot(mesh)\n",
    "File('navier_stokes_cylinder/cylinder.pvd') << mesh"
   ]
  },
  {
   "cell_type": "code",
   "execution_count": null,
   "id": "ee102359-223e-4cb3-ae30-1e9e1fc579f7",
   "metadata": {},
   "outputs": [],
   "source": [
    "# Define function spaces\n",
    "V = VectorFunctionSpace(mesh, 'P', 2)\n",
    "Q = FunctionSpace(mesh, 'P', 1)"
   ]
  },
  {
   "cell_type": "code",
   "execution_count": null,
   "id": "2ddf8782-a957-4f4d-8519-636966ab6c9d",
   "metadata": {},
   "outputs": [],
   "source": [
    "inflow   = 'near(x[0], 0)'\n",
    "outflow  = 'near(x[0], 2.2)'\n",
    "walls    = 'near(x[1], 0) || near(x[1], 0.41)'\n",
    "cylinder = 'on_boundary && x[0]>0.1 && x[0]<0.3 && x[1]>0.1 && x[1]<0.3'"
   ]
  },
  {
   "cell_type": "code",
   "execution_count": null,
   "id": "c3e702ff-11b8-4826-b98d-019bb138d3b1",
   "metadata": {},
   "outputs": [],
   "source": [
    "# Define inflow profile\n",
    "inflow_profile = ('4.0*1.5*x[1]*(0.41 - x[1]) / pow(0.41, 2)', '0')\n",
    "\n",
    "# Define boundary conditions\n",
    "bcu_inflow = DirichletBC(V, Expression(inflow_profile, degree=2), inflow)\n",
    "bcu_walls = DirichletBC(V, Constant((0, 0)), walls)\n",
    "bcu_cylinder = DirichletBC(V, Constant((0, 0)), cylinder)\n",
    "bcp_outflow = DirichletBC(Q, Constant(0), outflow)\n",
    "bcu = [bcu_inflow, bcu_walls, bcu_cylinder]\n",
    "bcp = [bcp_outflow]"
   ]
  },
  {
   "cell_type": "code",
   "execution_count": null,
   "id": "3f6c67a4-9191-4409-9042-0d4f7bad0e01",
   "metadata": {},
   "outputs": [],
   "source": [
    "mu = 0.001         # dynamic viscosity\n",
    "rho = 1            # density\n",
    "\n",
    "T = 5.0            # final time\n",
    "num_steps = 5000   # number of time steps\n",
    "dt = T / num_steps # time step size"
   ]
  },
  {
   "cell_type": "code",
   "execution_count": null,
   "id": "8586b590-b706-469d-bdf2-fd6aeb4e9b0e",
   "metadata": {},
   "outputs": [],
   "source": [
    "# Define trial and test functions\n",
    "u = TrialFunction(V)\n",
    "v = TestFunction(V)\n",
    "p = TrialFunction(Q)\n",
    "q = TestFunction(Q)\n",
    "\n",
    "# Define symmetric gradient\n",
    "def epsilon(u):\n",
    "    return sym(nabla_grad(u))\n",
    "\n",
    "# Define stress tensor\n",
    "def sigma(u, p):\n",
    "    return 2*mu*epsilon(u) - p*Identity(len(u))\n",
    "\n",
    "# Define functions for solutions at previous and current time steps\n",
    "u_k = Function(V)\n",
    "u_  = Function(V)\n",
    "\n",
    "p_k = Function(Q)\n",
    "p_  = Function(Q)\n",
    "\n",
    "# Define expressions used in variational forms\n",
    "f  = Constant((0, 0))\n",
    "DT = Constant(dt)\n",
    "mu = Constant(mu)\n",
    "\n",
    "u_mid  = 0.5*(u_k + u)\n",
    "n  = FacetNormal(mesh)\n",
    "\n",
    "# Define variational problem for step 1\n",
    "F1 = rho*dot((u - u_k) / DT, v)*dx \\\n",
    "   + rho*dot(dot(u_k, nabla_grad(u_k)), v)*dx \\\n",
    "   + inner(sigma(u_mid, p_k), epsilon(v))*dx \\\n",
    "   + dot(p_k*n, v)*ds - dot(mu*nabla_grad(u_mid)*n, v)*ds \\\n",
    "   - dot(f, v)*dx\n",
    "\n",
    "a1 = lhs(F1)\n",
    "L1 = rhs(F1)\n",
    "A1 = assemble(a1)\n",
    "[bc.apply(A1) for bc in bcu]\n",
    "\n",
    "# Define variational problem for step 2\n",
    "a2 = dot(nabla_grad(p), nabla_grad(q))*dx\n",
    "L2 = dot(nabla_grad(p_k), nabla_grad(q))*dx - (1/DT)*div(u_)*q*dx\n",
    "A2 = assemble(a2)\n",
    "[bc.apply(A2) for bc in bcp]\n",
    "\n",
    "# Define variational problem for step 3\n",
    "a3 = dot(u, v)*dx\n",
    "L3 = dot(u_, v)*dx - DT*dot(nabla_grad(p_ - p_k), v)*dx\n",
    "A3 = assemble(a3)"
   ]
  },
  {
   "cell_type": "code",
   "execution_count": null,
   "id": "12be2517-1e1a-444b-8e95-c187a3e22a40",
   "metadata": {},
   "outputs": [],
   "source": [
    "progress = Progress('Time-stepping')\n",
    "set_log_level(LogLevel.PROGRESS)"
   ]
  },
  {
   "cell_type": "code",
   "execution_count": null,
   "id": "74ed9526-ceab-44af-bc8b-2cd9f262ee18",
   "metadata": {},
   "outputs": [],
   "source": [
    "if 'HDF5File' in globals():\n",
    "    # Use XDMF files\n",
    "    xdmffile_u = XDMFFile('navier_stokes_cylinder/velocity.xdmf')\n",
    "    xdmffile_p = XDMFFile('navier_stokes_cylinder/pressure.xdmf')\n",
    "else:\n",
    "    vtkfile_u = File('navier_stokes_cylinder/velocity.pvd')\n",
    "    vtkfile_p = File('navier_stokes_cylinder/pressure.pvd')"
   ]
  },
  {
   "cell_type": "code",
   "execution_count": null,
   "id": "24f1fdc8-8170-4f9d-ad95-35cee7703ef0",
   "metadata": {},
   "outputs": [],
   "source": [
    "if 'HDF5File' in globals():\n",
    "    # Create time series (for use in reaction_system.py)\n",
    "    timeseries_u = TimeSeries('navier_stokes_cylinder/velocity_series')\n",
    "    timeseries_p = TimeSeries('navier_stokes_cylinder/pressure_series')"
   ]
  },
  {
   "cell_type": "code",
   "execution_count": null,
   "id": "e109b28d-c417-4397-8c30-664748293b3d",
   "metadata": {},
   "outputs": [],
   "source": [
    "import sys\n",
    "\n",
    "out_interval = num_steps / 100;\n",
    "\n",
    "# Time-stepping\n",
    "vtkfile_u = File(\"cilinder/velocity.pvd\")\n",
    "vtkfile_p = File(\"cilinder/pressure.pvd\")\n",
    "t = 0\n",
    "for k in range(1,num_steps+1):\n",
    "    # Update current time\n",
    "    t += dt\n",
    "\n",
    "    # Step 1: Tentative velocity step\n",
    "    b1 = assemble(L1)\n",
    "    [bc.apply(b1) for bc in bcu]\n",
    "    solve(A1, u_.vector(), b1, 'bicgstab', 'ilu')\n",
    "\n",
    "    # Step 2: Pressure correction step\n",
    "    b2 = assemble(L2)\n",
    "    [bc.apply(b2) for bc in bcp]\n",
    "    solve(A2, p_.vector(), b2, 'bicgstab', 'ilu')\n",
    "\n",
    "    # Step 3: Velocity correction step\n",
    "    b3 = assemble(L3)\n",
    "    solve(A3, u_.vector(), b3, 'cg', 'sor')\n",
    "\n",
    "    # Plot solution\n",
    "    p = plot(p_)\n",
    "    p.set_cmap(\"seismic\")\n",
    "    plt.title(\"Pressure\")\n",
    "    plt.colorbar(p)\n",
    "    plt.show()\n",
    "    \n",
    "    p = plot(u_)\n",
    "    plt.title(\"Velocity\")\n",
    "    plt.colorbar(p)\n",
    "    plt.show()\n",
    "    \n",
    "    plot(u_, title='Velocity')\n",
    "    plot(p_, title='Pressure')\n",
    "\n",
    "    if k%out_interval ==0 or k==num_steps:\n",
    "        print('u max:', u_.vector().max())\n",
    "\n",
    "\n",
    "    vtkfile_u << (u_, t)\n",
    "    vtkfile_p << (p_, t)\n",
    "\n",
    "    # Update previous solution\n",
    "    u_k.assign(u_)\n",
    "    p_k.assign(p_)\n",
    "\n",
    "    # Update progress bar\n",
    "    #progress.update(t / T)\n",
    "    \n"
   ]
  },
  {
   "cell_type": "code",
   "execution_count": null,
   "id": "cd326b52-bbf7-45a2-9b26-a87fe2edda40",
   "metadata": {},
   "outputs": [],
   "source": []
  }
 ],
 "metadata": {
  "kernelspec": {
   "display_name": "Python 3 (ipykernel)",
   "language": "python",
   "name": "python3"
  },
  "language_info": {
   "codemirror_mode": {
    "name": "ipython",
    "version": 3
   },
   "file_extension": ".py",
   "mimetype": "text/x-python",
   "name": "python",
   "nbconvert_exporter": "python",
   "pygments_lexer": "ipython3",
   "version": "3.9.7"
  }
 },
 "nbformat": 4,
 "nbformat_minor": 5
}
